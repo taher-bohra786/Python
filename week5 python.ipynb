{
 "cells": [
  {
   "cell_type": "markdown",
   "id": "feb82636-d04a-4ddb-9e75-b16ef2ff1f75",
   "metadata": {},
   "source": [
    "WORKING WITH FILES"
   ]
  },
  {
   "cell_type": "markdown",
   "id": "d70dc716-6e59-4817-81d1-ab8e0e98b3bb",
   "metadata": {},
   "source": [
    "f = open(\"test.txt\" , 'w')"
   ]
  },
  {
   "cell_type": "code",
   "execution_count": 11,
   "id": "b424e372-f585-4afa-ba45-27c2f5fd4461",
   "metadata": {},
   "outputs": [
    {
     "data": {
      "text/plain": [
       "'/home/jovyan/work'"
      ]
     },
     "execution_count": 11,
     "metadata": {},
     "output_type": "execute_result"
    }
   ],
   "source": [
    "pwd"
   ]
  },
  {
   "cell_type": "code",
   "execution_count": 12,
   "id": "344dc69b-42ce-499d-ba4e-2a14677f03b4",
   "metadata": {},
   "outputs": [
    {
     "name": "stdout",
     "output_type": "stream",
     "text": [
      " test.txt             'week 3 ass.ipynb'    'week4 ass p2.ipynb'\n",
      "'week1 python.ipynb'  'week3 ass p1.ipynb'  'week4 ass p3.ipynb'\n",
      "'week 2 ass.ipynb'    'week3 ass p2.ipynb'  'week4 python.ipynb'\n",
      "'week2 ass.ipynb'     'week3 python.ipynb'  'week5 python.ipynb'\n",
      "'week2 python.ipynb'  'week4 ass p1.ipynb'\n"
     ]
    }
   ],
   "source": [
    "ls"
   ]
  },
  {
   "cell_type": "code",
   "execution_count": 13,
   "id": "3cf6bec7-87c5-4c66-9275-4134feb3b4cd",
   "metadata": {},
   "outputs": [
    {
     "data": {
      "text/plain": [
       "30"
      ]
     },
     "execution_count": 13,
     "metadata": {},
     "output_type": "execute_result"
    }
   ],
   "source": [
    "f.write(\"This is my first file to write\")"
   ]
  },
  {
   "cell_type": "code",
   "execution_count": 14,
   "id": "19f00d28-19ac-4ec7-8e75-7338d9f63faf",
   "metadata": {},
   "outputs": [],
   "source": [
    "f.close()"
   ]
  },
  {
   "cell_type": "code",
   "execution_count": 15,
   "id": "4f7eeb33-af84-44aa-9a16-55dd2b4392b7",
   "metadata": {},
   "outputs": [],
   "source": [
    "f = open(\"test.txt\" , 'a')"
   ]
  },
  {
   "cell_type": "code",
   "execution_count": 16,
   "id": "d4e94f8f-3b0c-4bf0-85ab-f274d87e2548",
   "metadata": {},
   "outputs": [
    {
     "data": {
      "text/plain": [
       "31"
      ]
     },
     "execution_count": 16,
     "metadata": {},
     "output_type": "execute_result"
    }
   ],
   "source": [
    "f.write(\"/n Taher the great....Thank you\")"
   ]
  },
  {
   "cell_type": "code",
   "execution_count": 17,
   "id": "68ed7458-ce63-4515-ab67-f2c728d110a7",
   "metadata": {},
   "outputs": [],
   "source": [
    "f.close()"
   ]
  },
  {
   "cell_type": "code",
   "execution_count": 18,
   "id": "496c79b6-9cdd-4d07-9ea2-20044bb50995",
   "metadata": {},
   "outputs": [],
   "source": [
    "w = open(\"test.txt\" , 'r')"
   ]
  },
  {
   "cell_type": "code",
   "execution_count": 19,
   "id": "5494339a-8919-40cd-aa60-6a9fbd1ec1e2",
   "metadata": {},
   "outputs": [
    {
     "data": {
      "text/plain": [
       "'This is my first file to write/n Taher the great....Thank you'"
      ]
     },
     "execution_count": 19,
     "metadata": {},
     "output_type": "execute_result"
    }
   ],
   "source": [
    "w.read()"
   ]
  },
  {
   "cell_type": "code",
   "execution_count": 20,
   "id": "a6d25685-2561-4c79-af13-92b94e5f2769",
   "metadata": {},
   "outputs": [
    {
     "data": {
      "text/plain": [
       "0"
      ]
     },
     "execution_count": 20,
     "metadata": {},
     "output_type": "execute_result"
    }
   ],
   "source": [
    "w.seek(0)"
   ]
  },
  {
   "cell_type": "code",
   "execution_count": 21,
   "id": "356e8e96-c7ec-4f5b-b95d-6c34840bcee7",
   "metadata": {},
   "outputs": [
    {
     "data": {
      "text/plain": [
       "'This is my first file to write/n Taher the great....Thank you'"
      ]
     },
     "execution_count": 21,
     "metadata": {},
     "output_type": "execute_result"
    }
   ],
   "source": [
    "w.readline()"
   ]
  },
  {
   "cell_type": "code",
   "execution_count": 22,
   "id": "e80e3af1-41df-4df0-a862-c957b7125c51",
   "metadata": {},
   "outputs": [],
   "source": [
    "w1 = open(\"test.txt\", 'r')"
   ]
  },
  {
   "cell_type": "code",
   "execution_count": 23,
   "id": "6a72fc6f-2280-456c-9e35-443bcf447142",
   "metadata": {},
   "outputs": [
    {
     "name": "stdout",
     "output_type": "stream",
     "text": [
      "This is my first file to write/n Taher the great....Thank you\n"
     ]
    }
   ],
   "source": [
    "for i in w1:\n",
    "    print(i)"
   ]
  },
  {
   "cell_type": "code",
   "execution_count": 24,
   "id": "b2f9cf9b-c9cc-4567-be96-8219ee796028",
   "metadata": {},
   "outputs": [],
   "source": [
    "import os "
   ]
  },
  {
   "cell_type": "code",
   "execution_count": 25,
   "id": "66cebacb-9437-4b2e-b808-ee7a12d12bc4",
   "metadata": {},
   "outputs": [
    {
     "data": {
      "text/plain": [
       "61"
      ]
     },
     "execution_count": 25,
     "metadata": {},
     "output_type": "execute_result"
    }
   ],
   "source": [
    "os.path.getsize(\"test.txt\")"
   ]
  },
  {
   "cell_type": "code",
   "execution_count": 26,
   "id": "e72f731d-780c-4da5-b560-43210b2302b4",
   "metadata": {},
   "outputs": [],
   "source": [
    "os.remove(\"test.txt\")"
   ]
  },
  {
   "cell_type": "code",
   "execution_count": 30,
   "id": "6b3c8678-8fff-4ebd-81d4-22260cdc6767",
   "metadata": {},
   "outputs": [],
   "source": [
    "f = open(\"test1.txt\" , \"w\")"
   ]
  },
  {
   "cell_type": "code",
   "execution_count": 31,
   "id": "1fad5846-881e-4ccd-992c-c28463dbfcd7",
   "metadata": {},
   "outputs": [
    {
     "data": {
      "text/plain": [
       "38"
      ]
     },
     "execution_count": 31,
     "metadata": {},
     "output_type": "execute_result"
    }
   ],
   "source": [
    "f.write(\"UYYUDiuadiIU FJOSNKNSFSOF OSFHOSFHSOFB\")"
   ]
  },
  {
   "cell_type": "code",
   "execution_count": 32,
   "id": "a8a21a9e-89ee-415f-8ef2-f446da0a6d5e",
   "metadata": {},
   "outputs": [],
   "source": [
    "f.close()"
   ]
  },
  {
   "cell_type": "code",
   "execution_count": 33,
   "id": "450512b4-b3fb-41a6-baaf-1f26c6b83604",
   "metadata": {},
   "outputs": [],
   "source": [
    "f = open(\"test1.txt\" , \"a\")"
   ]
  },
  {
   "cell_type": "code",
   "execution_count": 34,
   "id": "74727535-a945-4c91-acb6-bcae3cb216b5",
   "metadata": {},
   "outputs": [
    {
     "data": {
      "text/plain": [
       "28"
      ]
     },
     "execution_count": 34,
     "metadata": {},
     "output_type": "execute_result"
    }
   ],
   "source": [
    "f.write(\"fDgegaaef afaegrv aweFERZCX \")"
   ]
  },
  {
   "cell_type": "code",
   "execution_count": 35,
   "id": "f956b2be-d6b1-44b7-b306-ad8885f0afcf",
   "metadata": {},
   "outputs": [],
   "source": [
    "f.close()"
   ]
  },
  {
   "cell_type": "code",
   "execution_count": 36,
   "id": "fb8a83e6-fdd0-4e67-8bf8-1ab74a2777f0",
   "metadata": {},
   "outputs": [],
   "source": [
    "os.replace(\"test1.txt\" , \"newtest.txt\")"
   ]
  },
  {
   "cell_type": "code",
   "execution_count": 37,
   "id": "29d6758f-f442-4fea-8541-5d659d951d00",
   "metadata": {},
   "outputs": [],
   "source": [
    "import shutil"
   ]
  },
  {
   "cell_type": "code",
   "execution_count": 38,
   "id": "67dcbe1f-de02-4673-8964-24228da290fa",
   "metadata": {},
   "outputs": [
    {
     "data": {
      "text/plain": [
       "'copytest.txt'"
      ]
     },
     "execution_count": 38,
     "metadata": {},
     "output_type": "execute_result"
    }
   ],
   "source": [
    "shutil.copy(\"newtest.txt\" , \"copytest.txt\")"
   ]
  },
  {
   "cell_type": "code",
   "execution_count": 40,
   "id": "195e4afa-435d-4b60-88e0-82ace1edddb5",
   "metadata": {},
   "outputs": [
    {
     "name": "stdout",
     "output_type": "stream",
     "text": [
      "UYYUDiuadiIU FJOSNKNSFSOF OSFHOSFHSOFBfDgegaaef afaegrv aweFERZCX \n"
     ]
    }
   ],
   "source": [
    "with open(\"newtest.txt\") as f:\n",
    "    print(f.read())"
   ]
  },
  {
   "cell_type": "markdown",
   "id": "dfc500fe-8bed-4bb7-866c-1eb3d97ccece",
   "metadata": {},
   "source": [
    "File Reading amd writing "
   ]
  },
  {
   "cell_type": "code",
   "execution_count": 7,
   "id": "e941d085-9e53-43c3-8bdc-79cea5423b59",
   "metadata": {},
   "outputs": [],
   "source": [
    "data = {\n",
    "    \"name\":\"Taher\" , \n",
    "    \"mail_id\": \"therbohra@gmail.com\",\n",
    "    \"phone_no\": 454252452,\n",
    "    \"subject\":['Data science' , 'Angular Js' , 'Digital Marketing']}"
   ]
  },
  {
   "cell_type": "code",
   "execution_count": 9,
   "id": "a09a1fce-7267-4df8-b87c-1238a9b7ca31",
   "metadata": {},
   "outputs": [],
   "source": [
    "import json"
   ]
  },
  {
   "cell_type": "code",
   "execution_count": 14,
   "id": "d4112dbf-0e89-4c68-8359-8a14b18fe2c5",
   "metadata": {},
   "outputs": [],
   "source": [
    "with open(\"data.json\" , \"w\") as f:\n",
    "    json.dump(data , f)               #Dump is used to write in json file"
   ]
  },
  {
   "cell_type": "code",
   "execution_count": 15,
   "id": "dc1f1613-ab34-4a2e-b01d-e29028cf8b9b",
   "metadata": {},
   "outputs": [],
   "source": [
    "with open(\"data.json\" , \"r\") as f:\n",
    "    data1 = json.load(f)             #load is used to read the json file"
   ]
  },
  {
   "cell_type": "code",
   "execution_count": 16,
   "id": "6ef8f585-3f4f-4c1f-9a05-7f496ceeb1fb",
   "metadata": {},
   "outputs": [
    {
     "data": {
      "text/plain": [
       "{'name': 'Taher',\n",
       " 'mail_id': 'therbohra@gmail.com',\n",
       " 'phone_no': 454252452,\n",
       " 'subject': ['Data science', 'Angular Js', 'Digital Marketing']}"
      ]
     },
     "execution_count": 16,
     "metadata": {},
     "output_type": "execute_result"
    }
   ],
   "source": [
    "data1"
   ]
  },
  {
   "cell_type": "code",
   "execution_count": 17,
   "id": "e165a092-59bd-4b6a-a44c-52e4ebef55b4",
   "metadata": {},
   "outputs": [
    {
     "data": {
      "text/plain": [
       "'Angular Js'"
      ]
     },
     "execution_count": 17,
     "metadata": {},
     "output_type": "execute_result"
    }
   ],
   "source": [
    "data1['subject'][1]"
   ]
  },
  {
   "cell_type": "code",
   "execution_count": 24,
   "id": "40ee7134-dd89-4381-8a13-0a60b1f9f6d7",
   "metadata": {},
   "outputs": [],
   "source": [
    "import csv         #csv is used to stored the data in a tabular form....here we have maked the file "
   ]
  },
  {
   "cell_type": "code",
   "execution_count": 25,
   "id": "d64511d9-e6a0-450a-809a-ea6d09c0b1f8",
   "metadata": {},
   "outputs": [],
   "source": [
    "data = [[\"name\" , \"email\" , \"phone_no\"],\n",
    "         [\"Taher\" , \"taherbohra@gmailcom\" , 34542252],\n",
    "        [\"Ahmed\" , \"ahmed@gmail.com\" , 656366],\n",
    "        [\"Taha\" , \"taha@gmail.com\", 353523]\n",
    "       ]"
   ]
  },
  {
   "cell_type": "code",
   "execution_count": 26,
   "id": "dff78b26-6797-4a63-beba-b015ade49b5f",
   "metadata": {},
   "outputs": [],
   "source": [
    "with open(\"data.csv\" , \"w\") as f:\n",
    "    writer = csv.writer(f)\n",
    "    \n",
    "    for i in data:\n",
    "        writer.writerow(i)"
   ]
  },
  {
   "cell_type": "code",
   "execution_count": 31,
   "id": "fb75ddb6-5e57-4d4f-a8f8-5cd8eb577cba",
   "metadata": {},
   "outputs": [
    {
     "name": "stdout",
     "output_type": "stream",
     "text": [
      "['name', 'email', 'phone_no']\n",
      "['Taher', 'taherbohra@gmailcom', '34542252']\n",
      "['Ahmed', 'ahmed@gmail.com', '656366']\n",
      "['Taha', 'taha@gmail.com', '353523']\n"
     ]
    }
   ],
   "source": [
    "with open(\"data.csv\" , \"r\") as f:\n",
    "    read_data = csv.reader(f)\n",
    "    \n",
    "    for i in read_data:\n",
    "        print(i)"
   ]
  },
  {
   "cell_type": "code",
   "execution_count": 38,
   "id": "47003af6-a4c2-463b-87b8-8f4bb5178c80",
   "metadata": {},
   "outputs": [],
   "source": [
    "with open(\"text4.bin\" , \"wb\") as f:\n",
    "    f.write(b\"\\x01\\x02\\x03\\x35425hiuhiuhiu\")"
   ]
  },
  {
   "cell_type": "code",
   "execution_count": 39,
   "id": "dff8cb3e-5d27-418d-99a1-81ef3236380d",
   "metadata": {},
   "outputs": [
    {
     "name": "stdout",
     "output_type": "stream",
     "text": [
      "b'\\x01\\x02\\x035425hiuhiuhiu'\n"
     ]
    }
   ],
   "source": [
    "with open(\"text4.bin\", \"rb\") as f:\n",
    "    print(f.read())"
   ]
  },
  {
   "cell_type": "markdown",
   "id": "269276a0-ecae-4975-9170-aadb5cceafc5",
   "metadata": {},
   "source": [
    "BUFFERED READ AND WRITE"
   ]
  },
  {
   "cell_type": "code",
   "execution_count": 1,
   "id": "d238edc3-86c5-41a0-98d4-004b6105e136",
   "metadata": {},
   "outputs": [],
   "source": [
    "import io"
   ]
  },
  {
   "cell_type": "code",
   "execution_count": 3,
   "id": "f9069b3f-ef90-4381-af94-33fff00b19f0",
   "metadata": {},
   "outputs": [],
   "source": [
    "with open(\"test1.txt\",\"wb\") as f:\n",
    "    file = io.BufferedWriter(f)\n",
    "    \n",
    "    file.write(b\"This is my first line\")\n",
    "    file.write(b\"\\nthis is my second line\")\n",
    "    file.flush()                           #flush is same as close()"
   ]
  },
  {
   "cell_type": "code",
   "execution_count": 10,
   "id": "6dbd8f84-1c4d-4c7b-b42d-7880d0e19672",
   "metadata": {},
   "outputs": [],
   "source": [
    "with open(\"test1.txt\",\"rb\") as f:\n",
    "    file=io.BufferedReader(f)\n",
    "    \n",
    "    d=file.read()"
   ]
  },
  {
   "cell_type": "code",
   "execution_count": 11,
   "id": "f031da65-14b5-48bd-8da7-a3a79abecea2",
   "metadata": {},
   "outputs": [
    {
     "name": "stdout",
     "output_type": "stream",
     "text": [
      "b'This is my first line\\nthis is my second line'\n"
     ]
    }
   ],
   "source": [
    "print(d)"
   ]
  },
  {
   "cell_type": "markdown",
   "id": "09d6afc6-16a7-4190-bdb9-a79886614bfd",
   "metadata": {},
   "source": [
    "Logging And Debugger"
   ]
  },
  {
   "cell_type": "code",
   "execution_count": 14,
   "id": "2554d964-0e47-46c4-a9d1-513862706c3a",
   "metadata": {},
   "outputs": [
    {
     "name": "stdout",
     "output_type": "stream",
     "text": [
      "This is my print\n"
     ]
    }
   ],
   "source": [
    "print(\"This is my print\")  #we should not use print...this is the best practice...instead of using print we should logging module "
   ]
  },
  {
   "cell_type": "code",
   "execution_count": 35,
   "id": "482f74df-385c-40c3-9f39-dc94353eff99",
   "metadata": {},
   "outputs": [],
   "source": [
    "import logging"
   ]
  },
  {
   "cell_type": "code",
   "execution_count": 36,
   "id": "64af43b3-c434-4088-98a7-095f684b46ac",
   "metadata": {},
   "outputs": [],
   "source": [
    "logging.basicConfig(filename = \"test.log\", level = logging.INFO)"
   ]
  },
  {
   "cell_type": "code",
   "execution_count": 37,
   "id": "fd8a6655-5d8d-43b6-b115-d4121600abd8",
   "metadata": {},
   "outputs": [],
   "source": [
    "logging.info(\"log this line of execution\")"
   ]
  },
  {
   "cell_type": "code",
   "execution_count": 38,
   "id": "74380da2-b19f-4e16-b721-7eeb9d70749e",
   "metadata": {},
   "outputs": [],
   "source": [
    "logging.info(\"This is my print\")"
   ]
  },
  {
   "cell_type": "markdown",
   "id": "a37fa2e3-24ad-40d2-a067-57887f1e2549",
   "metadata": {},
   "source": [
    "LEVELS OF LOGGING\n",
    "1. NOTSET\n",
    "2. DEBUG\n",
    "3. INFO\n",
    "4. WARNING\n",
    "5. ERROR\n",
    "6. CRITICAL\n",
    "     Now in this, as above we have taken level info...so we can now only access level fro 3 to 6...we cannot access 1 & 2 i.e. , notset and debug "
   ]
  },
  {
   "cell_type": "code",
   "execution_count": 39,
   "id": "918c0792-40ee-4cac-8e8f-2dfae15b3291",
   "metadata": {},
   "outputs": [],
   "source": [
    "logging.warning(\"This is my warning\")"
   ]
  },
  {
   "cell_type": "code",
   "execution_count": 40,
   "id": "aa1df941-c2fd-4d32-811f-41784b9f3fdd",
   "metadata": {},
   "outputs": [],
   "source": [
    "logging.error(\"This is y error\")"
   ]
  },
  {
   "cell_type": "code",
   "execution_count": 41,
   "id": "04adf369-0658-41ea-950f-3eb5333c812f",
   "metadata": {},
   "outputs": [],
   "source": [
    "logging.critical('This is critical msg')"
   ]
  },
  {
   "cell_type": "code",
   "execution_count": 42,
   "id": "fd1c34ce-482b-434e-9834-d1f2b12399c0",
   "metadata": {},
   "outputs": [
    {
     "ename": "AttributeError",
     "evalue": "module 'logging' has no attribute 'notset'",
     "output_type": "error",
     "traceback": [
      "\u001b[0;31m---------------------------------------------------------------------------\u001b[0m",
      "\u001b[0;31mAttributeError\u001b[0m                            Traceback (most recent call last)",
      "Cell \u001b[0;32mIn[42], line 1\u001b[0m\n\u001b[0;32m----> 1\u001b[0m \u001b[43mlogging\u001b[49m\u001b[38;5;241;43m.\u001b[39;49m\u001b[43mnotset\u001b[49m(\u001b[38;5;124m\"\u001b[39m\u001b[38;5;124mThis is notset\u001b[39m\u001b[38;5;124m\"\u001b[39m)   \u001b[38;5;66;03m#it will give error\u001b[39;00m\n",
      "\u001b[0;31mAttributeError\u001b[0m: module 'logging' has no attribute 'notset'"
     ]
    }
   ],
   "source": [
    "logging.notset(\"This is notset\")   #it will give error"
   ]
  },
  {
   "cell_type": "code",
   "execution_count": 45,
   "id": "2158f886-3fe7-446d-a36b-eec8705edc3d",
   "metadata": {},
   "outputs": [],
   "source": [
    "logging.shutdown()"
   ]
  },
  {
   "cell_type": "code",
   "execution_count": 1,
   "id": "2f0b5f13-1f95-4fe1-a207-5532d927d759",
   "metadata": {},
   "outputs": [],
   "source": [
    "import logging"
   ]
  },
  {
   "cell_type": "code",
   "execution_count": 2,
   "id": "2ef642b6-e4e3-4f08-8a47-0e3e20a37180",
   "metadata": {},
   "outputs": [],
   "source": [
    "logging.basicConfig(filename = \"test1.log\" , level =logging.DEBUG , format = '%(asctime)s %(message)s' )"
   ]
  },
  {
   "cell_type": "code",
   "execution_count": 3,
   "id": "cb1e9a0c-c4b0-495a-9410-89d0a972985e",
   "metadata": {},
   "outputs": [],
   "source": [
    "logging.info(\"This is my info \")\n",
    "logging.error(\"this is my error\")\n",
    "logging.debug(\"this is my debug\")"
   ]
  },
  {
   "cell_type": "code",
   "execution_count": 4,
   "id": "6fe9fbd6-6480-4121-a32e-67e039bbde10",
   "metadata": {},
   "outputs": [],
   "source": [
    "logging.shutdown()"
   ]
  },
  {
   "cell_type": "code",
   "execution_count": 2,
   "id": "13a94cd1-ba0a-4d5d-b61b-a4509cf7b0b1",
   "metadata": {},
   "outputs": [],
   "source": [
    "import logging"
   ]
  },
  {
   "cell_type": "code",
   "execution_count": 3,
   "id": "fd588d69-74b2-44c4-aa19-39dd7907f6da",
   "metadata": {},
   "outputs": [],
   "source": [
    "logging.basicConfig(filename = \"test2.log\" , level = logging.DEBUG , format = '%(asctime)s %(name)s %(levelname)s %(message)s ')"
   ]
  },
  {
   "cell_type": "code",
   "execution_count": 4,
   "id": "59a62563-71ee-4026-90a8-c24798cd2dd6",
   "metadata": {},
   "outputs": [],
   "source": [
    "logging.info(\"This is my info \")\n",
    "logging.error(\"this is my error\")\n",
    "logging.debug(\"this is my debug\")"
   ]
  },
  {
   "cell_type": "code",
   "execution_count": 5,
   "id": "05200323-d9d8-4b72-af59-7c52607db4c3",
   "metadata": {},
   "outputs": [],
   "source": [
    "l = [1,2,3,4,5,6,7,8,9,[3,5,32,\"Great\"] , \"Taher\" , \"Bohra\"]"
   ]
  },
  {
   "cell_type": "code",
   "execution_count": 6,
   "id": "3bf54911-857f-403d-8605-4b6ef8da899e",
   "metadata": {},
   "outputs": [],
   "source": [
    "l_num = []\n",
    "l_str = []\n",
    "for i in l:\n",
    "    logging.info(\"we ae iterating through list and we are in local i\" + str(l))\n",
    "    if type(i) == list:\n",
    "        logging.info(\"Now we are in loop j\" + str(i))\n",
    "        for j in i:\n",
    "            logging.info(\"Now we are checking the type of j\" + str(j))\n",
    "            if type(j) == int:\n",
    "                l_num.append(j)\n",
    "            else:\n",
    "                l_str.append(j)\n",
    "    elif type(i) == int:\n",
    "            l_num.append(i)\n",
    "    else:\n",
    "        l_str.append(i)\n",
    "logging.info(\"my final result for int is {l1} and for str is {l2} \".format(l1 = l_num , l2 = l_str))"
   ]
  },
  {
   "cell_type": "code",
   "execution_count": 7,
   "id": "d83b88b2-950d-49b7-a109-b5d24ac49081",
   "metadata": {},
   "outputs": [
    {
     "data": {
      "text/plain": [
       "[1, 2, 3, 4, 5, 6, 7, 8, 9, 3, 5, 32]"
      ]
     },
     "execution_count": 7,
     "metadata": {},
     "output_type": "execute_result"
    }
   ],
   "source": [
    "l_num"
   ]
  },
  {
   "cell_type": "code",
   "execution_count": 9,
   "id": "d7eebf15-61e6-498e-9e31-616257bfa979",
   "metadata": {},
   "outputs": [
    {
     "data": {
      "text/plain": [
       "['Great', 'Taher', 'Bohra']"
      ]
     },
     "execution_count": 9,
     "metadata": {},
     "output_type": "execute_result"
    }
   ],
   "source": [
    "l_str"
   ]
  },
  {
   "cell_type": "markdown",
   "id": "dfe81a76-c74a-4a16-bc31-36b1f0d76449",
   "metadata": {},
   "source": [
    "EXCEPTION HANDLING"
   ]
  },
  {
   "cell_type": "markdown",
   "id": "e7af7a6b-d132-45fa-9ea0-0d11f2b16d28",
   "metadata": {},
   "source": [
    "There are 4 components in exception handling\n",
    "1. Try = Main code to write\n",
    "2. Except = This will execute if try have error\n",
    "3. Else = This will execute when try will execute without error\n",
    "4. Finally = This will execute in any situation"
   ]
  },
  {
   "cell_type": "code",
   "execution_count": 3,
   "id": "4e3b3bc2-ccc7-4378-bca5-bb02963c6c89",
   "metadata": {},
   "outputs": [
    {
     "name": "stdout",
     "output_type": "stream",
     "text": [
      "This is my except blocks [Errno 2] No such file or directory: 'unknown.txt'\n",
      "9\n"
     ]
    }
   ],
   "source": [
    "try:\n",
    "    f = open(\"unknown.txt\", 'r')      #this file is not there so error will come\n",
    "except Exception as e:\n",
    "    print(\"This is my except blocks\" , e)\n",
    "a = 4+5\n",
    "print(a)"
   ]
  },
  {
   "cell_type": "code",
   "execution_count": 5,
   "id": "3f2162a3-9d48-49db-a52e-d7a8d72922d5",
   "metadata": {},
   "outputs": [
    {
     "name": "stdout",
     "output_type": "stream",
     "text": [
      "else part will execute once your try will execute without error\n"
     ]
    }
   ],
   "source": [
    "try:\n",
    "    f = open(\"test3.txt\", \"w\")\n",
    "    f.write(\"Hello! I am the great\")\n",
    "except Exception as w:\n",
    "    print(\"This is my except block\" , w)\n",
    "else:                                         #else part will only execute if try execute without any error\"\n",
    "    f.close()\n",
    "    print(\"else part will execute once your try will execute without error\")"
   ]
  },
  {
   "cell_type": "code",
   "execution_count": 1,
   "id": "209e9b2e-ccc3-4d2f-85a4-8b949f2797ce",
   "metadata": {},
   "outputs": [
    {
     "name": "stdout",
     "output_type": "stream",
     "text": [
      "This is my except block [Errno 2] No such file or directory: 'unknown.txt'\n"
     ]
    }
   ],
   "source": [
    "try:\n",
    "    f = open(\"unknown.txt\", \"r\")\n",
    "    f.write(\"Hello! I am the great\")\n",
    "except Exception as w:\n",
    "    print(\"This is my except block\" , w)\n",
    "else:                                         #else part will only execute if try execute without any error\"\n",
    "    f.close()\n",
    "    print(\"else part will execute once your try will execute without error\")"
   ]
  },
  {
   "cell_type": "code",
   "execution_count": 4,
   "id": "f0dc601f-d068-4022-befc-ab80fec3d02c",
   "metadata": {},
   "outputs": [
    {
     "name": "stdout",
     "output_type": "stream",
     "text": [
      "Hello! I am the great\n",
      "Finally will execute in any situation\n"
     ]
    }
   ],
   "source": [
    "try:\n",
    "    f = open(\"test3.txt\",\"r\")\n",
    "    print(f.read())\n",
    "except Exception as w:\n",
    "    print(\"This is exception part\" , w)\n",
    "finally:\n",
    "    print(\"Finally will execute in any situation\")  "
   ]
  },
  {
   "cell_type": "code",
   "execution_count": 1,
   "id": "5f3335e9-4ed0-403a-9c60-27b758f7abce",
   "metadata": {},
   "outputs": [
    {
     "name": "stdout",
     "output_type": "stream",
     "text": [
      "This is exception part [Errno 2] No such file or directory: 'test4.txt'\n",
      "Finally will execute in any situation\n"
     ]
    }
   ],
   "source": [
    "try:\n",
    "    f = open(\"test4.txt\",\"r\")\n",
    "    print(f.read())\n",
    "except Exception as w:\n",
    "    print(\"This is exception part\" , w)\n",
    "finally:\n",
    "    print(\"Finally will execute in any situation\")  "
   ]
  },
  {
   "cell_type": "markdown",
   "id": "bdf1b33e-d588-4b5c-8332-87c4dba6d1fa",
   "metadata": {},
   "source": [
    "CUSTOM EXCEPTION HANDLING"
   ]
  },
  {
   "cell_type": "code",
   "execution_count": 4,
   "id": "d9efa830-ba6f-4f5d-a95f-5004060b01a6",
   "metadata": {},
   "outputs": [],
   "source": [
    "class validateage(Exception):\n",
    "    def __init__(self , msg):\n",
    "        self.msg = msg"
   ]
  },
  {
   "cell_type": "code",
   "execution_count": 5,
   "id": "557cb212-2d24-4b60-83a6-95ed92efb9ae",
   "metadata": {},
   "outputs": [],
   "source": [
    "def validaetage(age):\n",
    "    if age < 0:\n",
    "        print(\"Enter age is negtive\")\n",
    "    elif age > 200:\n",
    "        print(\"Enter age is very high\")\n",
    "    else:\n",
    "        print(\"age is valid\")"
   ]
  },
  {
   "cell_type": "code",
   "execution_count": 6,
   "id": "6dac9769-9989-4e80-a5f2-6d37105736ad",
   "metadata": {},
   "outputs": [
    {
     "name": "stdin",
     "output_type": "stream",
     "text": [
      "Enter your age 4534\n"
     ]
    },
    {
     "name": "stdout",
     "output_type": "stream",
     "text": [
      "Enter age is very high\n"
     ]
    }
   ],
   "source": [
    "try:\n",
    "    age = int(input(\"Enter your age\"))\n",
    "    validaetage(age)\n",
    "except validateage as e:\n",
    "    print(e)"
   ]
  },
  {
   "cell_type": "code",
   "execution_count": 7,
   "id": "629539c4-b936-4959-8417-841d26e58867",
   "metadata": {},
   "outputs": [
    {
     "name": "stdin",
     "output_type": "stream",
     "text": [
      "Enter your age 45\n"
     ]
    },
    {
     "name": "stdout",
     "output_type": "stream",
     "text": [
      "age is valid\n"
     ]
    }
   ],
   "source": [
    "try:\n",
    "    age = int(input(\"Enter your age\"))\n",
    "    validaetage(age)\n",
    "except validateage as e:\n",
    "    print(e)"
   ]
  },
  {
   "cell_type": "code",
   "execution_count": 9,
   "id": "588fd048-75e6-4a7a-abcb-b2691ea603b0",
   "metadata": {},
   "outputs": [],
   "source": [
    "class WithdrawalError(Exception):\n",
    "    \"\"\"Exception raised for errors during a withdrawal process.\"\"\"\n",
    "    def __init__(self, balance, amount):\n",
    "        self.balance = balance\n",
    "        self.amount = amount\n",
    "        super().__init__(f\"Withdrawal of {amount} not allowed. Available balance: {balance}\")\n",
    "\n",
    "def perform_withdrawal(balance, amount):\n",
    "    try:\n",
    "        if amount > balance:\n",
    "            raise WithdrawalError(balance, amount)\n",
    "        else:\n",
    "            print(\"Withdrawal successful\")\n",
    "            # Update balance logic here\n",
    "    except WithdrawalError as we:\n",
    "        print(we)"
   ]
  },
  {
   "cell_type": "code",
   "execution_count": 10,
   "id": "c1259689-9398-4249-9734-d3275b762f10",
   "metadata": {},
   "outputs": [
    {
     "name": "stdout",
     "output_type": "stream",
     "text": [
      "Withdrawal successful\n"
     ]
    }
   ],
   "source": [
    "\n",
    "# Example 1: Withdrawal within available balance\n",
    "perform_withdrawal(1000, 500)\n"
   ]
  },
  {
   "cell_type": "code",
   "execution_count": 11,
   "id": "81c82f7e-e016-422c-8d06-26debd67d66d",
   "metadata": {},
   "outputs": [
    {
     "name": "stdout",
     "output_type": "stream",
     "text": [
      "Withdrawal of 500 not allowed. Available balance: 200\n"
     ]
    }
   ],
   "source": [
    "\n",
    "# Example 2: Withdrawal exceeds available balance\n",
    "perform_withdrawal(200, 500)\n"
   ]
  },
  {
   "cell_type": "markdown",
   "id": "3075988a-d7b5-4786-91d3-c510af72e637",
   "metadata": {},
   "source": [
    "List Of General Use of Exception"
   ]
  },
  {
   "cell_type": "code",
   "execution_count": 1,
   "id": "7b053420-9b5b-4de7-bb02-9c8c312d734f",
   "metadata": {},
   "outputs": [
    {
     "name": "stdout",
     "output_type": "stream",
     "text": [
      "division by zero\n"
     ]
    }
   ],
   "source": [
    "try:\n",
    "    a = 10/0\n",
    "except ZeroDivisionError as e:\n",
    "    print(e)"
   ]
  },
  {
   "cell_type": "code",
   "execution_count": 3,
   "id": "b3bd8380-e14b-4d5a-a159-30a597299b9d",
   "metadata": {},
   "outputs": [
    {
     "name": "stdout",
     "output_type": "stream",
     "text": [
      "invalid literal for int() with base 10: 'sudh'\n"
     ]
    }
   ],
   "source": [
    "try:\n",
    "    int(\"sudh\")\n",
    "except (ValueError , TypeError) as e:\n",
    "    print(e)"
   ]
  },
  {
   "cell_type": "code",
   "execution_count": 4,
   "id": "eec9ff79-a2cf-4d3b-a4e3-4e5205103aa1",
   "metadata": {},
   "outputs": [
    {
     "name": "stdout",
     "output_type": "stream",
     "text": [
      "This will catch an error\n"
     ]
    }
   ],
   "source": [
    "try:\n",
    "    int(\"sudh\")\n",
    "except:\n",
    "    print(\"This will catch an error\")"
   ]
  },
  {
   "cell_type": "code",
   "execution_count": 6,
   "id": "7738ce5c-66e5-4d17-9b31-4fd77b93fdc6",
   "metadata": {},
   "outputs": [
    {
     "name": "stdout",
     "output_type": "stream",
     "text": [
      "No module named 'taher'\n"
     ]
    },
    {
     "data": {
      "text/plain": [
       "2.0"
      ]
     },
     "execution_count": 6,
     "metadata": {},
     "output_type": "execute_result"
    }
   ],
   "source": [
    "try:\n",
    "    import taher\n",
    "except ImportError as e:\n",
    "    print(e)\n",
    "10/5"
   ]
  },
  {
   "cell_type": "code",
   "execution_count": 11,
   "id": "7536950d-9c6f-4a4c-9ce3-740cf34bf9fb",
   "metadata": {},
   "outputs": [
    {
     "name": "stdout",
     "output_type": "stream",
     "text": [
      "'key2'\n"
     ]
    }
   ],
   "source": [
    "try:\n",
    "    d = {\"key\" : \"Taher\" , 1:[2,4,23]}\n",
    "    print(d[\"key2\"])\n",
    "except KeyError as e:\n",
    "    print(e)"
   ]
  },
  {
   "cell_type": "code",
   "execution_count": 23,
   "id": "6f022149-5470-4add-8199-ca56d64d11f6",
   "metadata": {},
   "outputs": [
    {
     "name": "stdout",
     "output_type": "stream",
     "text": [
      "'str' object has no attribute 'test'\n"
     ]
    }
   ],
   "source": [
    "try:\n",
    "    \"Taher\".test()\n",
    "except AttributeError as e:\n",
    "    print(e)"
   ]
  },
  {
   "cell_type": "code",
   "execution_count": 24,
   "id": "ed7bdd2b-b1ba-4e59-8be2-407c549f4c99",
   "metadata": {},
   "outputs": [
    {
     "name": "stdout",
     "output_type": "stream",
     "text": [
      "list index out of range\n"
     ]
    }
   ],
   "source": [
    "try:\n",
    "    l = [2,4,5,4]\n",
    "    print(l[6])\n",
    "except IndexError as e:\n",
    "    print(e)"
   ]
  },
  {
   "cell_type": "code",
   "execution_count": 25,
   "id": "c182ee23-d79d-4d7e-9b5c-e08fe4391085",
   "metadata": {},
   "outputs": [
    {
     "name": "stdout",
     "output_type": "stream",
     "text": [
      "unsupported operand type(s) for +: 'int' and 'str'\n"
     ]
    }
   ],
   "source": [
    "try:\n",
    "    123 + \"Taher\"\n",
    "except TypeError as e:\n",
    "    print(e)"
   ]
  },
  {
   "cell_type": "code",
   "execution_count": 1,
   "id": "97d259d8-d02a-4e01-86ba-36f22f7ca6b5",
   "metadata": {},
   "outputs": [
    {
     "name": "stdout",
     "output_type": "stream",
     "text": [
      "[Errno 2] No such file or directory: 'tes.txt'\n"
     ]
    }
   ],
   "source": [
    "try:\n",
    "    with open(\"tes.txt\" , \"r\") as f:\n",
    "        test = f.read()\n",
    "except FileNotFoundError as e:\n",
    "    print(e)"
   ]
  },
  {
   "cell_type": "markdown",
   "id": "8cf65b66-ce5f-485c-bdd8-98f5b00a8206",
   "metadata": {},
   "source": [
    "BEST PRACTICE EXCEPTION HANDLING"
   ]
  },
  {
   "cell_type": "code",
   "execution_count": 1,
   "id": "ddaa7bb3-02d5-46b3-8965-1f42e2adc830",
   "metadata": {},
   "outputs": [
    {
     "name": "stdout",
     "output_type": "stream",
     "text": [
      "division by zero\n"
     ]
    }
   ],
   "source": [
    "#Don't use this type of exception\n",
    "try:\n",
    "    10/0\n",
    "except Exception as e:\n",
    "    print(e)"
   ]
  },
  {
   "cell_type": "code",
   "execution_count": 2,
   "id": "76c90638-40f9-4376-b61a-6c51e40af9b7",
   "metadata": {},
   "outputs": [
    {
     "name": "stdout",
     "output_type": "stream",
     "text": [
      "division by zero\n"
     ]
    }
   ],
   "source": [
    "#instead...u should handle like this for better look\n",
    "try:\n",
    "    10/0\n",
    "except ZeroDivisionError as e:\n",
    "    print(e)"
   ]
  },
  {
   "cell_type": "code",
   "execution_count": 3,
   "id": "c91122f0-13c9-4f9e-8303-b731133f8ec4",
   "metadata": {},
   "outputs": [
    {
     "name": "stdout",
     "output_type": "stream",
     "text": [
      "I am trying to handle a Zero Exception Error\n"
     ]
    }
   ],
   "source": [
    "#print always a good message\n",
    "try:\n",
    "    10/0\n",
    "except ZeroDivisionError as e:\n",
    "    print(\"I am trying to handle a Zero Exception Error\")"
   ]
  },
  {
   "cell_type": "code",
   "execution_count": 6,
   "id": "f840ccc4-2a32-4557-ac49-c1a70b1ae86d",
   "metadata": {},
   "outputs": [],
   "source": [
    "#Always try to log your error\n",
    "import logging\n",
    "logging.basicConfig(filename = \"error.log\" , level = logging.ERROR)\n",
    "try:\n",
    "    10/0\n",
    "except ZeroDivisionError as e:\n",
    "    logging.info(\"i am trying to handle a zerodivion error {}\".format(e) )"
   ]
  },
  {
   "cell_type": "markdown",
   "id": "dde9dd82-3d2c-4c4c-be2f-13b697faf0af",
   "metadata": {},
   "source": [
    "#Always avoid to write a multiple exception handling"
   ]
  },
  {
   "cell_type": "markdown",
   "id": "089cccb4-8f5a-4609-b07e-f16e5c26a7c4",
   "metadata": {},
   "source": [
    "MULTITHREADING "
   ]
  },
  {
   "cell_type": "code",
   "execution_count": 2,
   "id": "1c57df65-62c6-4c07-9217-cf6f0fbe8694",
   "metadata": {},
   "outputs": [],
   "source": [
    "import threading"
   ]
  },
  {
   "cell_type": "code",
   "execution_count": 3,
   "id": "6e4f945d-491e-472f-bb35-2d9ad473b517",
   "metadata": {},
   "outputs": [],
   "source": [
    "def test(id):\n",
    "    print(\"program starts %d\"% id)"
   ]
  },
  {
   "cell_type": "code",
   "execution_count": 4,
   "id": "d7ca13a1-2d86-4e44-9922-74434908cf76",
   "metadata": {},
   "outputs": [
    {
     "name": "stdout",
     "output_type": "stream",
     "text": [
      "program starts 45\n"
     ]
    }
   ],
   "source": [
    "test(45)"
   ]
  },
  {
   "cell_type": "code",
   "execution_count": 5,
   "id": "a1c29f48-38b1-428c-b73c-6a236bbef8c1",
   "metadata": {},
   "outputs": [],
   "source": [
    "thread = [threading.Thread(target = test , args = (i,)) for i in range(10)]"
   ]
  },
  {
   "cell_type": "code",
   "execution_count": 6,
   "id": "6bf88409-409e-460c-91a7-aadf0de94104",
   "metadata": {},
   "outputs": [
    {
     "name": "stdout",
     "output_type": "stream",
     "text": [
      "program starts 0\n",
      "program starts 1\n",
      "program starts 2\n",
      "program starts 3\n",
      "program starts 4\n",
      "program starts 5\n",
      "program starts 6\n",
      "program starts 7\n",
      "program starts 8\n",
      "program starts 9\n"
     ]
    }
   ],
   "source": [
    "for t in thread:\n",
    "    t.start()"
   ]
  },
  {
   "cell_type": "code",
   "execution_count": 7,
   "id": "4deca058-e2af-4a9f-b46a-0aaca7f5e9ec",
   "metadata": {},
   "outputs": [
    {
     "data": {
      "text/plain": [
       "[<Thread(Thread-5 (test), stopped 140242996672064)>,\n",
       " <Thread(Thread-6 (test), stopped 140242996672064)>,\n",
       " <Thread(Thread-7 (test), stopped 140242996672064)>,\n",
       " <Thread(Thread-8 (test), stopped 140242988279360)>,\n",
       " <Thread(Thread-9 (test), stopped 140242988279360)>,\n",
       " <Thread(Thread-10 (test), stopped 140242988279360)>,\n",
       " <Thread(Thread-11 (test), stopped 140242988279360)>,\n",
       " <Thread(Thread-12 (test), stopped 140242988279360)>,\n",
       " <Thread(Thread-13 (test), stopped 140242988279360)>,\n",
       " <Thread(Thread-14 (test), stopped 140242988279360)>]"
      ]
     },
     "execution_count": 7,
     "metadata": {},
     "output_type": "execute_result"
    }
   ],
   "source": [
    "thread"
   ]
  },
  {
   "cell_type": "code",
   "execution_count": 8,
   "id": "bfc179de-083c-43ea-878f-13e429574958",
   "metadata": {},
   "outputs": [
    {
     "data": {
      "text/plain": [
       "140243369667968"
      ]
     },
     "execution_count": 8,
     "metadata": {},
     "output_type": "execute_result"
    }
   ],
   "source": [
    "id(thread) #I a single set all programs are running"
   ]
  },
  {
   "cell_type": "code",
   "execution_count": 3,
   "id": "11d528ec-9b7d-4fdc-a8c6-7036b7f3966e",
   "metadata": {},
   "outputs": [],
   "source": [
    "import threading\n",
    "import urllib.request      #this is used to import from the net"
   ]
  },
  {
   "cell_type": "code",
   "execution_count": 4,
   "id": "7aee3f6e-6536-42f9-bc6d-0a64ea2fd419",
   "metadata": {},
   "outputs": [],
   "source": [
    "def file_download(url , filname):\n",
    "    urllib.request.urlretrieve(url , filname)"
   ]
  },
  {
   "cell_type": "code",
   "execution_count": 5,
   "id": "3441ec66-bafb-4b20-b976-c741d2fecec4",
   "metadata": {},
   "outputs": [],
   "source": [
    "file_download('https://en.wikipedia.org/wiki/Wikipedia' , \"url.txt\")"
   ]
  },
  {
   "cell_type": "markdown",
   "id": "6bf42ff5-18ae-47c6-8dc5-752bc2f5ccdf",
   "metadata": {},
   "source": [
    "Now We are import the data from multiple websites"
   ]
  },
  {
   "cell_type": "code",
   "execution_count": 6,
   "id": "9afaae3a-f684-4230-a79d-85f0b20b2dfc",
   "metadata": {},
   "outputs": [],
   "source": [
    "url_list = ['https://en.wikipedia.org/wiki/2001_IAAF_World_Indoor_Championships_%E2%80%93_Women%27s_60_metres_hurdles' , 'https://taherbohra06.wixsite.com/shoebagzone/cart?appSectionParams=%7B%22origin%22%3A%22cart-popup%22%7D.txt'] "
   ]
  },
  {
   "cell_type": "code",
   "execution_count": 7,
   "id": "f58d39c6-c2ac-43a3-825f-440e63e12431",
   "metadata": {},
   "outputs": [
    {
     "data": {
      "text/plain": [
       "['https://en.wikipedia.org/wiki/2001_IAAF_World_Indoor_Championships_%E2%80%93_Women%27s_60_metres_hurdles',\n",
       " 'https://taherbohra06.wixsite.com/shoebagzone/cart?appSectionParams=%7B%22origin%22%3A%22cart-popup%22%7D.txt']"
      ]
     },
     "execution_count": 7,
     "metadata": {},
     "output_type": "execute_result"
    }
   ],
   "source": [
    "url_list"
   ]
  },
  {
   "cell_type": "code",
   "execution_count": 8,
   "id": "1a096f6d-2f6d-444b-90f5-53ef957467f9",
   "metadata": {},
   "outputs": [],
   "source": [
    "file_name_list = ['url1.txt' , 'url2.txt']"
   ]
  },
  {
   "cell_type": "code",
   "execution_count": 9,
   "id": "c1ad0f45-3667-4b40-a5bd-bd59a89692d8",
   "metadata": {},
   "outputs": [],
   "source": [
    "import threading"
   ]
  },
  {
   "cell_type": "code",
   "execution_count": 10,
   "id": "ceea768d-73c0-4507-b142-3b1307f045c8",
   "metadata": {},
   "outputs": [],
   "source": [
    "ther = [threading.Thread(target = file_download , args = (url_list[i] , file_name_list[i])) for i in range(len(url_list))]"
   ]
  },
  {
   "cell_type": "code",
   "execution_count": 11,
   "id": "3eb77d0f-bd67-4a39-bd77-451745c626a7",
   "metadata": {},
   "outputs": [
    {
     "data": {
      "text/plain": [
       "[<Thread(Thread-5 (file_download), initial)>,\n",
       " <Thread(Thread-6 (file_download), initial)>]"
      ]
     },
     "execution_count": 11,
     "metadata": {},
     "output_type": "execute_result"
    }
   ],
   "source": [
    "ther"
   ]
  },
  {
   "cell_type": "code",
   "execution_count": 12,
   "id": "1e002a9a-0a5e-4349-b169-458092d05cdd",
   "metadata": {},
   "outputs": [],
   "source": [
    "for t in ther:\n",
    "    t.start()"
   ]
  },
  {
   "cell_type": "code",
   "execution_count": 13,
   "id": "8f94347f-9d7d-4f9f-a92d-a2555667fcd5",
   "metadata": {},
   "outputs": [],
   "source": [
    "import time"
   ]
  },
  {
   "cell_type": "code",
   "execution_count": 17,
   "id": "62cf48db-827d-46c4-ae7d-e367a161c029",
   "metadata": {},
   "outputs": [],
   "source": [
    "def test1(id):\n",
    "    for i in range(10):\n",
    "        print(\"test1 %d printing %i %s\" %(id ,i, time.ctime()))\n",
    "        time.sleep(1)"
   ]
  },
  {
   "cell_type": "code",
   "execution_count": 18,
   "id": "cac44a09-a8eb-413f-b1f5-cff9ed125be9",
   "metadata": {},
   "outputs": [
    {
     "name": "stdout",
     "output_type": "stream",
     "text": [
      "test1 0 printing 0 Mon Aug 28 18:11:34 2023\n",
      "test1 0 printing 1 Mon Aug 28 18:11:35 2023\n",
      "test1 0 printing 2 Mon Aug 28 18:11:36 2023\n",
      "test1 0 printing 3 Mon Aug 28 18:11:37 2023\n",
      "test1 0 printing 4 Mon Aug 28 18:11:38 2023\n",
      "test1 0 printing 5 Mon Aug 28 18:11:39 2023\n",
      "test1 0 printing 6 Mon Aug 28 18:11:40 2023\n",
      "test1 0 printing 7 Mon Aug 28 18:11:41 2023\n",
      "test1 0 printing 8 Mon Aug 28 18:11:42 2023\n",
      "test1 0 printing 9 Mon Aug 28 18:11:43 2023\n"
     ]
    }
   ],
   "source": [
    "test1(0)"
   ]
  },
  {
   "cell_type": "code",
   "execution_count": 19,
   "id": "4c1d8b32-8479-4288-a5d3-e9435272385c",
   "metadata": {},
   "outputs": [],
   "source": [
    "thread1 = [threading.Thread(target = test1 , args = (i,)) for i in range(3)]"
   ]
  },
  {
   "cell_type": "code",
   "execution_count": 20,
   "id": "fcbb418c-eb34-43f6-ac63-a01178d30eea",
   "metadata": {},
   "outputs": [
    {
     "name": "stdout",
     "output_type": "stream",
     "text": [
      "test1 0 printing 0 Mon Aug 28 18:11:48 2023\n",
      "test1 1 printing 0 Mon Aug 28 18:11:48 2023\n",
      "test1 2 printing 0 Mon Aug 28 18:11:48 2023\n",
      "test1 0 printing 1 Mon Aug 28 18:11:49 2023test1 1 printing 1 Mon Aug 28 18:11:49 2023\n",
      "\n",
      "test1 2 printing 1 Mon Aug 28 18:11:49 2023\n",
      "test1 1 printing 2 Mon Aug 28 18:11:50 2023test1 0 printing 2 Mon Aug 28 18:11:50 2023\n",
      "\n",
      "test1 2 printing 2 Mon Aug 28 18:11:50 2023\n",
      "test1 0 printing 3 Mon Aug 28 18:11:51 2023test1 2 printing 3 Mon Aug 28 18:11:51 2023\n",
      "test1 1 printing 3 Mon Aug 28 18:11:51 2023\n",
      "\n",
      "test1 0 printing 4 Mon Aug 28 18:11:52 2023\n",
      "test1 2 printing 4 Mon Aug 28 18:11:52 2023\n",
      "test1 1 printing 4 Mon Aug 28 18:11:52 2023\n",
      "test1 0 printing 5 Mon Aug 28 18:11:53 2023test1 2 printing 5 Mon Aug 28 18:11:53 2023\n",
      "\n",
      "test1 1 printing 5 Mon Aug 28 18:11:53 2023\n",
      "test1 2 printing 6 Mon Aug 28 18:11:54 2023\n",
      "test1 1 printing 6 Mon Aug 28 18:11:54 2023\n",
      "test1 0 printing 6 Mon Aug 28 18:11:54 2023\n",
      "test1 2 printing 7 Mon Aug 28 18:11:55 2023test1 1 printing 7 Mon Aug 28 18:11:55 2023\n",
      "\n",
      "test1 0 printing 7 Mon Aug 28 18:11:55 2023\n",
      "test1 1 printing 8 Mon Aug 28 18:11:56 2023test1 2 printing 8 Mon Aug 28 18:11:56 2023\n",
      "test1 0 printing 8 Mon Aug 28 18:11:56 2023\n",
      "\n",
      "test1 2 printing 9 Mon Aug 28 18:11:57 2023\n",
      "test1 0 printing 9 Mon Aug 28 18:11:57 2023\n",
      "test1 1 printing 9 Mon Aug 28 18:11:57 2023\n"
     ]
    }
   ],
   "source": [
    "for t in thread1:\n",
    "    t.start()"
   ]
  },
  {
   "cell_type": "code",
   "execution_count": 2,
   "id": "def64e65-f2a8-4c8c-bc82-37b2d4e613db",
   "metadata": {},
   "outputs": [],
   "source": [
    "import threading"
   ]
  },
  {
   "cell_type": "code",
   "execution_count": 22,
   "id": "37c40a8f-27f2-46c8-a668-66b6b455a5e1",
   "metadata": {},
   "outputs": [],
   "source": [
    "import time"
   ]
  },
  {
   "cell_type": "code",
   "execution_count": 23,
   "id": "3b316984-c1cb-4de8-93e9-904ef343e51d",
   "metadata": {},
   "outputs": [
    {
     "name": "stdout",
     "output_type": "stream",
     "text": [
      "test2 id is 0 has increased this shared variable by 1\n",
      "test2 id is 1 has increased this shared variable by 2\n",
      "test2 id is 2 has increased this shared variable by 3\n"
     ]
    }
   ],
   "source": [
    "shared_variable = 0\n",
    "lock_var = threading.Lock()\n",
    "def test2(id):\n",
    "    global shared_variable\n",
    "    with lock_var:\n",
    "        shared_variable = shared_variable + 1\n",
    "        print(\"test2 id is %d has increased this shared variable by %d\" %(id, shared_variable))\n",
    "        time.sleep(1)\n",
    "thread3 = [threading.Thread(target = test2 , args = (i,)) for i in range(3)]\n",
    "for t in thread3:\n",
    "    t.start()"
   ]
  },
  {
   "cell_type": "markdown",
   "id": "5d1cd15a-35b6-4558-ba98-79657b6580d0",
   "metadata": {},
   "source": [
    "MULTIPROCESSING = if we wamt to execute the programs in one process or we can say in a parallel way, they we can use multiprocessing. In this we can \n",
    "execute as many programs in a single process to save the time and for effective way"
   ]
  },
  {
   "cell_type": "code",
   "execution_count": 2,
   "id": "8432d935-3789-457e-bcec-6edb108102f9",
   "metadata": {},
   "outputs": [],
   "source": [
    "import  multiprocessing"
   ]
  },
  {
   "cell_type": "code",
   "execution_count": 3,
   "id": "46e21f5a-920e-4c96-bcd1-0c28813d1e7d",
   "metadata": {},
   "outputs": [],
   "source": [
    "def test():\n",
    "    print(\"this is my multiprocessing prof\")  #this is just a simple def"
   ]
  },
  {
   "cell_type": "markdown",
   "id": "3097c6d1-64de-4a3b-a923-35c4c1940d4f",
   "metadata": {},
   "source": [
    "Process example "
   ]
  },
  {
   "cell_type": "code",
   "execution_count": 4,
   "id": "378fd8bc-0f7a-4faa-85be-710e9737ee66",
   "metadata": {},
   "outputs": [
    {
     "name": "stdout",
     "output_type": "stream",
     "text": [
      "This my main program\n",
      "this is my multiprocessing prof\n"
     ]
    }
   ],
   "source": [
    "#now  we will create the multiprocessing \n",
    "if __name__ == '__main__':\n",
    "    m = multiprocessing.Process(target = test) #test is written to run the test program\n",
    "    print(\"This my main program\")\n",
    "    m.start() #to start the multiprocessing we have to write the start() and join()\n",
    "    m.join()"
   ]
  },
  {
   "cell_type": "code",
   "execution_count": 5,
   "id": "def51d48-c314-433a-a2d7-8fdddb177d0e",
   "metadata": {},
   "outputs": [
    {
     "name": "stdout",
     "output_type": "stream",
     "text": [
      "this is my multiprocessing prof\n"
     ]
    }
   ],
   "source": [
    "test()"
   ]
  },
  {
   "cell_type": "markdown",
   "id": "76f605f2-cdb0-4c40-9438-2ee76d894cd1",
   "metadata": {},
   "source": [
    "Pool Example = if we want process the codde in a bulk way so pool are used. pool used to assign the multiple task as per user define for eg if \n",
    "processes = 10 then pool will assign the code in 10 and so on"
   ]
  },
  {
   "cell_type": "code",
   "execution_count": 6,
   "id": "313e6454-6ea0-40f8-b206-875c89b148b2",
   "metadata": {},
   "outputs": [],
   "source": [
    "def square(n):\n",
    "    return n**2"
   ]
  },
  {
   "cell_type": "code",
   "execution_count": 7,
   "id": "4a47c38f-4d51-4df0-98c3-14be1218ee7c",
   "metadata": {},
   "outputs": [
    {
     "name": "stdout",
     "output_type": "stream",
     "text": [
      "[1, 4, 9, 16, 25, 36, 49, 64, 81, 100]\n"
     ]
    }
   ],
   "source": [
    "if __name__ == '__main__':\n",
    "    with multiprocessing.Pool(processes = 6) as pool1:\n",
    "        out = pool1.map(square , [1,2,3,4,5,6,7,8,9,10])\n",
    "        print(out)\n",
    "    "
   ]
  },
  {
   "cell_type": "markdown",
   "id": "a41e67ed-624c-447a-a5b3-468b45a295d8",
   "metadata": {},
   "source": [
    "Queue example = we can understand this as we are standing in a ticket counter and one by one chance will come, queue is same as this"
   ]
  },
  {
   "cell_type": "code",
   "execution_count": 8,
   "id": "d2bcab7d-f238-441c-a9fb-ed22fe4fff93",
   "metadata": {},
   "outputs": [],
   "source": [
    "import multiprocessing"
   ]
  },
  {
   "cell_type": "code",
   "execution_count": 9,
   "id": "32e303e1-9627-4d3e-97e7-b192b3cfdabe",
   "metadata": {},
   "outputs": [],
   "source": [
    "def producer(q):\n",
    "    for i in range(10):\n",
    "        q.put(i)"
   ]
  },
  {
   "cell_type": "code",
   "execution_count": 10,
   "id": "e60832a9-b954-48c7-b054-fd72e4912b3c",
   "metadata": {},
   "outputs": [],
   "source": [
    "def consume(q):\n",
    "    while True:\n",
    "        item = q.get()\n",
    "        if item is None:\n",
    "            break\n",
    "        print(item)\n",
    "    "
   ]
  },
  {
   "cell_type": "code",
   "execution_count": null,
   "id": "1b96df5c-ae58-46ce-bacf-2c5d5d037a15",
   "metadata": {},
   "outputs": [
    {
     "name": "stdout",
     "output_type": "stream",
     "text": [
      "0\n",
      "1\n",
      "2\n",
      "3\n",
      "4\n",
      "5\n",
      "6\n",
      "7\n",
      "8\n",
      "9\n",
      "Taher\n"
     ]
    }
   ],
   "source": [
    "if __name__ == '__main__':\n",
    "    queue = multiprocessing.Queue()\n",
    "    m1 = multiprocessing.Process(target = producer , args = (queue,))\n",
    "    m2 = multiprocessing.Process(target = consume , args = (queue,))\n",
    "    m1.start()\n",
    "    m2.start()\n",
    "    queue.put(\"Taher\")\n",
    "    m1.join()\n",
    "    m2.join()"
   ]
  },
  {
   "cell_type": "code",
   "execution_count": null,
   "id": "1e35f29c-707b-4f4c-9b5e-3c3651b9a067",
   "metadata": {},
   "outputs": [],
   "source": [
    "def square(w, value):\n",
    "    value[w] = value[w]**2"
   ]
  },
  {
   "cell_type": "code",
   "execution_count": null,
   "id": "c1b72924-9477-4425-a7bc-d0dd0ac0237e",
   "metadata": {},
   "outputs": [],
   "source": [
    "if __name__ == '__main__':\n",
    "    arr = multiprocessing.Array('i' , [2,3,4,5,6,7,8,9])\n",
    "    process = []\n",
    "    for i in range(7):\n",
    "        m = multiprocessing.Process(target = square , args = (i ,arr))\n",
    "        process.append(m)\n",
    "        m.start()\n",
    "    for m in process:\n",
    "        m.join\n",
    "    print(list(arr))"
   ]
  },
  {
   "cell_type": "code",
   "execution_count": null,
   "id": "a448b6b8-4f3f-4bb2-b121-b8f253b292d1",
   "metadata": {},
   "outputs": [],
   "source": []
  }
 ],
 "metadata": {
  "kernelspec": {
   "display_name": "Python 3 (ipykernel)",
   "language": "python",
   "name": "python3"
  },
  "language_info": {
   "codemirror_mode": {
    "name": "ipython",
    "version": 3
   },
   "file_extension": ".py",
   "mimetype": "text/x-python",
   "name": "python",
   "nbconvert_exporter": "python",
   "pygments_lexer": "ipython3",
   "version": "3.10.8"
  }
 },
 "nbformat": 4,
 "nbformat_minor": 5
}
