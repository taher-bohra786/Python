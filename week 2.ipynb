{
 "cells": [
  {
   "cell_type": "code",
   "execution_count": 1,
   "id": "9ce856f1-58e8-4fa6-8739-5173e74bee30",
   "metadata": {},
   "outputs": [
    {
     "data": {
      "text/plain": [
       "3"
      ]
     },
     "execution_count": 1,
     "metadata": {},
     "output_type": "execute_result"
    }
   ],
   "source": [
    "1 + 2 \n"
   ]
  },
  {
   "cell_type": "code",
   "execution_count": 6,
   "id": "b1dbc35a-0346-4ad1-a81b-d7a81a023015",
   "metadata": {},
   "outputs": [],
   "source": [
    "l_1 = [45, 56.45, \"taher\", 5+7j , [4,5,6], 56]"
   ]
  },
  {
   "cell_type": "code",
   "execution_count": 7,
   "id": "39413ffb-ae22-4847-b41b-b3022b2c91b1",
   "metadata": {},
   "outputs": [
    {
     "data": {
      "text/plain": [
       "[45, 56.45, 'taher', (5+7j), [4, 5, 6], 56]"
      ]
     },
     "execution_count": 7,
     "metadata": {},
     "output_type": "execute_result"
    }
   ],
   "source": [
    "l_1\n"
   ]
  },
  {
   "cell_type": "code",
   "execution_count": 8,
   "id": "304f2360-1770-483f-8ada-d52135c7c68e",
   "metadata": {},
   "outputs": [
    {
     "data": {
      "text/plain": [
       "list"
      ]
     },
     "execution_count": 8,
     "metadata": {},
     "output_type": "execute_result"
    }
   ],
   "source": [
    "type(l_1)"
   ]
  },
  {
   "cell_type": "code",
   "execution_count": 9,
   "id": "b56694be-9360-402d-9f86-30c867bff3f5",
   "metadata": {},
   "outputs": [
    {
     "data": {
      "text/plain": [
       "56.45"
      ]
     },
     "execution_count": 9,
     "metadata": {},
     "output_type": "execute_result"
    }
   ],
   "source": [
    "l_1[1]"
   ]
  },
  {
   "cell_type": "code",
   "execution_count": 10,
   "id": "7d32f926-14e9-4b69-9d01-b8a02d5c6c07",
   "metadata": {},
   "outputs": [
    {
     "data": {
      "text/plain": [
       "45"
      ]
     },
     "execution_count": 10,
     "metadata": {},
     "output_type": "execute_result"
    }
   ],
   "source": [
    "l_1[0]\n"
   ]
  },
  {
   "cell_type": "code",
   "execution_count": 11,
   "id": "3847f86c-f975-4cd4-b8d8-63dcd43c3744",
   "metadata": {},
   "outputs": [
    {
     "ename": "IndexError",
     "evalue": "list index out of range",
     "output_type": "error",
     "traceback": [
      "\u001b[0;31m---------------------------------------------------------------------------\u001b[0m",
      "\u001b[0;31mIndexError\u001b[0m                                Traceback (most recent call last)",
      "Cell \u001b[0;32mIn[11], line 1\u001b[0m\n\u001b[0;32m----> 1\u001b[0m \u001b[43ml_1\u001b[49m\u001b[43m[\u001b[49m\u001b[38;5;241;43m50\u001b[39;49m\u001b[43m]\u001b[49m\n",
      "\u001b[0;31mIndexError\u001b[0m: list index out of range"
     ]
    }
   ],
   "source": [
    "l_1[50]"
   ]
  },
  {
   "cell_type": "code",
   "execution_count": 12,
   "id": "851f6f65-c3dc-4d34-8675-8fa7da70a1f3",
   "metadata": {},
   "outputs": [
    {
     "data": {
      "text/plain": [
       "[4, 5, 6]"
      ]
     },
     "execution_count": 12,
     "metadata": {},
     "output_type": "execute_result"
    }
   ],
   "source": [
    "l_1[4]"
   ]
  },
  {
   "cell_type": "code",
   "execution_count": 13,
   "id": "014c1809-98a6-4454-912c-8161d8df5180",
   "metadata": {},
   "outputs": [
    {
     "data": {
      "text/plain": [
       "[45, 56.45, 'taher']"
      ]
     },
     "execution_count": 13,
     "metadata": {},
     "output_type": "execute_result"
    }
   ],
   "source": [
    "l_1[0:3]"
   ]
  },
  {
   "cell_type": "code",
   "execution_count": 14,
   "id": "fede03ad-da63-4e8c-be7e-5e2296f259d1",
   "metadata": {},
   "outputs": [
    {
     "data": {
      "text/plain": [
       "56"
      ]
     },
     "execution_count": 14,
     "metadata": {},
     "output_type": "execute_result"
    }
   ],
   "source": [
    "l_1[-1]"
   ]
  },
  {
   "cell_type": "code",
   "execution_count": 15,
   "id": "d385ca3e-40cb-466d-8fb3-628b3f4ee551",
   "metadata": {},
   "outputs": [
    {
     "data": {
      "text/plain": [
       "[45, 56.45, 'taher', (5+7j), [4, 5, 6], 56]"
      ]
     },
     "execution_count": 15,
     "metadata": {},
     "output_type": "execute_result"
    }
   ],
   "source": [
    "l_1\n"
   ]
  },
  {
   "cell_type": "code",
   "execution_count": 16,
   "id": "8e4ed0b1-bce9-4746-97df-1d3850d7b62e",
   "metadata": {},
   "outputs": [
    {
     "data": {
      "text/plain": [
       "[56, [4, 5, 6], (5+7j), 'taher', 56.45, 45]"
      ]
     },
     "execution_count": 16,
     "metadata": {},
     "output_type": "execute_result"
    }
   ],
   "source": [
    "l_1[::-1]"
   ]
  },
  {
   "cell_type": "code",
   "execution_count": 17,
   "id": "56f7c39c-a145-4276-b378-0fa7b6d0b943",
   "metadata": {},
   "outputs": [
    {
     "data": {
      "text/plain": [
       "[45, 'taher', [4, 5, 6]]"
      ]
     },
     "execution_count": 17,
     "metadata": {},
     "output_type": "execute_result"
    }
   ],
   "source": [
    "l_1[0::2]"
   ]
  },
  {
   "cell_type": "code",
   "execution_count": 18,
   "id": "078778f4-5b35-4460-a10b-42442d4972e1",
   "metadata": {},
   "outputs": [
    {
     "data": {
      "text/plain": [
       "[45,\n",
       " 56.45,\n",
       " 'taher',\n",
       " (5+7j),\n",
       " [4, 5, 6],\n",
       " 56,\n",
       " 45,\n",
       " 56.45,\n",
       " 'taher',\n",
       " (5+7j),\n",
       " [4, 5, 6],\n",
       " 56,\n",
       " 45,\n",
       " 56.45,\n",
       " 'taher',\n",
       " (5+7j),\n",
       " [4, 5, 6],\n",
       " 56]"
      ]
     },
     "execution_count": 18,
     "metadata": {},
     "output_type": "execute_result"
    }
   ],
   "source": [
    "l_1 * 3"
   ]
  },
  {
   "cell_type": "code",
   "execution_count": 21,
   "id": "a0ecf0e3-2488-4698-b69d-9e6c111bb7b7",
   "metadata": {},
   "outputs": [
    {
     "data": {
      "text/plain": [
       "[4, 5, 6]"
      ]
     },
     "execution_count": 21,
     "metadata": {},
     "output_type": "execute_result"
    }
   ],
   "source": [
    "l_1[4]"
   ]
  },
  {
   "cell_type": "code",
   "execution_count": 22,
   "id": "f3fa5e4d-85fc-444d-9895-49074dfa3050",
   "metadata": {},
   "outputs": [
    {
     "data": {
      "text/plain": [
       "[45, 56.45, 'taher', (5+7j), [4, 5, 6], 56]"
      ]
     },
     "execution_count": 22,
     "metadata": {},
     "output_type": "execute_result"
    }
   ],
   "source": [
    "l_1"
   ]
  },
  {
   "cell_type": "code",
   "execution_count": 23,
   "id": "047c240d-063a-45b6-8c68-a6be30843a4e",
   "metadata": {},
   "outputs": [
    {
     "data": {
      "text/plain": [
       "'taher'"
      ]
     },
     "execution_count": 23,
     "metadata": {},
     "output_type": "execute_result"
    }
   ],
   "source": [
    "l_1[2]"
   ]
  },
  {
   "cell_type": "code",
   "execution_count": 27,
   "id": "0b4a36aa-e790-444e-9015-85c4c63efc1a",
   "metadata": {},
   "outputs": [],
   "source": [
    "l =[45, 56.45, 'taher', (5+7j), [4, 5, 6], 56, True]"
   ]
  },
  {
   "cell_type": "code",
   "execution_count": 28,
   "id": "9058f958-96a2-4ece-88a1-a46492f87fd2",
   "metadata": {},
   "outputs": [
    {
     "data": {
      "text/plain": [
       "[45, 56.45, 'taher', (5+7j), [4, 5, 6], 56, True]"
      ]
     },
     "execution_count": 28,
     "metadata": {},
     "output_type": "execute_result"
    }
   ],
   "source": [
    "l"
   ]
  },
  {
   "cell_type": "code",
   "execution_count": 26,
   "id": "bf36d3b1-9c13-4f2f-ba30-907494d6cb75",
   "metadata": {},
   "outputs": [
    {
     "data": {
      "text/plain": [
       "'tahe'"
      ]
     },
     "execution_count": 26,
     "metadata": {},
     "output_type": "execute_result"
    }
   ],
   "source": [
    "l[2][0:4]"
   ]
  },
  {
   "cell_type": "code",
   "execution_count": 29,
   "id": "458571ef-4af3-4097-95fb-73c204abf8ac",
   "metadata": {},
   "outputs": [],
   "source": [
    "l.append(63)"
   ]
  },
  {
   "cell_type": "code",
   "execution_count": 30,
   "id": "4a0ae386-acd5-47c0-b062-ac951af730ff",
   "metadata": {},
   "outputs": [
    {
     "data": {
      "text/plain": [
       "[45, 56.45, 'taher', (5+7j), [4, 5, 6], 56, True, 63]"
      ]
     },
     "execution_count": 30,
     "metadata": {},
     "output_type": "execute_result"
    }
   ],
   "source": [
    "l"
   ]
  },
  {
   "cell_type": "code",
   "execution_count": 31,
   "id": "abe0ffa6-223d-4232-b71b-6cbb3593dd20",
   "metadata": {},
   "outputs": [],
   "source": [
    "l.append(\"grgfe\")"
   ]
  },
  {
   "cell_type": "code",
   "execution_count": 32,
   "id": "c5c82f45-dd24-4829-b102-378c5157e0b2",
   "metadata": {},
   "outputs": [
    {
     "data": {
      "text/plain": [
       "[45, 56.45, 'taher', (5+7j), [4, 5, 6], 56, True, 63, 'grgfe']"
      ]
     },
     "execution_count": 32,
     "metadata": {},
     "output_type": "execute_result"
    }
   ],
   "source": [
    "l"
   ]
  },
  {
   "cell_type": "code",
   "execution_count": 33,
   "id": "8762791f-14dc-475e-8f81-9906bacbf7ab",
   "metadata": {},
   "outputs": [
    {
     "ename": "TypeError",
     "evalue": "'int' object is not iterable",
     "output_type": "error",
     "traceback": [
      "\u001b[0;31m---------------------------------------------------------------------------\u001b[0m",
      "\u001b[0;31mTypeError\u001b[0m                                 Traceback (most recent call last)",
      "Cell \u001b[0;32mIn[33], line 1\u001b[0m\n\u001b[0;32m----> 1\u001b[0m \u001b[43ml\u001b[49m\u001b[38;5;241;43m.\u001b[39;49m\u001b[43mextend\u001b[49m\u001b[43m(\u001b[49m\u001b[38;5;241;43m4\u001b[39;49m\u001b[43m)\u001b[49m\n",
      "\u001b[0;31mTypeError\u001b[0m: 'int' object is not iterable"
     ]
    }
   ],
   "source": [
    "l.extend(4)"
   ]
  },
  {
   "cell_type": "code",
   "execution_count": 34,
   "id": "9addd0f7-ad77-45b4-9a7f-0c2639b448ee",
   "metadata": {},
   "outputs": [],
   "source": [
    "l.extend(\"fee\")"
   ]
  },
  {
   "cell_type": "code",
   "execution_count": 35,
   "id": "d9498f5c-918e-412e-865e-72628736b037",
   "metadata": {},
   "outputs": [
    {
     "data": {
      "text/plain": [
       "[45, 56.45, 'taher', (5+7j), [4, 5, 6], 56, True, 63, 'grgfe', 'f', 'e', 'e']"
      ]
     },
     "execution_count": 35,
     "metadata": {},
     "output_type": "execute_result"
    }
   ],
   "source": [
    "l"
   ]
  },
  {
   "cell_type": "code",
   "execution_count": 36,
   "id": "15e085f0-e198-49ed-8b12-f3cd3b042e53",
   "metadata": {},
   "outputs": [],
   "source": [
    "l.insert(3,56)"
   ]
  },
  {
   "cell_type": "code",
   "execution_count": 37,
   "id": "590f5236-afaa-4b9a-aa4e-58bc158783d0",
   "metadata": {},
   "outputs": [
    {
     "data": {
      "text/plain": [
       "[45,\n",
       " 56.45,\n",
       " 'taher',\n",
       " 56,\n",
       " (5+7j),\n",
       " [4, 5, 6],\n",
       " 56,\n",
       " True,\n",
       " 63,\n",
       " 'grgfe',\n",
       " 'f',\n",
       " 'e',\n",
       " 'e']"
      ]
     },
     "execution_count": 37,
     "metadata": {},
     "output_type": "execute_result"
    }
   ],
   "source": [
    "l"
   ]
  },
  {
   "cell_type": "code",
   "execution_count": 38,
   "id": "5efa1813-4522-4ded-85aa-8645fe19d583",
   "metadata": {},
   "outputs": [
    {
     "data": {
      "text/plain": [
       "[45,\n",
       " 56.45,\n",
       " 'taher',\n",
       " 56,\n",
       " (5+7j),\n",
       " [4, 5, 6],\n",
       " 56,\n",
       " True,\n",
       " 63,\n",
       " 'grgfe',\n",
       " 'f',\n",
       " 'e',\n",
       " 'e']"
      ]
     },
     "execution_count": 38,
     "metadata": {},
     "output_type": "execute_result"
    }
   ],
   "source": [
    "l"
   ]
  },
  {
   "cell_type": "code",
   "execution_count": 42,
   "id": "a21250c9-75fb-4179-8f96-cb57b07327e0",
   "metadata": {},
   "outputs": [],
   "source": [
    "l.insert(-1, 9)"
   ]
  },
  {
   "cell_type": "code",
   "execution_count": 43,
   "id": "c0305312-b333-45f8-be49-7b60d871d61a",
   "metadata": {},
   "outputs": [
    {
     "data": {
      "text/plain": [
       "[45,\n",
       " 56.45,\n",
       " 'taher',\n",
       " 56,\n",
       " (5+7j),\n",
       " [4, 5, 6],\n",
       " 56,\n",
       " True,\n",
       " 63,\n",
       " 'grgfe',\n",
       " 'f',\n",
       " 'e',\n",
       " 9,\n",
       " 'e']"
      ]
     },
     "execution_count": 43,
     "metadata": {},
     "output_type": "execute_result"
    }
   ],
   "source": [
    "l"
   ]
  },
  {
   "cell_type": "code",
   "execution_count": 44,
   "id": "5cebf5f6-b16f-4227-8961-dc3b8cfd6fe8",
   "metadata": {},
   "outputs": [
    {
     "data": {
      "text/plain": [
       "[4, 5, 6]"
      ]
     },
     "execution_count": 44,
     "metadata": {},
     "output_type": "execute_result"
    }
   ],
   "source": [
    "l.pop(5)"
   ]
  },
  {
   "cell_type": "code",
   "execution_count": 45,
   "id": "63e0d330-f86b-4f8a-bdcd-80a50dcc1454",
   "metadata": {},
   "outputs": [
    {
     "data": {
      "text/plain": [
       "[45, 56.45, 'taher', 56, (5+7j), 56, True, 63, 'grgfe', 'f', 'e', 9, 'e']"
      ]
     },
     "execution_count": 45,
     "metadata": {},
     "output_type": "execute_result"
    }
   ],
   "source": [
    "l"
   ]
  },
  {
   "cell_type": "code",
   "execution_count": 48,
   "id": "079dbd96-49ff-4093-9839-00f4101fe5be",
   "metadata": {},
   "outputs": [
    {
     "ename": "ValueError",
     "evalue": "list.remove(x): x not in list",
     "output_type": "error",
     "traceback": [
      "\u001b[0;31m---------------------------------------------------------------------------\u001b[0m",
      "\u001b[0;31mValueError\u001b[0m                                Traceback (most recent call last)",
      "Cell \u001b[0;32mIn[48], line 1\u001b[0m\n\u001b[0;32m----> 1\u001b[0m \u001b[43ml\u001b[49m\u001b[38;5;241;43m.\u001b[39;49m\u001b[43mremove\u001b[49m\u001b[43m(\u001b[49m\u001b[38;5;241;43m234\u001b[39;49m\u001b[43m)\u001b[49m\n",
      "\u001b[0;31mValueError\u001b[0m: list.remove(x): x not in list"
     ]
    }
   ],
   "source": [
    "l.remove(234)"
   ]
  },
  {
   "cell_type": "code",
   "execution_count": 49,
   "id": "f970fce9-d576-4063-873f-fcba501f44d9",
   "metadata": {},
   "outputs": [
    {
     "data": {
      "text/plain": [
       "[56.45, 'taher', 56, (5+7j), 56, True, 63, 'grgfe', 'f', 'e', 9, 'e']"
      ]
     },
     "execution_count": 49,
     "metadata": {},
     "output_type": "execute_result"
    }
   ],
   "source": [
    "l"
   ]
  },
  {
   "cell_type": "code",
   "execution_count": 50,
   "id": "ae2f1b86-5316-4921-b200-2e36405b4e1c",
   "metadata": {},
   "outputs": [],
   "source": [
    "l.append([4, 5, 6])"
   ]
  },
  {
   "cell_type": "code",
   "execution_count": 51,
   "id": "79798c35-67ba-4c41-9fab-ae223dfd9ace",
   "metadata": {},
   "outputs": [
    {
     "data": {
      "text/plain": [
       "[56.45,\n",
       " 'taher',\n",
       " 56,\n",
       " (5+7j),\n",
       " 56,\n",
       " True,\n",
       " 63,\n",
       " 'grgfe',\n",
       " 'f',\n",
       " 'e',\n",
       " 9,\n",
       " 'e',\n",
       " [4, 5, 6]]"
      ]
     },
     "execution_count": 51,
     "metadata": {},
     "output_type": "execute_result"
    }
   ],
   "source": [
    "l"
   ]
  },
  {
   "cell_type": "code",
   "execution_count": 52,
   "id": "e3568b75-d277-4946-bd38-d3196acfa06b",
   "metadata": {},
   "outputs": [],
   "source": [
    "l[12].remove(5)"
   ]
  },
  {
   "cell_type": "code",
   "execution_count": 53,
   "id": "bc5dbce6-ad52-48ff-8e7c-01d3d661cbb8",
   "metadata": {},
   "outputs": [
    {
     "data": {
      "text/plain": [
       "[56.45, 'taher', 56, (5+7j), 56, True, 63, 'grgfe', 'f', 'e', 9, 'e', [4, 6]]"
      ]
     },
     "execution_count": 53,
     "metadata": {},
     "output_type": "execute_result"
    }
   ],
   "source": [
    "l"
   ]
  },
  {
   "cell_type": "code",
   "execution_count": 55,
   "id": "04fd79d3-47aa-4e3e-b57b-d55970c13cc8",
   "metadata": {},
   "outputs": [],
   "source": [
    "l.reverse()"
   ]
  },
  {
   "cell_type": "code",
   "execution_count": 56,
   "id": "7f8c2344-225c-4e78-97e9-ee3d40948efb",
   "metadata": {},
   "outputs": [
    {
     "data": {
      "text/plain": [
       "[[4, 6], 'e', 9, 'e', 'f', 'grgfe', 63, True, 56, (5+7j), 56, 'taher', 56.45]"
      ]
     },
     "execution_count": 56,
     "metadata": {},
     "output_type": "execute_result"
    }
   ],
   "source": [
    "l"
   ]
  },
  {
   "cell_type": "code",
   "execution_count": 57,
   "id": "97444241-dd26-42bc-93d6-a22e32d650d8",
   "metadata": {},
   "outputs": [
    {
     "ename": "TypeError",
     "evalue": "'<' not supported between instances of 'str' and 'list'",
     "output_type": "error",
     "traceback": [
      "\u001b[0;31m---------------------------------------------------------------------------\u001b[0m",
      "\u001b[0;31mTypeError\u001b[0m                                 Traceback (most recent call last)",
      "Cell \u001b[0;32mIn[57], line 1\u001b[0m\n\u001b[0;32m----> 1\u001b[0m \u001b[43ml\u001b[49m\u001b[38;5;241;43m.\u001b[39;49m\u001b[43msort\u001b[49m\u001b[43m(\u001b[49m\u001b[43m)\u001b[49m\n",
      "\u001b[0;31mTypeError\u001b[0m: '<' not supported between instances of 'str' and 'list'"
     ]
    }
   ],
   "source": [
    "l.sort()"
   ]
  },
  {
   "cell_type": "code",
   "execution_count": 58,
   "id": "50244ceb-10d4-4e4f-8085-e359c0160b30",
   "metadata": {},
   "outputs": [],
   "source": [
    "l2=[4,6,3,6,8,0,5]"
   ]
  },
  {
   "cell_type": "code",
   "execution_count": 59,
   "id": "404d2db7-2f76-422b-bbbb-aeaffbee26ae",
   "metadata": {},
   "outputs": [],
   "source": [
    "l2.sort()"
   ]
  },
  {
   "cell_type": "code",
   "execution_count": 60,
   "id": "340297cb-8103-4ea8-b5d2-f76b89fd7a19",
   "metadata": {},
   "outputs": [
    {
     "data": {
      "text/plain": [
       "[0, 3, 4, 5, 6, 6, 8]"
      ]
     },
     "execution_count": 60,
     "metadata": {},
     "output_type": "execute_result"
    }
   ],
   "source": [
    "l2"
   ]
  },
  {
   "cell_type": "code",
   "execution_count": 61,
   "id": "d7c6e811-0f8f-4f01-9117-dcdee0e92c83",
   "metadata": {},
   "outputs": [
    {
     "data": {
      "text/plain": [
       "11"
      ]
     },
     "execution_count": 61,
     "metadata": {},
     "output_type": "execute_result"
    }
   ],
   "source": [
    "l.index('taher')"
   ]
  },
  {
   "cell_type": "code",
   "execution_count": 62,
   "id": "82b98129-3a1e-4d8b-9df5-13e92ef7cb97",
   "metadata": {},
   "outputs": [
    {
     "data": {
      "text/plain": [
       "[[4, 6], 'e', 9, 'e', 'f', 'grgfe', 63, True, 56, (5+7j), 56, 'taher', 56.45]"
      ]
     },
     "execution_count": 62,
     "metadata": {},
     "output_type": "execute_result"
    }
   ],
   "source": [
    "l"
   ]
  },
  {
   "cell_type": "code",
   "execution_count": 64,
   "id": "c8daf2b8-f67e-463d-b566-4ca35653785f",
   "metadata": {},
   "outputs": [
    {
     "data": {
      "text/plain": [
       "2"
      ]
     },
     "execution_count": 64,
     "metadata": {},
     "output_type": "execute_result"
    }
   ],
   "source": [
    "l.count(56)"
   ]
  },
  {
   "cell_type": "code",
   "execution_count": 65,
   "id": "aa428bd6-bb7c-4b7d-9933-0c389c869a85",
   "metadata": {},
   "outputs": [],
   "source": [
    "l[3] = 'f'"
   ]
  },
  {
   "cell_type": "code",
   "execution_count": 66,
   "id": "31aaec98-23e3-45e1-9e97-b72ed9c05377",
   "metadata": {},
   "outputs": [
    {
     "data": {
      "text/plain": [
       "[[4, 6], 'e', 9, 'f', 'f', 'grgfe', 63, True, 56, (5+7j), 56, 'taher', 56.45]"
      ]
     },
     "execution_count": 66,
     "metadata": {},
     "output_type": "execute_result"
    }
   ],
   "source": [
    "l"
   ]
  },
  {
   "cell_type": "code",
   "execution_count": 67,
   "id": "4faeec34-88e6-48f1-8110-2f44653f9ab3",
   "metadata": {},
   "outputs": [],
   "source": [
    "t = (56 , 67.76 , \"taher\" , 5j+6 , [5,6,7], False)"
   ]
  },
  {
   "cell_type": "code",
   "execution_count": 68,
   "id": "f5297afb-3939-4a70-b5c9-a639f069800b",
   "metadata": {},
   "outputs": [
    {
     "data": {
      "text/plain": [
       "(56, 67.76, 'taher', (6+5j), [5, 6, 7], False)"
      ]
     },
     "execution_count": 68,
     "metadata": {},
     "output_type": "execute_result"
    }
   ],
   "source": [
    "t"
   ]
  },
  {
   "cell_type": "markdown",
   "id": "ba832820-4755-408b-bb34-a35743d74b7a",
   "metadata": {
    "jp-MarkdownHeadingCollapsed": true,
    "tags": []
   },
   "source": [
    "s1"
   ]
  },
  {
   "cell_type": "code",
   "execution_count": 70,
   "id": "5751882b-8648-457b-9a64-151da91fd9e6",
   "metadata": {},
   "outputs": [
    {
     "data": {
      "text/plain": [
       "(False, [5, 6, 7], (6+5j), 'taher', 67.76, 56)"
      ]
     },
     "execution_count": 70,
     "metadata": {},
     "output_type": "execute_result"
    }
   ],
   "source": [
    "t[::-1]"
   ]
  },
  {
   "cell_type": "code",
   "execution_count": 74,
   "id": "bc312dee-2dbd-48f3-a41f-bc28889715cc",
   "metadata": {},
   "outputs": [],
   "source": [
    "s2={3,5,6,4,65,6,7,6,7,6,8,76,5,7,5,6,5}"
   ]
  },
  {
   "cell_type": "code",
   "execution_count": 75,
   "id": "6147b108-df87-403e-9e0a-c7f30eef8534",
   "metadata": {},
   "outputs": [
    {
     "data": {
      "text/plain": [
       "{3, 4, 5, 6, 7, 8, 65, 76}"
      ]
     },
     "execution_count": 75,
     "metadata": {},
     "output_type": "execute_result"
    }
   ],
   "source": [
    "s2"
   ]
  },
  {
   "cell_type": "code",
   "execution_count": 77,
   "id": "65e87d48-fd1e-4904-9498-4ad6b102b109",
   "metadata": {},
   "outputs": [],
   "source": [
    "s2.add(9)"
   ]
  },
  {
   "cell_type": "code",
   "execution_count": 78,
   "id": "62f45a63-12dc-49d3-b0ca-1cbb7d1e12ef",
   "metadata": {},
   "outputs": [
    {
     "data": {
      "text/plain": [
       "{3, 4, 5, 6, 7, 8, 9, 65, 76}"
      ]
     },
     "execution_count": 78,
     "metadata": {},
     "output_type": "execute_result"
    }
   ],
   "source": [
    "s2"
   ]
  },
  {
   "cell_type": "code",
   "execution_count": 81,
   "id": "7f900578-632f-4e3b-86be-2c2b5e1ae049",
   "metadata": {},
   "outputs": [],
   "source": [
    "s2.add(2)"
   ]
  },
  {
   "cell_type": "code",
   "execution_count": 82,
   "id": "bbcbe15d-7ef7-4c3e-96cf-002025687146",
   "metadata": {},
   "outputs": [
    {
     "data": {
      "text/plain": [
       "{2, 3, 4, 5, 6, 7, 8, 9, 43, 65, 76}"
      ]
     },
     "execution_count": 82,
     "metadata": {},
     "output_type": "execute_result"
    }
   ],
   "source": [
    "s2"
   ]
  },
  {
   "cell_type": "code",
   "execution_count": 83,
   "id": "57494933-9ab5-427f-9487-9bb058de56e9",
   "metadata": {},
   "outputs": [],
   "source": [
    "s2.remove(5)"
   ]
  },
  {
   "cell_type": "code",
   "execution_count": 84,
   "id": "08d38c04-fea1-4a96-969f-e87622fecdd5",
   "metadata": {},
   "outputs": [
    {
     "data": {
      "text/plain": [
       "{2, 3, 4, 6, 7, 8, 9, 43, 65, 76}"
      ]
     },
     "execution_count": 84,
     "metadata": {},
     "output_type": "execute_result"
    }
   ],
   "source": [
    "s2"
   ]
  },
  {
   "cell_type": "code",
   "execution_count": 10,
   "id": "fcb5dc90-6b8c-4ad5-b31c-99a701b9ff22",
   "metadata": {},
   "outputs": [],
   "source": [
    "d = {'name': 'Taher' , 'Number':9929235556 , 'Email':'taherbohra06@gmail.com'}"
   ]
  },
  {
   "cell_type": "code",
   "execution_count": 87,
   "id": "fb8a5e50-4ad2-4fa8-b5aa-5446c6a9a877",
   "metadata": {},
   "outputs": [
    {
     "data": {
      "text/plain": [
       "dict"
      ]
     },
     "execution_count": 87,
     "metadata": {},
     "output_type": "execute_result"
    }
   ],
   "source": [
    "type(d)"
   ]
  },
  {
   "cell_type": "code",
   "execution_count": 90,
   "id": "caf85312-2c34-4ab1-9160-8c8fb32bb9cf",
   "metadata": {},
   "outputs": [
    {
     "data": {
      "text/plain": [
       "{'name': 'Taher', 'Number': 9929235556, 'Email': 'taherbohra06@gmail.com'}"
      ]
     },
     "execution_count": 90,
     "metadata": {},
     "output_type": "execute_result"
    }
   ],
   "source": [
    "d\n"
   ]
  },
  {
   "cell_type": "code",
   "execution_count": 91,
   "id": "6a0a3fd6-beac-4286-9b60-190b024f6014",
   "metadata": {},
   "outputs": [
    {
     "data": {
      "text/plain": [
       "'Taher'"
      ]
     },
     "execution_count": 91,
     "metadata": {},
     "output_type": "execute_result"
    }
   ],
   "source": [
    "d['name']"
   ]
  },
  {
   "cell_type": "code",
   "execution_count": 92,
   "id": "82fc720e-5b6d-4415-a4d4-bfe1e0569bc5",
   "metadata": {},
   "outputs": [],
   "source": [
    "d2 = {\"company\" : \"Jupiter\" , \"Courses\" : [\"Ds\" , \"Bca\" , \"ca\"] }"
   ]
  },
  {
   "cell_type": "code",
   "execution_count": 93,
   "id": "dce71b5d-c618-48ba-a2c0-2bceaf9078e0",
   "metadata": {},
   "outputs": [
    {
     "data": {
      "text/plain": [
       "{'company': 'Jupiter', 'Courses': ['Ds', 'Bca', 'ca']}"
      ]
     },
     "execution_count": 93,
     "metadata": {},
     "output_type": "execute_result"
    }
   ],
   "source": [
    "d2"
   ]
  },
  {
   "cell_type": "code",
   "execution_count": 96,
   "id": "061bcd47-f538-4a6c-af89-06ac99933a60",
   "metadata": {},
   "outputs": [
    {
     "data": {
      "text/plain": [
       "'ca'"
      ]
     },
     "execution_count": 96,
     "metadata": {},
     "output_type": "execute_result"
    }
   ],
   "source": [
    "d2[\"Courses\"][2]"
   ]
  },
  {
   "cell_type": "code",
   "execution_count": 6,
   "id": "5339f2d2-83cb-430f-94b8-f096a36c6985",
   "metadata": {},
   "outputs": [],
   "source": [
    "d6 = {\"number\" : [2,3,4,5,3,443] , \"assignment\" : (1,2,3,4,56) , \"launch_date\" : {12,23,25} , \"class_time\" : {\"ds\": 7 , \"java\" : 6 , \"web_design\" : 5} } "
   ]
  },
  {
   "cell_type": "code",
   "execution_count": 7,
   "id": "288b2bb6-618f-4a29-8040-6f033797eca5",
   "metadata": {},
   "outputs": [
    {
     "data": {
      "text/plain": [
       "{'number': [2, 3, 4, 5, 3, 443],\n",
       " 'assignment': (1, 2, 3, 4, 56),\n",
       " 'launch_date': {12, 23, 25},\n",
       " 'class_time': {'ds': 7, 'java': 6, 'web_design': 5}}"
      ]
     },
     "execution_count": 7,
     "metadata": {},
     "output_type": "execute_result"
    }
   ],
   "source": [
    "d6\n"
   ]
  },
  {
   "cell_type": "code",
   "execution_count": 5,
   "id": "66a9c0d2-82cd-45d6-95fb-d09b1dc9de52",
   "metadata": {},
   "outputs": [
    {
     "data": {
      "text/plain": [
       "5"
      ]
     },
     "execution_count": 5,
     "metadata": {},
     "output_type": "execute_result"
    }
   ],
   "source": [
    "d6['class_time']['web_design']\n"
   ]
  },
  {
   "cell_type": "code",
   "execution_count": 8,
   "id": "3f838150-8943-4a48-9070-a12b9a8a82cc",
   "metadata": {},
   "outputs": [
    {
     "data": {
      "text/plain": [
       "{'number': [2, 3, 4, 5, 3, 443],\n",
       " 'assignment': (1, 2, 3, 4, 56),\n",
       " 'launch_date': {12, 23, 25},\n",
       " 'class_time': {'ds': 7, 'java': 6, 'web_design': 5}}"
      ]
     },
     "execution_count": 8,
     "metadata": {},
     "output_type": "execute_result"
    }
   ],
   "source": [
    "d6"
   ]
  },
  {
   "cell_type": "code",
   "execution_count": 11,
   "id": "fe0147d8-31f5-4ef7-98af-859d4ca446b1",
   "metadata": {},
   "outputs": [
    {
     "data": {
      "text/plain": [
       "{'name': 'Taher', 'Number': 9929235556, 'Email': 'taherbohra06@gmail.com'}"
      ]
     },
     "execution_count": 11,
     "metadata": {},
     "output_type": "execute_result"
    }
   ],
   "source": [
    "d"
   ]
  },
  {
   "cell_type": "code",
   "execution_count": 14,
   "id": "6ab6a846-301a-463a-9988-5f5d2c8730cf",
   "metadata": {},
   "outputs": [
    {
     "data": {
      "text/plain": [
       "5"
      ]
     },
     "execution_count": 14,
     "metadata": {},
     "output_type": "execute_result"
    }
   ],
   "source": [
    "d6[\"number\"][3]"
   ]
  },
  {
   "cell_type": "code",
   "execution_count": 23,
   "id": "04a3e7be-ade5-4738-94d6-69488b3e225a",
   "metadata": {},
   "outputs": [
    {
     "data": {
      "text/plain": [
       "{'assignment', 'class_time', 'launch_date'}"
      ]
     },
     "execution_count": 23,
     "metadata": {},
     "output_type": "execute_result"
    }
   ],
   "source": [
    "set(d6.keys())"
   ]
  },
  {
   "cell_type": "code",
   "execution_count": 17,
   "id": "2aecc280-39a3-464f-8247-702489119291",
   "metadata": {},
   "outputs": [],
   "source": [
    "del d6['number']"
   ]
  },
  {
   "cell_type": "code",
   "execution_count": 18,
   "id": "43b53104-286b-4a8f-b549-6b62321bfd1a",
   "metadata": {},
   "outputs": [
    {
     "data": {
      "text/plain": [
       "{'assignment': (1, 2, 3, 4, 56),\n",
       " 'launch_date': {12, 23, 25},\n",
       " 'class_time': {'ds': 7, 'java': 6, 'web_design': 5}}"
      ]
     },
     "execution_count": 18,
     "metadata": {},
     "output_type": "execute_result"
    }
   ],
   "source": [
    "d6"
   ]
  },
  {
   "cell_type": "code",
   "execution_count": 19,
   "id": "29136baf-91dd-44fc-86e4-62f299198009",
   "metadata": {},
   "outputs": [
    {
     "data": {
      "text/plain": [
       "dict_values([(1, 2, 3, 4, 56), {25, 12, 23}, {'ds': 7, 'java': 6, 'web_design': 5}])"
      ]
     },
     "execution_count": 19,
     "metadata": {},
     "output_type": "execute_result"
    }
   ],
   "source": [
    "d6.values()"
   ]
  },
  {
   "cell_type": "code",
   "execution_count": 24,
   "id": "edddedb7-0912-4b90-b5b7-c5861dcf2e30",
   "metadata": {},
   "outputs": [
    {
     "data": {
      "text/plain": [
       "[(1, 2, 3, 4, 56), {12, 23, 25}, {'ds': 7, 'java': 6, 'web_design': 5}]"
      ]
     },
     "execution_count": 24,
     "metadata": {},
     "output_type": "execute_result"
    }
   ],
   "source": [
    "list(d6.values())"
   ]
  },
  {
   "cell_type": "code",
   "execution_count": 25,
   "id": "6e643c1e-9a9e-44c4-972a-71c9fb12ac23",
   "metadata": {},
   "outputs": [
    {
     "data": {
      "text/plain": [
       "dict_items([('assignment', (1, 2, 3, 4, 56)), ('launch_date', {25, 12, 23}), ('class_time', {'ds': 7, 'java': 6, 'web_design': 5})])"
      ]
     },
     "execution_count": 25,
     "metadata": {},
     "output_type": "execute_result"
    }
   ],
   "source": [
    "d6.items()"
   ]
  },
  {
   "cell_type": "code",
   "execution_count": 26,
   "id": "cbd61ca5-4055-4589-96fa-6d9dd3307db4",
   "metadata": {},
   "outputs": [
    {
     "data": {
      "text/plain": [
       "(1, 2, 3, 4, 56)"
      ]
     },
     "execution_count": 26,
     "metadata": {},
     "output_type": "execute_result"
    }
   ],
   "source": [
    "d6.pop('assignment')"
   ]
  },
  {
   "cell_type": "code",
   "execution_count": 27,
   "id": "cb80fea7-dbd3-4c62-93b7-14e9a1804266",
   "metadata": {},
   "outputs": [
    {
     "ename": "TypeError",
     "evalue": "pop expected at least 1 argument, got 0",
     "output_type": "error",
     "traceback": [
      "\u001b[0;31m---------------------------------------------------------------------------\u001b[0m",
      "\u001b[0;31mTypeError\u001b[0m                                 Traceback (most recent call last)",
      "Cell \u001b[0;32mIn[27], line 1\u001b[0m\n\u001b[0;32m----> 1\u001b[0m \u001b[43md6\u001b[49m\u001b[38;5;241;43m.\u001b[39;49m\u001b[43mpop\u001b[49m\u001b[43m(\u001b[49m\u001b[43m)\u001b[49m\n",
      "\u001b[0;31mTypeError\u001b[0m: pop expected at least 1 argument, got 0"
     ]
    }
   ],
   "source": [
    "d6.pop()"
   ]
  },
  {
   "cell_type": "code",
   "execution_count": 32,
   "id": "522d69fd-17d7-427c-8774-93dce9ee8bbb",
   "metadata": {},
   "outputs": [],
   "source": []
  },
  {
   "cell_type": "code",
   "execution_count": 37,
   "id": "c5162ea4-a4c1-462c-a322-3cf175597ee9",
   "metadata": {},
   "outputs": [
    {
     "name": "stdin",
     "output_type": "stream",
     "text": [
      "enter the marks:  70\n"
     ]
    },
    {
     "name": "stdout",
     "output_type": "stream",
     "text": [
      "you wll be the part of A1 batch\n"
     ]
    }
   ],
   "source": [
    "marks = int(input(\"enter the marks: \" ))\n",
    "if marks >=80 :\n",
    "    print(\"you will be the part of A0 batch\")\n",
    "elif marks >= 60 and marks < 80:\n",
    "    print(\"you wll be the part of A1 batch\") \n",
    "elif marks >=40 and marks < 60:\n",
    "    print(\"you will be the part of A2 batch\") \n",
    "else:\n",
    "    print(\"you will be the part of A3 batch\") \n",
    "          "
   ]
  },
  {
   "cell_type": "code",
   "execution_count": 49,
   "id": "bca779c8-0d3c-41b8-9942-ea8f911b9215",
   "metadata": {},
   "outputs": [],
   "source": [
    "l = [1,2,3,4,5,6,7,8,9]"
   ]
  },
  {
   "cell_type": "code",
   "execution_count": 53,
   "id": "09c46edd-27e8-459c-b18b-0488e5d1795a",
   "metadata": {},
   "outputs": [
    {
     "name": "stdout",
     "output_type": "stream",
     "text": [
      "2\n",
      "[2]\n",
      "3\n",
      "[2, 3]\n",
      "4\n",
      "[2, 3, 4]\n",
      "5\n",
      "[2, 3, 4, 5]\n",
      "6\n",
      "[2, 3, 4, 5, 6]\n",
      "7\n",
      "[2, 3, 4, 5, 6, 7]\n",
      "8\n",
      "[2, 3, 4, 5, 6, 7, 8]\n",
      "9\n",
      "[2, 3, 4, 5, 6, 7, 8, 9]\n",
      "10\n",
      "[2, 3, 4, 5, 6, 7, 8, 9, 10]\n"
     ]
    }
   ],
   "source": [
    "l1 = []\n",
    "for i in l :\n",
    "    print(i+1)\n",
    "    l1.append(i+1)\n",
    "    print(l1)"
   ]
  },
  {
   "cell_type": "code",
   "execution_count": 57,
   "id": "59f8b53b-4a9e-4ce0-8c8f-e85ea664e607",
   "metadata": {},
   "outputs": [],
   "source": [
    "l2=['sudh' , 'kumar' , 'pwskills' , 'course' ]"
   ]
  },
  {
   "cell_type": "code",
   "execution_count": 60,
   "id": "7f885579-5fd9-4420-9986-cac282a9e239",
   "metadata": {},
   "outputs": [
    {
     "name": "stdout",
     "output_type": "stream",
     "text": [
      "sudh\n",
      "['SUDH']\n",
      "kumar\n",
      "['SUDH', 'KUMAR']\n",
      "pwskills\n",
      "['SUDH', 'KUMAR', 'PWSKILLS']\n",
      "course\n",
      "['SUDH', 'KUMAR', 'PWSKILLS', 'COURSE']\n"
     ]
    }
   ],
   "source": [
    "l3=[]\n",
    "for i in l2:\n",
    "    print(i)\n",
    "    l3.append(i.upper())\n",
    "    print(l3)"
   ]
  },
  {
   "cell_type": "code",
   "execution_count": 67,
   "id": "b961c4a0-8c58-4b63-8c00-5fe2faae904c",
   "metadata": {},
   "outputs": [
    {
     "name": "stdout",
     "output_type": "stream",
     "text": [
      "[1]\n",
      "[1, 2]\n",
      "[1, 2, 3]\n",
      "[1, 2, 3, 4]\n",
      "['pwskills']\n",
      "['pwskills', 'taher']\n",
      "['pwskills', 'taher', 'hero']\n",
      "[1, 2, 3, 4, 45]\n",
      "[1, 2, 3, 4, 45, 6]\n",
      "[1, 2, 3, 4, 45, 6, 5]\n"
     ]
    }
   ],
   "source": [
    "l4=[1,2,3,4,'pwskills','taher','hero',45,6,5]\n",
    "l5_num=[]\n",
    "l6_str=[]\n",
    "for i in l4:\n",
    "    if type(i) == int or type(i) == float:\n",
    "        l5_num.append(i)\n",
    "        print(l5_num)\n",
    "    else:\n",
    "        l6_str.append(i)\n",
    "        print(l6_str)\n"
   ]
  },
  {
   "cell_type": "code",
   "execution_count": 68,
   "id": "f3beafed-9846-4ca7-ab4b-c3aa0e25c125",
   "metadata": {},
   "outputs": [
    {
     "data": {
      "text/plain": [
       "1"
      ]
     },
     "execution_count": 68,
     "metadata": {},
     "output_type": "execute_result"
    }
   ],
   "source": [
    "10 % 3"
   ]
  },
  {
   "cell_type": "code",
   "execution_count": null,
   "id": "c559192f-1c08-4131-9f9b-bec83936a066",
   "metadata": {},
   "outputs": [],
   "source": []
  },
  {
   "cell_type": "code",
   "execution_count": null,
   "id": "8e395d78-6869-4659-8891-c61e74e9ad58",
   "metadata": {},
   "outputs": [],
   "source": []
  },
  {
   "cell_type": "code",
   "execution_count": null,
   "id": "622ea4e8-e411-41b2-9e7d-794920f52492",
   "metadata": {},
   "outputs": [],
   "source": []
  },
  {
   "cell_type": "code",
   "execution_count": null,
   "id": "27700a6f-71e9-4be8-a43f-a78880d30699",
   "metadata": {},
   "outputs": [],
   "source": []
  },
  {
   "cell_type": "code",
   "execution_count": null,
   "id": "4c1d373d-0ccd-470a-b020-a812b6169329",
   "metadata": {},
   "outputs": [],
   "source": []
  },
  {
   "cell_type": "code",
   "execution_count": null,
   "id": "2ce9f540-d5d3-4ac3-9a35-a47f22102a60",
   "metadata": {},
   "outputs": [],
   "source": []
  },
  {
   "cell_type": "code",
   "execution_count": null,
   "id": "541a5b1b-da71-4e94-af9c-aaefa0199bf8",
   "metadata": {},
   "outputs": [],
   "source": []
  },
  {
   "cell_type": "code",
   "execution_count": null,
   "id": "ca60b4cc-964f-4130-bd5c-326747313c40",
   "metadata": {},
   "outputs": [],
   "source": []
  },
  {
   "cell_type": "code",
   "execution_count": null,
   "id": "9fc8d1e1-7bb9-4c85-8c2f-f3632093f334",
   "metadata": {},
   "outputs": [],
   "source": []
  },
  {
   "cell_type": "code",
   "execution_count": null,
   "id": "d00e6436-0ee7-432d-b198-464148b83d71",
   "metadata": {},
   "outputs": [],
   "source": []
  },
  {
   "cell_type": "code",
   "execution_count": null,
   "id": "7f57cd73-5d63-4c84-ae97-80058af78128",
   "metadata": {},
   "outputs": [],
   "source": []
  },
  {
   "cell_type": "code",
   "execution_count": null,
   "id": "017a0f74-7f67-4061-b476-88303f2889ce",
   "metadata": {},
   "outputs": [],
   "source": []
  },
  {
   "cell_type": "code",
   "execution_count": null,
   "id": "d64e3d69-3d73-4e58-b958-fcdc25dd7836",
   "metadata": {},
   "outputs": [],
   "source": []
  },
  {
   "cell_type": "code",
   "execution_count": null,
   "id": "9ae06c94-81f2-4d85-a1d5-a2c3f0a48ba4",
   "metadata": {},
   "outputs": [],
   "source": []
  },
  {
   "cell_type": "code",
   "execution_count": null,
   "id": "b279de1f-aa93-48c0-9b16-2895d2dc2d7e",
   "metadata": {},
   "outputs": [],
   "source": []
  },
  {
   "cell_type": "code",
   "execution_count": null,
   "id": "0c642639-00e6-49be-a24c-1d00b1ecc211",
   "metadata": {},
   "outputs": [],
   "source": []
  },
  {
   "cell_type": "code",
   "execution_count": null,
   "id": "d151f366-cbb4-42e0-9162-7b490ff41279",
   "metadata": {},
   "outputs": [],
   "source": []
  }
 ],
 "metadata": {
  "kernelspec": {
   "display_name": "Python 3 (ipykernel)",
   "language": "python",
   "name": "python3"
  },
  "language_info": {
   "codemirror_mode": {
    "name": "ipython",
    "version": 3
   },
   "file_extension": ".py",
   "mimetype": "text/x-python",
   "name": "python",
   "nbconvert_exporter": "python",
   "pygments_lexer": "ipython3",
   "version": "3.10.8"
  }
 },
 "nbformat": 4,
 "nbformat_minor": 5
}
