{
 "cells": [
  {
   "cell_type": "code",
   "execution_count": 3,
   "id": "3dda6de7-c91d-419b-9bb0-ada67e95e9af",
   "metadata": {},
   "outputs": [],
   "source": [
    "def test():\n",
    "    print(\"This is my very first functon\")"
   ]
  },
  {
   "cell_type": "code",
   "execution_count": 4,
   "id": "4b7b022e-faf3-4f68-a1b6-84a48a4f287e",
   "metadata": {},
   "outputs": [
    {
     "name": "stdout",
     "output_type": "stream",
     "text": [
      "This is my very first functon\n"
     ]
    }
   ],
   "source": [
    "test()"
   ]
  },
  {
   "cell_type": "code",
   "execution_count": 7,
   "id": "6b09775c-1f25-4096-9600-1292cf300579",
   "metadata": {},
   "outputs": [],
   "source": [
    "#difference btw return and print is that print gives none type result and return will give whatever data type result as per user given\n",
    "def test2():\n",
    "    return \"this is my first return\""
   ]
  },
  {
   "cell_type": "code",
   "execution_count": 8,
   "id": "18a79b38-efe9-44f8-a439-ff6f6bb5c686",
   "metadata": {},
   "outputs": [
    {
     "data": {
      "text/plain": [
       "'this is my first return'"
      ]
     },
     "execution_count": 8,
     "metadata": {},
     "output_type": "execute_result"
    }
   ],
   "source": [
    "test2()"
   ]
  },
  {
   "cell_type": "code",
   "execution_count": 12,
   "id": "300a11b1-afc2-474d-b2ee-607ebc671c8d",
   "metadata": {},
   "outputs": [
    {
     "name": "stdout",
     "output_type": "stream",
     "text": [
      "This is my very first functon\n"
     ]
    },
    {
     "ename": "TypeError",
     "evalue": "unsupported operand type(s) for +: 'NoneType' and 'str'",
     "output_type": "error",
     "traceback": [
      "\u001b[0;31m---------------------------------------------------------------------------\u001b[0m",
      "\u001b[0;31mTypeError\u001b[0m                                 Traceback (most recent call last)",
      "Cell \u001b[0;32mIn[12], line 1\u001b[0m\n\u001b[0;32m----> 1\u001b[0m \u001b[43mtest\u001b[49m\u001b[43m(\u001b[49m\u001b[43m)\u001b[49m\u001b[43m \u001b[49m\u001b[38;5;241;43m+\u001b[39;49m\u001b[43m \u001b[49m\u001b[38;5;124;43m'\u001b[39;49m\u001b[38;5;124;43mTaher\u001b[39;49m\u001b[38;5;124;43m'\u001b[39;49m\n",
      "\u001b[0;31mTypeError\u001b[0m: unsupported operand type(s) for +: 'NoneType' and 'str'"
     ]
    }
   ],
   "source": [
    "test() + 'Taher'"
   ]
  },
  {
   "cell_type": "code",
   "execution_count": 11,
   "id": "7c2aacbf-3272-4e50-86ee-06ae8baaabb1",
   "metadata": {},
   "outputs": [
    {
     "data": {
      "text/plain": [
       "'this is my first return Taher'"
      ]
     },
     "execution_count": 11,
     "metadata": {},
     "output_type": "execute_result"
    }
   ],
   "source": [
    "test2() + ' Taher'"
   ]
  },
  {
   "cell_type": "code",
   "execution_count": 18,
   "id": "500b7e63-5bc6-422b-bfe5-ee5dffb6aa9c",
   "metadata": {},
   "outputs": [],
   "source": [
    "#you can give multipe data types by using return\n",
    "def test3():\n",
    "    return 'Taher' , 23, 345.56 , [1,2,3,4]"
   ]
  },
  {
   "cell_type": "code",
   "execution_count": 19,
   "id": "9b9bbe72-d915-4750-8349-390c43cc50d2",
   "metadata": {},
   "outputs": [
    {
     "data": {
      "text/plain": [
       "('Taher', 23, 345.56, [1, 2, 3, 4])"
      ]
     },
     "execution_count": 19,
     "metadata": {},
     "output_type": "execute_result"
    }
   ],
   "source": [
    "test3()"
   ]
  },
  {
   "cell_type": "code",
   "execution_count": 23,
   "id": "6286df5a-12cb-4233-ad0f-b02619431a3b",
   "metadata": {},
   "outputs": [],
   "source": [
    "a,b,c,d = test3()"
   ]
  },
  {
   "cell_type": "code",
   "execution_count": 24,
   "id": "2c4c78b9-018b-41a5-b341-3d64465e5b03",
   "metadata": {},
   "outputs": [
    {
     "data": {
      "text/plain": [
       "'Taher'"
      ]
     },
     "execution_count": 24,
     "metadata": {},
     "output_type": "execute_result"
    }
   ],
   "source": [
    "a"
   ]
  },
  {
   "cell_type": "code",
   "execution_count": 25,
   "id": "2d530ca9-58d3-4871-896f-73b20adf5056",
   "metadata": {},
   "outputs": [
    {
     "data": {
      "text/plain": [
       "23"
      ]
     },
     "execution_count": 25,
     "metadata": {},
     "output_type": "execute_result"
    }
   ],
   "source": [
    "b"
   ]
  },
  {
   "cell_type": "code",
   "execution_count": 26,
   "id": "03c29736-c4f1-42a9-a0a5-1316e95785c2",
   "metadata": {},
   "outputs": [],
   "source": [
    "def test4():\n",
    "    a=5+6/7\n",
    "    return a"
   ]
  },
  {
   "cell_type": "code",
   "execution_count": 27,
   "id": "6480e51b-91e2-45b7-bfbe-99a8db865785",
   "metadata": {},
   "outputs": [
    {
     "data": {
      "text/plain": [
       "5.857142857142857"
      ]
     },
     "execution_count": 27,
     "metadata": {},
     "output_type": "execute_result"
    }
   ],
   "source": [
    "test4()"
   ]
  },
  {
   "cell_type": "code",
   "execution_count": 30,
   "id": "9a04bb0d-03e8-4850-ad61-5cec0660e532",
   "metadata": {},
   "outputs": [],
   "source": [
    "def test5(a,b,c):\n",
    "    d=a+b/c\n",
    "    return d"
   ]
  },
  {
   "cell_type": "code",
   "execution_count": 31,
   "id": "216437f4-bf5d-493a-8ff7-f572d4db1a4e",
   "metadata": {},
   "outputs": [
    {
     "data": {
      "text/plain": [
       "3.666666666666667"
      ]
     },
     "execution_count": 31,
     "metadata": {},
     "output_type": "execute_result"
    }
   ],
   "source": [
    "test5(2,5,3)"
   ]
  },
  {
   "cell_type": "code",
   "execution_count": 32,
   "id": "bd3799e8-23d7-4f47-a070-44d9bfb4f6b8",
   "metadata": {},
   "outputs": [],
   "source": [
    "def test6(a,b):\n",
    "    return a+b\n",
    "    "
   ]
  },
  {
   "cell_type": "code",
   "execution_count": 33,
   "id": "43a0d248-2777-4eb5-baf7-e7ecf382818a",
   "metadata": {},
   "outputs": [
    {
     "data": {
      "text/plain": [
       "10"
      ]
     },
     "execution_count": 33,
     "metadata": {},
     "output_type": "execute_result"
    }
   ],
   "source": [
    "test6(4,6)"
   ]
  },
  {
   "cell_type": "code",
   "execution_count": 35,
   "id": "1ed4aea4-1bec-4126-8cf8-04b8120d05ce",
   "metadata": {},
   "outputs": [
    {
     "data": {
      "text/plain": [
       "'Taher Bohra'"
      ]
     },
     "execution_count": 35,
     "metadata": {},
     "output_type": "execute_result"
    }
   ],
   "source": [
    "test6('Taher' , ' Bohra')"
   ]
  },
  {
   "cell_type": "code",
   "execution_count": 36,
   "id": "bcc5121e-a104-4cac-9c9d-a0371185ed71",
   "metadata": {},
   "outputs": [
    {
     "data": {
      "text/plain": [
       "[3, 5, 6, 4, 6, 54, 6, 4, 6]"
      ]
     },
     "execution_count": 36,
     "metadata": {},
     "output_type": "execute_result"
    }
   ],
   "source": [
    "test6([3,5,6,4,6] , [54,6,4,6])"
   ]
  },
  {
   "cell_type": "code",
   "execution_count": 38,
   "id": "1e826deb-2c85-4a50-a387-17f5eddd3d8e",
   "metadata": {},
   "outputs": [],
   "source": [
    "l = [1,2,3,4, \"Taher\" , \" Bohra\" , [1,4,3,4]]"
   ]
  },
  {
   "cell_type": "code",
   "execution_count": 42,
   "id": "bb18364a-3bf8-4f12-aa1a-1a5cce5c0b39",
   "metadata": {},
   "outputs": [],
   "source": [
    "def test7(l):\n",
    "    l1=[]\n",
    "    for i in l:\n",
    "        if type(i)==int or type(i)==float:\n",
    "            l1.append(i)\n",
    "    return l1"
   ]
  },
  {
   "cell_type": "code",
   "execution_count": 45,
   "id": "dca4886e-203b-4544-b157-429c73e87bd5",
   "metadata": {},
   "outputs": [
    {
     "data": {
      "text/plain": [
       "[1, 2, 3, 4]"
      ]
     },
     "execution_count": 45,
     "metadata": {},
     "output_type": "execute_result"
    }
   ],
   "source": [
    "test7(l)"
   ]
  },
  {
   "cell_type": "code",
   "execution_count": 48,
   "id": "8c321bd3-62b2-4921-b95e-426d4da2320b",
   "metadata": {},
   "outputs": [],
   "source": [
    "def test8(a):\n",
    "    \"\"\"This is my function to extract num data from list\"\"\"\n",
    "    l1=[]\n",
    "    for i in a:\n",
    "        if type(i)==list:\n",
    "            for j in i:\n",
    "                l1.append(j)\n",
    "        else:\n",
    "            if type(i)==int or type(i)==float:\n",
    "                l1.append(i)\n",
    "    return l1\n",
    "    "
   ]
  },
  {
   "cell_type": "code",
   "execution_count": 49,
   "id": "04d02a3a-0915-4487-8b95-084f5d7a9409",
   "metadata": {},
   "outputs": [
    {
     "data": {
      "text/plain": [
       "[1, 2, 3, 4, 1, 4, 3, 4]"
      ]
     },
     "execution_count": 49,
     "metadata": {},
     "output_type": "execute_result"
    }
   ],
   "source": [
    "test8(l)"
   ]
  },
  {
   "cell_type": "code",
   "execution_count": 51,
   "id": "4fd6029a-e5bb-4abc-955c-6520f6d3a933",
   "metadata": {},
   "outputs": [],
   "source": [
    "def test9(*Taher):\n",
    "    \"\"\"This will return so many arguments\"\"\"\n",
    "    return Taher"
   ]
  },
  {
   "cell_type": "code",
   "execution_count": 52,
   "id": "2f014059-d823-4497-ac13-3908a4465e19",
   "metadata": {},
   "outputs": [
    {
     "data": {
      "text/plain": [
       "(43, 'gfg', [3, 43, 2])"
      ]
     },
     "execution_count": 52,
     "metadata": {},
     "output_type": "execute_result"
    }
   ],
   "source": [
    "test9(43, \"gfg\" , [3,43,2])"
   ]
  },
  {
   "cell_type": "code",
   "execution_count": 62,
   "id": "841c2041-779b-4868-a896-cabe22650d2d",
   "metadata": {},
   "outputs": [],
   "source": [
    "def test10(*Taher , b):\n",
    "    return Taher , b"
   ]
  },
  {
   "cell_type": "code",
   "execution_count": 64,
   "id": "84c6e992-d421-498e-a9eb-47db189cde78",
   "metadata": {},
   "outputs": [
    {
     "ename": "TypeError",
     "evalue": "test10() missing 1 required keyword-only argument: 'b'",
     "output_type": "error",
     "traceback": [
      "\u001b[0;31m---------------------------------------------------------------------------\u001b[0m",
      "\u001b[0;31mTypeError\u001b[0m                                 Traceback (most recent call last)",
      "Cell \u001b[0;32mIn[64], line 2\u001b[0m\n\u001b[1;32m      1\u001b[0m \u001b[38;5;66;03m#\"\"\"This will give error because u can only pass value for 1 arg, for another u have to mention the argument \u001b[39;00m\n\u001b[0;32m----> 2\u001b[0m \u001b[43mtest10\u001b[49m\u001b[43m(\u001b[49m\u001b[38;5;241;43m1\u001b[39;49m\u001b[43m,\u001b[49m\u001b[38;5;241;43m2\u001b[39;49m\u001b[43m,\u001b[49m\u001b[38;5;241;43m3\u001b[39;49m\u001b[43m,\u001b[49m\u001b[38;5;241;43m4\u001b[39;49m\u001b[43m)\u001b[49m\n",
      "\u001b[0;31mTypeError\u001b[0m: test10() missing 1 required keyword-only argument: 'b'"
     ]
    }
   ],
   "source": [
    " #\"\"\"This will give error because u can only pass value for 1 arg, for another u have to mention the argument \n",
    "test10(1,2,3,4)"
   ]
  },
  {
   "cell_type": "code",
   "execution_count": 67,
   "id": "8882e6fe-188a-4350-89a4-df07162b855a",
   "metadata": {},
   "outputs": [
    {
     "data": {
      "text/plain": [
       "((1, 2, 3, 4), 31)"
      ]
     },
     "execution_count": 67,
     "metadata": {},
     "output_type": "execute_result"
    }
   ],
   "source": [
    "#hence this will not give any error because u have given the second value by mentioning it  \n",
    "test10(1,2,3,4, b=31)"
   ]
  },
  {
   "cell_type": "code",
   "execution_count": 68,
   "id": "cad2c376-1c80-42a3-ac92-2f7d496120ec",
   "metadata": {},
   "outputs": [
    {
     "ename": "SyntaxError",
     "evalue": "non-default argument follows default argument (2077188248.py, line 2)",
     "output_type": "error",
     "traceback": [
      "\u001b[0;36m  Cell \u001b[0;32mIn[68], line 2\u001b[0;36m\u001b[0m\n\u001b[0;31m    def test11(a=1 ,b =56 ,c,d):\u001b[0m\n\u001b[0m                           ^\u001b[0m\n\u001b[0;31mSyntaxError\u001b[0m\u001b[0;31m:\u001b[0m non-default argument follows default argument\n"
     ]
    }
   ],
   "source": [
    "#this will give error bcaz u have to mention the default value at the last\n",
    "def test11(a=1 ,b =56 ,c,d):\n",
    "    return a,b,c,d"
   ]
  },
  {
   "cell_type": "code",
   "execution_count": 70,
   "id": "78c93eee-dc82-4f93-84f5-f6ff3cf1fcc0",
   "metadata": {},
   "outputs": [],
   "source": [
    "#this will give error bcaz u have to mention the default value at the last\n",
    "def test11(c,d,a=1 ,b =56 ):\n",
    "    return a,b,c,d"
   ]
  },
  {
   "cell_type": "code",
   "execution_count": 71,
   "id": "d8ddb479-94c4-43f2-baec-1a942f9abc49",
   "metadata": {},
   "outputs": [
    {
     "data": {
      "text/plain": [
       "(1, 56, 3, 5)"
      ]
     },
     "execution_count": 71,
     "metadata": {},
     "output_type": "execute_result"
    }
   ],
   "source": [
    "test11(3,5)"
   ]
  },
  {
   "cell_type": "code",
   "execution_count": 76,
   "id": "76004103-659f-4e1b-b67a-6929306b984a",
   "metadata": {},
   "outputs": [],
   "source": [
    "def test12(**Taher):\n",
    "    #To use the dictioary in the function we use ** \n",
    "    return Taher"
   ]
  },
  {
   "cell_type": "code",
   "execution_count": 78,
   "id": "e81ada52-653d-4bea-a082-edbb8e3da393",
   "metadata": {},
   "outputs": [
    {
     "data": {
      "text/plain": [
       "dict"
      ]
     },
     "execution_count": 78,
     "metadata": {},
     "output_type": "execute_result"
    }
   ],
   "source": [
    "type(test12())"
   ]
  },
  {
   "cell_type": "code",
   "execution_count": 81,
   "id": "4d753477-7f55-4e40-9ab6-a7b1ade2b822",
   "metadata": {},
   "outputs": [
    {
     "data": {
      "text/plain": [
       "{'City': 'pune', 'country': 'India', 'Pincode': 411048}"
      ]
     },
     "execution_count": 81,
     "metadata": {},
     "output_type": "execute_result"
    }
   ],
   "source": [
    "test12(City = 'pune' , country = 'India' , Pincode = 411048)"
   ]
  },
  {
   "cell_type": "code",
   "execution_count": 2,
   "id": "d40c2960-1f33-48a9-815c-24198d73e543",
   "metadata": {},
   "outputs": [
    {
     "name": "stdout",
     "output_type": "stream",
     "text": [
      "0\n",
      "1\n",
      "2\n",
      "3\n",
      "4\n",
      "5\n",
      "6\n",
      "7\n",
      "8\n",
      "9\n"
     ]
    }
   ],
   "source": [
    "for i in range(10):\n",
    "    print(i)"
   ]
  },
  {
   "cell_type": "code",
   "execution_count": 1,
   "id": "ecb03657-b285-4aa1-8f01-67d7685dcf71",
   "metadata": {},
   "outputs": [],
   "source": [
    "def test_fib(n):\n",
    "    a,b=0,1\n",
    "    for i in range(n):\n",
    "        yield a #yield is used in a generator function. It passes the value \n",
    "        a,b=b, a+b"
   ]
  },
  {
   "cell_type": "code",
   "execution_count": 5,
   "id": "5abbee17-458f-48c7-8f71-f7168c4855c0",
   "metadata": {},
   "outputs": [
    {
     "name": "stdout",
     "output_type": "stream",
     "text": [
      "0\n",
      "1\n",
      "1\n",
      "2\n",
      "3\n",
      "5\n",
      "8\n",
      "13\n",
      "21\n",
      "34\n"
     ]
    }
   ],
   "source": [
    "for i in test_fib(10):\n",
    "    print(i)"
   ]
  },
  {
   "cell_type": "code",
   "execution_count": 7,
   "id": "46b4122e-a540-46e1-9579-902af8caf278",
   "metadata": {},
   "outputs": [],
   "source": [
    "def test_fib(n):\n",
    "    a,b=0,1\n",
    "    while True:\n",
    "        yield a #yield is used in a generator function. It passes the value \n",
    "        a,b=b, a+b"
   ]
  },
  {
   "cell_type": "code",
   "execution_count": 22,
   "id": "05cb67e0-3f56-4647-a869-8e9afdbb41b2",
   "metadata": {},
   "outputs": [],
   "source": [
    "fib=test_fib(10)\n",
    "#Generator means  the thing which iterate again and again"
   ]
  },
  {
   "cell_type": "code",
   "execution_count": 10,
   "id": "5a4e59e6-73d2-4b80-b2d8-9a8e4a7014fe",
   "metadata": {},
   "outputs": [
    {
     "name": "stdout",
     "output_type": "stream",
     "text": [
      "0\n",
      "1\n",
      "1\n",
      "2\n",
      "3\n",
      "5\n",
      "8\n",
      "13\n",
      "21\n",
      "34\n"
     ]
    }
   ],
   "source": [
    "for i in range(10):\n",
    "    print(next(fib))\n",
    "    #next is used "
   ]
  },
  {
   "cell_type": "code",
   "execution_count": 18,
   "id": "07fade95-5752-4863-9874-b00346cb5f9d",
   "metadata": {},
   "outputs": [],
   "source": [
    "s = \"Ther\""
   ]
  },
  {
   "cell_type": "code",
   "execution_count": 23,
   "id": "087bb830-5540-4e9e-962b-f5e861fc7be5",
   "metadata": {},
   "outputs": [],
   "source": [
    "t = iter(s) \n",
    "#we have converted the string into iterator because string is the iterable....remember only iterable can covert into iterator\n",
    "#since numbers are not iterable so it cannot convert into iterator"
   ]
  },
  {
   "cell_type": "code",
   "execution_count": 24,
   "id": "01a3f04a-98f3-4d08-b147-271cdb27a997",
   "metadata": {},
   "outputs": [
    {
     "data": {
      "text/plain": [
       "str_iterator"
      ]
     },
     "execution_count": 24,
     "metadata": {},
     "output_type": "execute_result"
    }
   ],
   "source": [
    "type(t)"
   ]
  },
  {
   "cell_type": "code",
   "execution_count": 15,
   "id": "ebac7a4b-0ad5-4444-b8de-cda2da903596",
   "metadata": {},
   "outputs": [
    {
     "name": "stdout",
     "output_type": "stream",
     "text": [
      "T\n"
     ]
    }
   ],
   "source": [
    "print(next(t))"
   ]
  },
  {
   "cell_type": "code",
   "execution_count": 17,
   "id": "683e3b18-7958-4eed-9120-a248b1992c7a",
   "metadata": {},
   "outputs": [
    {
     "name": "stdout",
     "output_type": "stream",
     "text": [
      "h\n"
     ]
    }
   ],
   "source": [
    "print(next(t))"
   ]
  },
  {
   "cell_type": "code",
   "execution_count": 19,
   "id": "e98ae7cb-99f1-4f33-8b3a-af1806fe8fdd",
   "metadata": {},
   "outputs": [
    {
     "name": "stdout",
     "output_type": "stream",
     "text": [
      "e\n"
     ]
    }
   ],
   "source": [
    "print(next(t))"
   ]
  },
  {
   "cell_type": "code",
   "execution_count": 20,
   "id": "e54a046a-d17f-4604-bec1-885b7c63166c",
   "metadata": {},
   "outputs": [
    {
     "name": "stdout",
     "output_type": "stream",
     "text": [
      "r\n"
     ]
    }
   ],
   "source": [
    "print(next(t))"
   ]
  },
  {
   "cell_type": "code",
   "execution_count": 27,
   "id": "cb337bea-d731-48cb-97dd-03afe651c6a9",
   "metadata": {},
   "outputs": [],
   "source": [
    "#Lecture 3 Lambda function"
   ]
  },
  {
   "cell_type": "code",
   "execution_count": 36,
   "id": "42a4af69-2699-4ec1-8ce5-2d2fef2942b6",
   "metadata": {},
   "outputs": [],
   "source": [
    "def test0(n,p):\n",
    "    return n**p"
   ]
  },
  {
   "cell_type": "code",
   "execution_count": 37,
   "id": "1ffc2aad-17b8-4ce9-90f3-55057bd1293a",
   "metadata": {},
   "outputs": [
    {
     "data": {
      "text/plain": [
       "9"
      ]
     },
     "execution_count": 37,
     "metadata": {},
     "output_type": "execute_result"
    }
   ],
   "source": [
    "test0(3,2)"
   ]
  },
  {
   "cell_type": "code",
   "execution_count": 38,
   "id": "ee9be98e-1526-4297-9aeb-3744fd5a64b2",
   "metadata": {},
   "outputs": [],
   "source": [
    "a =lambda n,p : n**p"
   ]
  },
  {
   "cell_type": "code",
   "execution_count": 39,
   "id": "fe9a3983-29bd-42b0-9a38-b651ad0bac05",
   "metadata": {},
   "outputs": [
    {
     "data": {
      "text/plain": [
       "9"
      ]
     },
     "execution_count": 39,
     "metadata": {},
     "output_type": "execute_result"
    }
   ],
   "source": [
    "a(3,2)"
   ]
  },
  {
   "cell_type": "code",
   "execution_count": 40,
   "id": "79c32ab6-cc84-4a19-bff2-b3ec089562f1",
   "metadata": {},
   "outputs": [],
   "source": [
    "b= lambda n,p : n+p"
   ]
  },
  {
   "cell_type": "code",
   "execution_count": 41,
   "id": "bab63c5e-5b19-47df-9972-1962406fb248",
   "metadata": {},
   "outputs": [
    {
     "data": {
      "text/plain": [
       "7"
      ]
     },
     "execution_count": 41,
     "metadata": {},
     "output_type": "execute_result"
    }
   ],
   "source": [
    "b(3,4)"
   ]
  },
  {
   "cell_type": "code",
   "execution_count": 42,
   "id": "a971647d-a904-42f8-acf1-cb1d6f8dfb61",
   "metadata": {},
   "outputs": [],
   "source": [
    "c_to_f = lambda c: (9/5)*c + 32"
   ]
  },
  {
   "cell_type": "code",
   "execution_count": 44,
   "id": "e07fa6e8-6881-4d2b-b00d-a2aa6ea85455",
   "metadata": {},
   "outputs": [
    {
     "data": {
      "text/plain": [
       "104.0"
      ]
     },
     "execution_count": 44,
     "metadata": {},
     "output_type": "execute_result"
    }
   ],
   "source": [
    "c_to_f(40)"
   ]
  },
  {
   "cell_type": "code",
   "execution_count": 45,
   "id": "fdcea041-cadf-4152-bd48-3a3a529c6afc",
   "metadata": {},
   "outputs": [],
   "source": [
    "finding_max = lambda x,y : x if x>y else y"
   ]
  },
  {
   "cell_type": "code",
   "execution_count": 46,
   "id": "d831bb45-3223-4129-844d-511c483f92a8",
   "metadata": {},
   "outputs": [
    {
     "data": {
      "text/plain": [
       "45"
      ]
     },
     "execution_count": 46,
     "metadata": {},
     "output_type": "execute_result"
    }
   ],
   "source": [
    "finding_max(32,45)"
   ]
  },
  {
   "cell_type": "code",
   "execution_count": 47,
   "id": "ed3d6f3a-0773-47f4-92e9-0661dea8d9b4",
   "metadata": {},
   "outputs": [],
   "source": [
    "s = \"T A H E R\""
   ]
  },
  {
   "cell_type": "code",
   "execution_count": 50,
   "id": "adb48475-3c50-4363-80d9-17b3512ce989",
   "metadata": {},
   "outputs": [],
   "source": [
    "finding_length = lambda x : len(s)"
   ]
  },
  {
   "cell_type": "code",
   "execution_count": 51,
   "id": "dcad9321-b7e7-4ca0-9aec-d0df27e5c029",
   "metadata": {},
   "outputs": [
    {
     "data": {
      "text/plain": [
       "9"
      ]
     },
     "execution_count": 51,
     "metadata": {},
     "output_type": "execute_result"
    }
   ],
   "source": [
    "finding_length(s)"
   ]
  },
  {
   "cell_type": "code",
   "execution_count": null,
   "id": "62d94ae1-a51a-4948-bdc7-f0f9c1a0c6fb",
   "metadata": {},
   "outputs": [],
   "source": [
    "#Lecture 4 Map reduce and filter function"
   ]
  },
  {
   "cell_type": "code",
   "execution_count": 64,
   "id": "a70ae048-73e0-4af0-80e5-91c98323def2",
   "metadata": {},
   "outputs": [],
   "source": [
    "l=[2,3,4,5,6]"
   ]
  },
  {
   "cell_type": "code",
   "execution_count": 52,
   "id": "d5bffda9-cd64-4983-b8a6-acf1515844f2",
   "metadata": {},
   "outputs": [],
   "source": [
    "def test13(l):\n",
    "    l1 = []\n",
    "    for i in l:\n",
    "        l1.append(i)\n",
    "    return l1"
   ]
  },
  {
   "cell_type": "code",
   "execution_count": 57,
   "id": "8ec812f0-599d-4343-9d86-248b99b81c20",
   "metadata": {},
   "outputs": [
    {
     "data": {
      "text/plain": [
       "[2, 3, 4, 5, 6]"
      ]
     },
     "execution_count": 57,
     "metadata": {},
     "output_type": "execute_result"
    }
   ],
   "source": [
    "test13(l)"
   ]
  },
  {
   "cell_type": "code",
   "execution_count": 58,
   "id": "b022b1e7-9228-443b-a6ae-1c83dd27c792",
   "metadata": {},
   "outputs": [],
   "source": [
    "def sq(x):\n",
    "    return x**2"
   ]
  },
  {
   "cell_type": "code",
   "execution_count": 62,
   "id": "a20714d5-8022-4fec-ac18-1829da09b312",
   "metadata": {},
   "outputs": [
    {
     "data": {
      "text/plain": [
       "[4, 9, 16, 25, 36]"
      ]
     },
     "execution_count": 62,
     "metadata": {},
     "output_type": "execute_result"
    }
   ],
   "source": [
    "list(map(sq , l))"
   ]
  },
  {
   "cell_type": "code",
   "execution_count": 66,
   "id": "57e0ffad-9732-4403-bf4d-76e847f81472",
   "metadata": {},
   "outputs": [
    {
     "data": {
      "text/plain": [
       "[4, 9, 16, 25, 36]"
      ]
     },
     "execution_count": 66,
     "metadata": {},
     "output_type": "execute_result"
    }
   ],
   "source": [
    "list(map(lambda x: x**2 , l))"
   ]
  },
  {
   "cell_type": "code",
   "execution_count": 69,
   "id": "60ea329c-d8c5-4c99-bab5-64af3fca9c8c",
   "metadata": {},
   "outputs": [
    {
     "data": {
      "text/plain": [
       "[13, 5, 7, 11, 13, 13]"
      ]
     },
     "execution_count": 69,
     "metadata": {},
     "output_type": "execute_result"
    }
   ],
   "source": [
    "l2 = [1,2,3,4,5,6]\n",
    "l3=[12,3,4,7,8, 7]\n",
    "list(map(lambda x, y : x+y , l2 , l3 ))"
   ]
  },
  {
   "cell_type": "code",
   "execution_count": 70,
   "id": "15363f09-e120-4146-988b-4032f300f90b",
   "metadata": {},
   "outputs": [],
   "source": [
    "def add(x,y):\n",
    "    return x+y"
   ]
  },
  {
   "cell_type": "code",
   "execution_count": 71,
   "id": "5c7299a8-6e34-426c-925a-36f85607a929",
   "metadata": {},
   "outputs": [
    {
     "data": {
      "text/plain": [
       "[13, 5, 7, 11, 13, 13]"
      ]
     },
     "execution_count": 71,
     "metadata": {},
     "output_type": "execute_result"
    }
   ],
   "source": [
    "list(map(add, l2, l3))"
   ]
  },
  {
   "cell_type": "code",
   "execution_count": null,
   "id": "196b3218-7984-43eb-9958-436ad2f1c419",
   "metadata": {},
   "outputs": [
    {
     "data": {
      "text/plain": [
       "['T', 'A', 'H', 'E', 'R']"
      ]
     },
     "execution_count": 74,
     "metadata": {},
     "output_type": "execute_result"
    }
   ],
   "source": [
    "s1 = \"Taher\"\n",
    "list(map(lambda s: s.upper() ,  s1))"
   ]
  },
  {
   "cell_type": "code",
   "execution_count": 75,
   "id": "4d595e84-16c0-4c89-a16c-45839eeaa709",
   "metadata": {},
   "outputs": [],
   "source": [
    "from functools import reduce \n",
    "#by defult reduce is not avaibale so we hav to call the reduce"
   ]
  },
  {
   "cell_type": "code",
   "execution_count": 76,
   "id": "67dbba0b-3f54-4312-a7b9-6ea005ceea2d",
   "metadata": {},
   "outputs": [],
   "source": [
    "l3= [12,3,4,6,8,6]"
   ]
  },
  {
   "cell_type": "code",
   "execution_count": 79,
   "id": "bc0c96e8-5267-44ad-8b45-1b51d5a7736d",
   "metadata": {},
   "outputs": [
    {
     "data": {
      "text/plain": [
       "39"
      ]
     },
     "execution_count": 79,
     "metadata": {},
     "output_type": "execute_result"
    }
   ],
   "source": [
    "reduce(lambda x,y: x+y , l3) #reduce only takes 2 parameter"
   ]
  },
  {
   "cell_type": "code",
   "execution_count": 82,
   "id": "e5050ab0-0a1d-4b36-84ed-f32ead85d04b",
   "metadata": {},
   "outputs": [
    {
     "data": {
      "text/plain": [
       "41472"
      ]
     },
     "execution_count": 82,
     "metadata": {},
     "output_type": "execute_result"
    }
   ],
   "source": [
    "reduce(lambda x,y : x*y , l3)"
   ]
  },
  {
   "cell_type": "code",
   "execution_count": 83,
   "id": "f32d18f9-1ee5-461b-bd16-9899e5ea98fb",
   "metadata": {},
   "outputs": [
    {
     "data": {
      "text/plain": [
       "[12, 3, 4, 6, 8, 6]"
      ]
     },
     "execution_count": 83,
     "metadata": {},
     "output_type": "execute_result"
    }
   ],
   "source": [
    "l3"
   ]
  },
  {
   "cell_type": "code",
   "execution_count": 84,
   "id": "e3b8707d-0835-4f5a-b30e-c49f66124514",
   "metadata": {},
   "outputs": [
    {
     "data": {
      "text/plain": [
       "12"
      ]
     },
     "execution_count": 84,
     "metadata": {},
     "output_type": "execute_result"
    }
   ],
   "source": [
    "reduce(lambda x,y : x if x>y else y , l3)"
   ]
  },
  {
   "cell_type": "code",
   "execution_count": null,
   "id": "32a5f66c-aa5c-4b85-8bc1-867ef4e5b744",
   "metadata": {},
   "outputs": [],
   "source": [
    "#filter = Return an iterator yielding those items of iterable for which function(item) is true. If function is None, return the items that are true."
   ]
  },
  {
   "cell_type": "code",
   "execution_count": 85,
   "id": "0581bbd0-1f09-4061-8213-31d3b7de6819",
   "metadata": {},
   "outputs": [
    {
     "data": {
      "text/plain": [
       "[12, 3, 4, 6, 8, 6]"
      ]
     },
     "execution_count": 85,
     "metadata": {},
     "output_type": "execute_result"
    }
   ],
   "source": [
    "l3"
   ]
  },
  {
   "cell_type": "code",
   "execution_count": 86,
   "id": "cdf11c9b-7fd8-45b4-9889-28b9bbf3f36d",
   "metadata": {},
   "outputs": [
    {
     "data": {
      "text/plain": [
       "[12, 4, 6, 8, 6]"
      ]
     },
     "execution_count": 86,
     "metadata": {},
     "output_type": "execute_result"
    }
   ],
   "source": [
    "list(filter(lambda x: x % 2 == 0 , l3))"
   ]
  },
  {
   "cell_type": "code",
   "execution_count": 87,
   "id": "0394631d-a414-4e07-b017-c59900b107cc",
   "metadata": {},
   "outputs": [
    {
     "data": {
      "text/plain": [
       "[3]"
      ]
     },
     "execution_count": 87,
     "metadata": {},
     "output_type": "execute_result"
    }
   ],
   "source": [
    "list(filter(lambda x: x % 2 != 0 , l3))"
   ]
  },
  {
   "cell_type": "code",
   "execution_count": 88,
   "id": "1564649d-0bda-408c-9a8d-776c6fb63a40",
   "metadata": {},
   "outputs": [],
   "source": [
    "l4 = [\"Taher\" , 'Pwskills' , 'Bohra' , \"HUSSAIN\"]"
   ]
  },
  {
   "cell_type": "code",
   "execution_count": 89,
   "id": "2ce73934-42dd-46c7-93ab-011637f5bbe5",
   "metadata": {},
   "outputs": [
    {
     "data": {
      "text/plain": [
       "['Pwskills', 'HUSSAIN']"
      ]
     },
     "execution_count": 89,
     "metadata": {},
     "output_type": "execute_result"
    }
   ],
   "source": [
    " list(filter(lambda x : len(x)>6 , l4))"
   ]
  }
 ],
 "metadata": {
  "kernelspec": {
   "display_name": "Python 3 (ipykernel)",
   "language": "python",
   "name": "python3"
  },
  "language_info": {
   "codemirror_mode": {
    "name": "ipython",
    "version": 3
   },
   "file_extension": ".py",
   "mimetype": "text/x-python",
   "name": "python",
   "nbconvert_exporter": "python",
   "pygments_lexer": "ipython3",
   "version": "3.10.8"
  }
 },
 "nbformat": 4,
 "nbformat_minor": 5
}
