{
 "cells": [
  {
   "cell_type": "markdown",
   "id": "1922c9e8-5bda-4a12-84e0-e9a0d9fa387d",
   "metadata": {},
   "source": [
    "Oops = Object Orented Programing Language"
   ]
  },
  {
   "cell_type": "code",
   "execution_count": 2,
   "id": "d13c651e-26d0-4ef3-9380-e1085057e8d1",
   "metadata": {},
   "outputs": [],
   "source": [
    "a = 1"
   ]
  },
  {
   "cell_type": "code",
   "execution_count": 3,
   "id": "413cbbb0-bf34-4427-9125-eecd830526eb",
   "metadata": {},
   "outputs": [
    {
     "data": {
      "text/plain": [
       "int"
      ]
     },
     "execution_count": 3,
     "metadata": {},
     "output_type": "execute_result"
    }
   ],
   "source": [
    "type(a)\n",
    "     "
   ]
  },
  {
   "cell_type": "code",
   "execution_count": 4,
   "id": "9d0d6a53-a178-4540-a086-5b6aec0608ed",
   "metadata": {},
   "outputs": [
    {
     "name": "stdout",
     "output_type": "stream",
     "text": [
      "<class 'int'>\n"
     ]
    }
   ],
   "source": [
    "print(type(a))"
   ]
  },
  {
   "cell_type": "code",
   "execution_count": 5,
   "id": "b65e495f-de48-4c5e-b0ca-a2e3bedce17d",
   "metadata": {},
   "outputs": [],
   "source": [
    "class test:\n",
    "    pass"
   ]
  },
  {
   "cell_type": "code",
   "execution_count": 6,
   "id": "480b3593-47a7-4c99-8a6c-7a5f424698be",
   "metadata": {},
   "outputs": [],
   "source": [
    "a = test()"
   ]
  },
  {
   "cell_type": "code",
   "execution_count": 7,
   "id": "e40c647a-df9e-489c-8a4a-29c263d2a56f",
   "metadata": {},
   "outputs": [
    {
     "data": {
      "text/plain": [
       "__main__.test"
      ]
     },
     "execution_count": 7,
     "metadata": {},
     "output_type": "execute_result"
    }
   ],
   "source": [
    "type(a)"
   ]
  },
  {
   "cell_type": "code",
   "execution_count": 8,
   "id": "05f989f8-f1da-4e4a-9512-fde46cabca84",
   "metadata": {},
   "outputs": [
    {
     "name": "stdout",
     "output_type": "stream",
     "text": [
      "<class '__main__.test'>\n"
     ]
    }
   ],
   "source": [
    "print(type(a))"
   ]
  },
  {
   "cell_type": "code",
   "execution_count": 9,
   "id": "8fb9bfe1-0f26-4886-9345-48e16eb7d5c7",
   "metadata": {},
   "outputs": [],
   "source": [
    "class pwskills:\n",
    "    def welcome_msg(self):   #it is necessary to define the self parameter when we define function in the class\n",
    "        print(\"welcome to pw skills\")"
   ]
  },
  {
   "cell_type": "code",
   "execution_count": 10,
   "id": "7586a315-e5dd-4ac0-8073-e785affd2585",
   "metadata": {},
   "outputs": [],
   "source": [
    "rohan = pwskills()"
   ]
  },
  {
   "cell_type": "code",
   "execution_count": 11,
   "id": "412c97fe-a2b5-41e6-8d2b-2045076b524e",
   "metadata": {},
   "outputs": [
    {
     "name": "stdout",
     "output_type": "stream",
     "text": [
      "welcome to pw skills\n"
     ]
    }
   ],
   "source": [
    "rohan.welcome_msg()"
   ]
  },
  {
   "cell_type": "code",
   "execution_count": 12,
   "id": "fe62ab00-c5c0-4db9-9d1a-e7d3d3e49b74",
   "metadata": {},
   "outputs": [],
   "source": [
    "Taher = pwskills()"
   ]
  },
  {
   "cell_type": "code",
   "execution_count": 13,
   "id": "86494a44-37c0-4b65-a806-4250bb784514",
   "metadata": {},
   "outputs": [
    {
     "name": "stdout",
     "output_type": "stream",
     "text": [
      "welcome to pw skills\n"
     ]
    }
   ],
   "source": [
    "Taher.welcome_msg()"
   ]
  },
  {
   "cell_type": "code",
   "execution_count": 15,
   "id": "30ccc2db-da03-44e3-9a21-06bc5173ca43",
   "metadata": {},
   "outputs": [],
   "source": [
    "class pwskills1:\n",
    "    def __init__(self, phone_number , email_id, student_id):\n",
    "        self.phone_number = phone_number\n",
    "        self.email_id = email_id\n",
    "        self.student_id = student_id\n",
    "        \n",
    "    def return_student_details(self):\n",
    "        return self.phone_number , self.email_id , self.student_id"
   ]
  },
  {
   "cell_type": "code",
   "execution_count": 14,
   "id": "02e394cd-db50-417f-8b31-629291365dc7",
   "metadata": {},
   "outputs": [],
   "source": [
    "Taher = pwskills1(69885878725 , 'yjegd@gmail.com' , 526)"
   ]
  },
  {
   "cell_type": "raw",
   "id": "a4e3668b-2529-4923-a0cb-e5e621f242ac",
   "metadata": {},
   "source": [
    "Taher.return_student_details()"
   ]
  },
  {
   "cell_type": "markdown",
   "id": "da53509b-31be-4864-9a81-bf25bfc5cc73",
   "metadata": {},
   "source": [
    "Taher.phone_number"
   ]
  },
  {
   "cell_type": "code",
   "execution_count": 61,
   "id": "15ca2b3a-7496-48d5-b1e9-e2d686591d41",
   "metadata": {},
   "outputs": [],
   "source": [
    "class pwskills2:\n",
    "    def __init__(taher , mom_name , dad_name , sister_name , brother_name):\n",
    "        taher.mom_name2 = mom_name \n",
    "        taher.dad_name2 = dad_name\n",
    "        taher.sister_name2 = sister_name\n",
    "        taher.brother_name = brother_name\n",
    "        \n",
    "    def return_family_details(taher):\n",
    "        return taher.mom_name2 , taher.dad_name2 , taher.sister_name2 , taher.brother_name\n",
    "        "
   ]
  },
  {
   "cell_type": "code",
   "execution_count": 62,
   "id": "d098422d-b725-4da9-bc86-8a532748dfc4",
   "metadata": {},
   "outputs": [],
   "source": [
    "Taher2 = pwskills2(\"MAriya\" , \"Hakimuddin\" , \"Batu\" , \"Burhanuddin\")"
   ]
  },
  {
   "cell_type": "code",
   "execution_count": 63,
   "id": "817cd50c-a6ae-4322-8561-f45bf8a816d1",
   "metadata": {},
   "outputs": [
    {
     "data": {
      "text/plain": [
       "'MAriya'"
      ]
     },
     "execution_count": 63,
     "metadata": {},
     "output_type": "execute_result"
    }
   ],
   "source": [
    "Taher2.mom_name2"
   ]
  },
  {
   "cell_type": "code",
   "execution_count": 64,
   "id": "2567feba-d33a-44fc-ba4a-ce515bf953ab",
   "metadata": {},
   "outputs": [
    {
     "data": {
      "text/plain": [
       "'Hakimuddin'"
      ]
     },
     "execution_count": 64,
     "metadata": {},
     "output_type": "execute_result"
    }
   ],
   "source": [
    "Taher2.dad_name2"
   ]
  },
  {
   "cell_type": "code",
   "execution_count": 66,
   "id": "210d84b9-5eca-49d9-8da3-f278dfd0586c",
   "metadata": {},
   "outputs": [
    {
     "data": {
      "text/plain": [
       "'Batu'"
      ]
     },
     "execution_count": 66,
     "metadata": {},
     "output_type": "execute_result"
    }
   ],
   "source": [
    "Taher2.sister_name2"
   ]
  },
  {
   "cell_type": "code",
   "execution_count": 4,
   "id": "f065e114-f5cb-486e-b4aa-9e6e1f11a420",
   "metadata": {},
   "outputs": [],
   "source": [
    "class pwskills3 :\n",
    "    def __init__(taher1 , syallabus , surname ):\n",
    "        taher1.syallabus1 = syallabus\n",
    "        taher1.surnme2 = surname \n",
    "        \n",
    "    def retrun_details(taher1):\n",
    "        return taher1.syallabus1 , taher1.surnme2 "
   ]
  },
  {
   "cell_type": "code",
   "execution_count": 8,
   "id": "607c1ccb-aedb-4d72-92b4-fc060110c891",
   "metadata": {},
   "outputs": [],
   "source": [
    "taher3 = pwskills3(\"bcA\" , \"bohra\")"
   ]
  },
  {
   "cell_type": "code",
   "execution_count": 10,
   "id": "79158fb1-1f54-40dc-8373-ba69339228d5",
   "metadata": {},
   "outputs": [
    {
     "data": {
      "text/plain": [
       "'bcA'"
      ]
     },
     "execution_count": 10,
     "metadata": {},
     "output_type": "execute_result"
    }
   ],
   "source": [
    "taher3.syallabus1"
   ]
  },
  {
   "cell_type": "code",
   "execution_count": 11,
   "id": "04b42509-5f10-4192-af41-7790b4fa894d",
   "metadata": {},
   "outputs": [
    {
     "data": {
      "text/plain": [
       "'bohra'"
      ]
     },
     "execution_count": 11,
     "metadata": {},
     "output_type": "execute_result"
    }
   ],
   "source": [
    "taher3.surnme2"
   ]
  },
  {
   "cell_type": "markdown",
   "id": "fb80087a-2c72-42cd-ab51-4d7e729df672",
   "metadata": {},
   "source": [
    "POLYMORPHISM"
   ]
  },
  {
   "cell_type": "code",
   "execution_count": 13,
   "id": "01fff31a-e409-43df-af97-c571e89c1f1c",
   "metadata": {},
   "outputs": [],
   "source": [
    "def test(a,b):\n",
    "    print(a+b)"
   ]
  },
  {
   "cell_type": "code",
   "execution_count": 14,
   "id": "2a7365e1-be87-45c2-bbf2-4c0454703b39",
   "metadata": {},
   "outputs": [
    {
     "name": "stdout",
     "output_type": "stream",
     "text": [
      "101\n"
     ]
    }
   ],
   "source": [
    "test(45,56)"
   ]
  },
  {
   "cell_type": "code",
   "execution_count": 35,
   "id": "ada6ff22-35b0-42ca-b294-b7d68c0027c1",
   "metadata": {},
   "outputs": [],
   "source": [
    "class data_science:\n",
    "    \n",
    "    def syallabus(self):\n",
    "        print(\"this is my data science syallabus\")"
   ]
  },
  {
   "cell_type": "code",
   "execution_count": 38,
   "id": "f4e87c0d-667a-44d1-879f-6d1ae6fedd21",
   "metadata": {},
   "outputs": [],
   "source": [
    "class web_dev:\n",
    "    \n",
    "    def syallabus(self):\n",
    "        print(\"this is my syallabus of web development\")"
   ]
  },
  {
   "cell_type": "code",
   "execution_count": 43,
   "id": "72f62ddf-169f-4611-9a77-b3cc0108e045",
   "metadata": {},
   "outputs": [],
   "source": [
    "def class_parcer(class_obj):\n",
    "    for i in class_obj:\n",
    "        i.syallabus()"
   ]
  },
  {
   "cell_type": "code",
   "execution_count": 36,
   "id": "ac5130d4-c214-4e22-8f9c-8f7665aa0165",
   "metadata": {},
   "outputs": [],
   "source": [
    "data_science = data_science()"
   ]
  },
  {
   "cell_type": "code",
   "execution_count": 39,
   "id": "14518cd5-ee2e-4eec-968f-654f868387f4",
   "metadata": {},
   "outputs": [],
   "source": [
    "web_dev = web_dev()"
   ]
  },
  {
   "cell_type": "code",
   "execution_count": 44,
   "id": "f3992145-b811-4512-990f-e60a2fcee86c",
   "metadata": {},
   "outputs": [
    {
     "name": "stdout",
     "output_type": "stream",
     "text": [
      "this is my data science syallabus\n",
      "this is my syallabus of web development\n"
     ]
    }
   ],
   "source": [
    "class_parcer([data_science , web_dev])"
   ]
  },
  {
   "cell_type": "markdown",
   "id": "ccd0d2ce-f943-47a4-8796-38e27c42a7f2",
   "metadata": {},
   "source": [
    "ENCAPSULATION := It is like if we don't want to show the code to the user. for this we have to use __(double)...not _(single) . for example\n",
    "below we have written self.__speed instead of self.speed "
   ]
  },
  {
   "cell_type": "code",
   "execution_count": 2,
   "id": "3491e479-3842-4131-98c4-112907dc5032",
   "metadata": {},
   "outputs": [],
   "source": [
    "#In this what we have done is that first we have created the class nd under this we have created 3 functions\n",
    "#1st function are hidden bcaz we don't want that user see the code\n",
    "#2nd and 3rd function are created for the user so that can modify speed or see the speed\n",
    "class car:\n",
    "    def __init__ (self , speed , model, design , year ):\n",
    "        self.__speed = 0\n",
    "        self.__model = model\n",
    "        self.__design = design\n",
    "        self.__year = year\n",
    "        \n",
    "    def set_speed(self , speed):\n",
    "        self.__speed = 0 if speed < 0 else speed\n",
    "        \n",
    "    def get_speed(self):\n",
    "        return self.__speed\n",
    "        "
   ]
  },
  {
   "cell_type": "code",
   "execution_count": 3,
   "id": "af4efe2f-2763-4af7-970e-5558a4ce016f",
   "metadata": {},
   "outputs": [],
   "source": [
    "car2 = car(34534 , \"G class \" , \"Mercedes\" , 1990)"
   ]
  },
  {
   "cell_type": "code",
   "execution_count": 4,
   "id": "7a52b64b-80fd-4e26-9039-34c3cdd4997e",
   "metadata": {},
   "outputs": [
    {
     "data": {
      "text/plain": [
       "'G class '"
      ]
     },
     "execution_count": 4,
     "metadata": {},
     "output_type": "execute_result"
    }
   ],
   "source": [
    "car2._car__model"
   ]
  },
  {
   "cell_type": "code",
   "execution_count": 6,
   "id": "1b6ab27d-7a05-40eb-aeaf-c9c91c98ae4d",
   "metadata": {},
   "outputs": [],
   "source": [
    "car2.set_speed(10)"
   ]
  },
  {
   "cell_type": "code",
   "execution_count": 10,
   "id": "2ad08a1e-dcad-4292-ae65-f181db409547",
   "metadata": {},
   "outputs": [
    {
     "data": {
      "text/plain": [
       "10"
      ]
     },
     "execution_count": 10,
     "metadata": {},
     "output_type": "execute_result"
    }
   ],
   "source": [
    "car2.get_speed()"
   ]
  },
  {
   "cell_type": "code",
   "execution_count": 1,
   "id": "4657edd7-7495-480e-8dd5-9ac81f8b8d3f",
   "metadata": {},
   "outputs": [],
   "source": [
    "class bank_account:\n",
    "    def __init__(self , balance):\n",
    "        self.__balance = balance\n",
    "        \n",
    "    def deposit(self , amount):\n",
    "        self.__balance = self.__balance + amount  \n",
    "    def withdraw(self , amount):\n",
    "        if self.__balance >= amount:\n",
    "            self.__balance = self.__balance - amount \n",
    "            return True\n",
    "        else:\n",
    "            return False\n",
    "        \n",
    "    def get_balance(self):\n",
    "        return self.__balance\n",
    "        "
   ]
  },
  {
   "cell_type": "code",
   "execution_count": 13,
   "id": "f2e99f97-af44-4f3e-a3a2-c14e519d703a",
   "metadata": {},
   "outputs": [],
   "source": [
    "Taher = bank_account(10000)"
   ]
  },
  {
   "cell_type": "code",
   "execution_count": 14,
   "id": "d7212358-5a75-4d91-84c2-da3cd722fb57",
   "metadata": {},
   "outputs": [],
   "source": [
    "Taher.deposit(5000)"
   ]
  },
  {
   "cell_type": "code",
   "execution_count": 15,
   "id": "e09ac815-f78b-4b54-940f-8e52a79a230d",
   "metadata": {},
   "outputs": [
    {
     "data": {
      "text/plain": [
       "15000"
      ]
     },
     "execution_count": 15,
     "metadata": {},
     "output_type": "execute_result"
    }
   ],
   "source": [
    "Taher.get_balance()"
   ]
  },
  {
   "cell_type": "code",
   "execution_count": 16,
   "id": "442265f3-6a70-40d9-8125-2c0445ed4a45",
   "metadata": {},
   "outputs": [
    {
     "data": {
      "text/plain": [
       "False"
      ]
     },
     "execution_count": 16,
     "metadata": {},
     "output_type": "execute_result"
    }
   ],
   "source": [
    "Taher.withdraw(16000)"
   ]
  },
  {
   "cell_type": "code",
   "execution_count": 17,
   "id": "5e21e57a-931c-4122-a89f-18fbeab20a17",
   "metadata": {},
   "outputs": [
    {
     "data": {
      "text/plain": [
       "True"
      ]
     },
     "execution_count": 17,
     "metadata": {},
     "output_type": "execute_result"
    }
   ],
   "source": [
    "Taher.withdraw(7000)"
   ]
  },
  {
   "cell_type": "code",
   "execution_count": 18,
   "id": "23195218-533b-41f7-af31-9afed2067e14",
   "metadata": {},
   "outputs": [
    {
     "data": {
      "text/plain": [
       "8000"
      ]
     },
     "execution_count": 18,
     "metadata": {},
     "output_type": "execute_result"
    }
   ],
   "source": [
    "Taher.get_balance()"
   ]
  },
  {
   "cell_type": "markdown",
   "id": "ccdf8416-4707-45bb-8eb2-5eb3944e7f7d",
   "metadata": {},
   "source": [
    "INHERITANCE = It means that we are inheriting the parent classs properties in the child class \n"
   ]
  },
  {
   "cell_type": "code",
   "execution_count": 6,
   "id": "ea575c39-7d77-4aec-ad99-9f47d78d5891",
   "metadata": {},
   "outputs": [],
   "source": [
    "class test:\n",
    "    def test_meth(self):                                         #this is parernt class\n",
    "        return \"This is the exaple of inheritance\" "
   ]
  },
  {
   "cell_type": "code",
   "execution_count": 3,
   "id": "429a313c-3ff1-4150-a635-85da8a71d09a",
   "metadata": {},
   "outputs": [],
   "source": [
    "class child_test(test):\n",
    "    pass                                                       #this is child class"
   ]
  },
  {
   "cell_type": "code",
   "execution_count": 4,
   "id": "76d7ed59-b76b-4be2-9c48-56a846cc88bb",
   "metadata": {},
   "outputs": [],
   "source": [
    "child_test_obj = child_test()          #creating the object"
   ]
  },
  {
   "cell_type": "code",
   "execution_count": 7,
   "id": "c9323774-c1c7-40fb-b745-c0a90b8550bd",
   "metadata": {},
   "outputs": [
    {
     "data": {
      "text/plain": [
       "'This is the exaple of inheritance'"
      ]
     },
     "execution_count": 7,
     "metadata": {},
     "output_type": "execute_result"
    }
   ],
   "source": [
    "child_test_obj.test_meth()           #now we can access the data from the parent class"
   ]
  },
  {
   "cell_type": "markdown",
   "id": "69b39438-672d-4b1d-b6b5-5b030c28f0bd",
   "metadata": {},
   "source": [
    "MULTILABEL INHERITANCE = This means we can access 1 class from the another class\n",
    "...in the given below, example is given"
   ]
  },
  {
   "cell_type": "code",
   "execution_count": 11,
   "id": "5beab05b-e16e-409b-82b7-37d4dc27a5de",
   "metadata": {},
   "outputs": [],
   "source": [
    "class class1:\n",
    "    def test_class1(self):                        #first i have created the 1st class\n",
    "        return \"this is my first class\""
   ]
  },
  {
   "cell_type": "code",
   "execution_count": 22,
   "id": "c6bc3c6e-9273-4c3d-854f-4d95d62e12d7",
   "metadata": {},
   "outputs": [],
   "source": [
    "class class2(class1):\n",
    "    def test_class2(self):                           #then i created the second class by taking the first class parameter\n",
    "        return \"this is my second class\"\n",
    "        "
   ]
  },
  {
   "cell_type": "code",
   "execution_count": 21,
   "id": "5f4bf36b-fa66-4288-a64d-0182c982dd17",
   "metadata": {},
   "outputs": [],
   "source": [
    "class class3(class2):\n",
    "    def test_class3(self):                          #last i created the third class by taking the second class parameter\n",
    "        pass"
   ]
  },
  {
   "cell_type": "code",
   "execution_count": 23,
   "id": "eb19d06f-d48e-452c-899b-6e420ddf22aa",
   "metadata": {},
   "outputs": [],
   "source": [
    "class3_obj = class3()                  #creating the object "
   ]
  },
  {
   "cell_type": "code",
   "execution_count": 24,
   "id": "f0af019e-b970-4afb-95b7-b3678f265e17",
   "metadata": {},
   "outputs": [
    {
     "data": {
      "text/plain": [
       "'this is my second class'"
      ]
     },
     "execution_count": 24,
     "metadata": {},
     "output_type": "execute_result"
    }
   ],
   "source": [
    "class3_obj.test_class2()         #now we can call any class by this object"
   ]
  },
  {
   "cell_type": "code",
   "execution_count": 32,
   "id": "fb3c80e5-5829-4c2f-9a0f-0dee2c763108",
   "metadata": {},
   "outputs": [
    {
     "data": {
      "text/plain": [
       "'this is my first class'"
      ]
     },
     "execution_count": 32,
     "metadata": {},
     "output_type": "execute_result"
    }
   ],
   "source": [
    "class3_obj.test_class1()"
   ]
  },
  {
   "cell_type": "markdown",
   "id": "7f32d02d-523e-400c-8b02-ad989a2a5f9e",
   "metadata": {},
   "source": [
    "MULTIPLE CLASS INHERITANCE = It means that we are calling the 2 or more classes in a single class"
   ]
  },
  {
   "cell_type": "code",
   "execution_count": 34,
   "id": "eaf07b95-ef1c-4436-bb96-2fe2ea834403",
   "metadata": {},
   "outputs": [],
   "source": [
    "class class4:\n",
    "    def test_class4(self):\n",
    "        return \"this is my first class in multiple class inheritance\""
   ]
  },
  {
   "cell_type": "code",
   "execution_count": 36,
   "id": "69c3ff6d-ffa0-48a0-95d3-9cb967c0fca3",
   "metadata": {},
   "outputs": [],
   "source": [
    "class class5:\n",
    "    def test_class5(self):\n",
    "        return \"this is my second class in multiple cass inhertitance\""
   ]
  },
  {
   "cell_type": "code",
   "execution_count": 44,
   "id": "935a801b-ef82-43be-a577-a233da257955",
   "metadata": {},
   "outputs": [],
   "source": [
    "class class6(class4 , class5):\n",
    "        pass"
   ]
  },
  {
   "cell_type": "code",
   "execution_count": 45,
   "id": "20e652ce-c066-411b-97d8-cc490a9919cc",
   "metadata": {},
   "outputs": [],
   "source": [
    "obj_class6 = class6()"
   ]
  },
  {
   "cell_type": "code",
   "execution_count": 46,
   "id": "511e6f6c-aa85-4681-8170-21865ddd7521",
   "metadata": {},
   "outputs": [
    {
     "data": {
      "text/plain": [
       "'this is my first class in multiple class inheritance'"
      ]
     },
     "execution_count": 46,
     "metadata": {},
     "output_type": "execute_result"
    }
   ],
   "source": [
    "obj_class3.test_class4()"
   ]
  },
  {
   "cell_type": "code",
   "execution_count": 47,
   "id": "76724650-9336-45d8-9a98-0cd6e0629fde",
   "metadata": {},
   "outputs": [
    {
     "data": {
      "text/plain": [
       "'this is my second class in multiple cass inhertitance'"
      ]
     },
     "execution_count": 47,
     "metadata": {},
     "output_type": "execute_result"
    }
   ],
   "source": [
    "obj_class6.test_class5()"
   ]
  },
  {
   "cell_type": "markdown",
   "id": "062a3898-3844-4758-81a8-1efef8689717",
   "metadata": {},
   "source": [
    "ABSTRACT CLASS"
   ]
  },
  {
   "cell_type": "code",
   "execution_count": 2,
   "id": "e291c27a-ef17-44ed-b7c8-e9e8ca3db585",
   "metadata": {},
   "outputs": [],
   "source": [
    "import abc"
   ]
  },
  {
   "cell_type": "code",
   "execution_count": 3,
   "id": "f6cd40f3-9477-41e6-ba2f-cd6503794f62",
   "metadata": {},
   "outputs": [],
   "source": [
    "class pwskills:\n",
    "    @abc.abstractmethod\n",
    "    def student_details(self):\n",
    "        pass\n",
    "    \n",
    "    @abc.abstractmethod\n",
    "    def student_assignments(self):\n",
    "        pass\n",
    "    \n",
    "    @abc.abstractmethod\n",
    "    def student_marks(self):\n",
    "        pass"
   ]
  },
  {
   "cell_type": "code",
   "execution_count": 4,
   "id": "e2703c57-7676-4c2b-b587-5546c38579a7",
   "metadata": {},
   "outputs": [],
   "source": [
    "class student_details(pwskills):\n",
    "    def student_details(self):\n",
    "        return \"this is the meth for taking the student details\"\n",
    "    def student_assignments(self):\n",
    "        return \"this is the method for taking the student assignments\""
   ]
  },
  {
   "cell_type": "code",
   "execution_count": 8,
   "id": "1d14ef24-acc1-4a35-9a4d-5be5e1d20fc8",
   "metadata": {},
   "outputs": [],
   "source": [
    "dsm1 = student_details()"
   ]
  },
  {
   "cell_type": "code",
   "execution_count": 10,
   "id": "7641c1b9-a479-45ac-969a-6cd5f8b9608e",
   "metadata": {},
   "outputs": [
    {
     "data": {
      "text/plain": [
       "'this is the method for taking the student assignments'"
      ]
     },
     "execution_count": 10,
     "metadata": {},
     "output_type": "execute_result"
    }
   ],
   "source": [
    "dsm1.student_assignments()"
   ]
  },
  {
   "cell_type": "code",
   "execution_count": 5,
   "id": "a4157d46-f973-46db-b888-f02e2d7160d9",
   "metadata": {},
   "outputs": [],
   "source": [
    "class data_science_masters(pwskills):\n",
    "    def student_details(self):\n",
    "        return \"this will return the student details of data science masters\"\n",
    "    def student_assignments(self):\n",
    "        return \"this will return the student asssignments\""
   ]
  },
  {
   "cell_type": "code",
   "execution_count": 6,
   "id": "448fbfc1-248e-4fef-a6e0-956a4a17ec62",
   "metadata": {},
   "outputs": [],
   "source": [
    "dsm = data_science_masters()"
   ]
  },
  {
   "cell_type": "code",
   "execution_count": 11,
   "id": "51afacb8-54ab-4334-8285-2103f60e5023",
   "metadata": {},
   "outputs": [
    {
     "data": {
      "text/plain": [
       "'this will return the student asssignments'"
      ]
     },
     "execution_count": 11,
     "metadata": {},
     "output_type": "execute_result"
    }
   ],
   "source": [
    "dsm.student_assignments()"
   ]
  },
  {
   "cell_type": "markdown",
   "id": "4138611e-2004-411c-b4df-fdc49465fa62",
   "metadata": {},
   "source": [
    "DECORATOR = DECORATES THE FUNCTION"
   ]
  },
  {
   "cell_type": "code",
   "execution_count": 5,
   "id": "6a7e040e-8ec6-4c1b-a637-3dfaaeead90a",
   "metadata": {},
   "outputs": [],
   "source": [
    "def deco(func):\n",
    "    def inner_deco():\n",
    "        print(\"This is the start of my func\")\n",
    "        func()                                                #THIS IS THE DECORATOR OF MY FUNCTION\n",
    "        print(\"Ths is the end of my func\")                       \n",
    "    return inner_deco\n"
   ]
  },
  {
   "cell_type": "code",
   "execution_count": 7,
   "id": "f813da57-c5af-4e25-bf15-347551406ff6",
   "metadata": {},
   "outputs": [],
   "source": [
    "@deco                 #THIS IS THE WAY TO CALL THE DECORATOR FUNCTION\n",
    "def test1():\n",
    "    print(23+42)"
   ]
  },
  {
   "cell_type": "code",
   "execution_count": 8,
   "id": "f5c24c7f-f648-4298-9258-c680096093d6",
   "metadata": {},
   "outputs": [
    {
     "name": "stdout",
     "output_type": "stream",
     "text": [
      "This is the start of my func\n",
      "65\n",
      "Ths is the end of my func\n"
     ]
    }
   ],
   "source": [
    "test1()"
   ]
  },
  {
   "cell_type": "code",
   "execution_count": 5,
   "id": "8317cb77-19d1-4ae4-8866-34c40a4677bf",
   "metadata": {},
   "outputs": [],
   "source": [
    "import time "
   ]
  },
  {
   "cell_type": "code",
   "execution_count": 6,
   "id": "e20cc2f3-67f4-4283-84e2-72e43f2dc77f",
   "metadata": {},
   "outputs": [],
   "source": [
    "def timer_test(func):\n",
    "    def inner_timer_test():\n",
    "        start = time.time()\n",
    "        func()\n",
    "        end = time.time()\n",
    "        print(\"total time to execute this func \", end -start)\n",
    "    return inner_timer_test\n",
    "\n",
    "        "
   ]
  },
  {
   "cell_type": "code",
   "execution_count": 7,
   "id": "e8d6b8f2-7a09-42ff-b436-d6f7eadccc11",
   "metadata": {},
   "outputs": [],
   "source": [
    "@timer_test\n",
    "def test2():\n",
    "    print(\"hfieffioewjfpoefk\")"
   ]
  },
  {
   "cell_type": "code",
   "execution_count": 8,
   "id": "acbb7f9a-bb73-4e44-a0cb-87a843c236ce",
   "metadata": {},
   "outputs": [
    {
     "name": "stdout",
     "output_type": "stream",
     "text": [
      "hfieffioewjfpoefk\n",
      "total time to execute this func  4.887580871582031e-05\n"
     ]
    }
   ],
   "source": [
    "test2()"
   ]
  },
  {
   "cell_type": "code",
   "execution_count": 9,
   "id": "2f28ccc5-1977-44e3-b8f7-0b6b4c3aa968",
   "metadata": {},
   "outputs": [],
   "source": [
    "@timer_test\n",
    "def test3():\n",
    "    for i in range(10000):\n",
    "        pass\n",
    "    \n"
   ]
  },
  {
   "cell_type": "code",
   "execution_count": 10,
   "id": "d3678306-4534-4d76-80d3-6db938ef1826",
   "metadata": {},
   "outputs": [
    {
     "name": "stdout",
     "output_type": "stream",
     "text": [
      "total time to execute this func  0.0002474784851074219\n"
     ]
    }
   ],
   "source": [
    "test3()"
   ]
  },
  {
   "cell_type": "code",
   "execution_count": 13,
   "id": "978e3d3a-2510-47c9-add1-c02f0a165f29",
   "metadata": {},
   "outputs": [],
   "source": [
    "class pwskills:\n",
    "    def __init__(self, name , email):\n",
    "        self.name = name\n",
    "        self.email = email\n",
    "        \n",
    "    def student_details(self):\n",
    "        print(self.name , self.email)"
   ]
  },
  {
   "cell_type": "code",
   "execution_count": 15,
   "id": "e069a0c4-5189-4377-b300-586666668823",
   "metadata": {},
   "outputs": [],
   "source": [
    "pw = pwskills(\"Taher\" , \"taher@gmail.com\")"
   ]
  },
  {
   "cell_type": "code",
   "execution_count": 16,
   "id": "451f85fa-d6c3-45e4-9eda-2ced9c8c7e37",
   "metadata": {},
   "outputs": [
    {
     "data": {
      "text/plain": [
       "'Taher'"
      ]
     },
     "execution_count": 16,
     "metadata": {},
     "output_type": "execute_result"
    }
   ],
   "source": [
    "pw.name"
   ]
  },
  {
   "cell_type": "code",
   "execution_count": 27,
   "id": "c15442e4-7835-42fc-9b51-821e7bd09d5c",
   "metadata": {},
   "outputs": [
    {
     "data": {
      "text/plain": [
       "'taher@gmail.com'"
      ]
     },
     "execution_count": 27,
     "metadata": {},
     "output_type": "execute_result"
    }
   ],
   "source": [
    "pw.email"
   ]
  },
  {
   "cell_type": "code",
   "execution_count": 28,
   "id": "faf46135-343a-4edb-b79d-373980dd06a0",
   "metadata": {},
   "outputs": [
    {
     "name": "stdout",
     "output_type": "stream",
     "text": [
      "Taher taher@gmail.com\n"
     ]
    }
   ],
   "source": [
    "pw.student_details()"
   ]
  },
  {
   "cell_type": "markdown",
   "id": "51345270-ba3c-435d-a33d-daed0909e1d7",
   "metadata": {},
   "source": [
    "Another simple way to create class by using decorators"
   ]
  },
  {
   "cell_type": "code",
   "execution_count": 5,
   "id": "a38ed991-98a9-463f-babe-c10c452694ca",
   "metadata": {},
   "outputs": [],
   "source": [
    "class pwskills:\n",
    "    def __init__(self, name , email):\n",
    "        self.name = name\n",
    "        self.email = email\n",
    "        \n",
    "    @classmethod\n",
    "    def details(cls , name ,email):\n",
    "        return cls(name , email)\n",
    "        \n",
    "    def student_details(self):\n",
    "        print(self.name , self.email)"
   ]
  },
  {
   "cell_type": "code",
   "execution_count": 6,
   "id": "cb50b0a5-e800-48e1-aa31-b474f096a40a",
   "metadata": {},
   "outputs": [],
   "source": [
    "pw2 = pwskills.details(\"Taher\" ,\"fdsfd@gmail.com\")"
   ]
  },
  {
   "cell_type": "code",
   "execution_count": 7,
   "id": "bf81c31b-b316-40de-ac17-5fbf7835aeeb",
   "metadata": {},
   "outputs": [
    {
     "data": {
      "text/plain": [
       "'Taher'"
      ]
     },
     "execution_count": 7,
     "metadata": {},
     "output_type": "execute_result"
    }
   ],
   "source": [
    "pw2.name"
   ]
  },
  {
   "cell_type": "code",
   "execution_count": 8,
   "id": "4eb4d1af-5a99-4840-a22c-b79c00e50345",
   "metadata": {},
   "outputs": [
    {
     "data": {
      "text/plain": [
       "'fdsfd@gmail.com'"
      ]
     },
     "execution_count": 8,
     "metadata": {},
     "output_type": "execute_result"
    }
   ],
   "source": [
    "pw2.email"
   ]
  },
  {
   "cell_type": "code",
   "execution_count": 10,
   "id": "0b60cfb8-291b-4785-ba00-ca16e099d421",
   "metadata": {},
   "outputs": [],
   "source": [
    "class pwskills2:\n",
    "    \n",
    "    mobile_num = 3423423\n",
    "    \n",
    "    @classmethod\n",
    "    def change_mobilenum(cls , mobile):\n",
    "        pwskills2.mobile_num = mobile\n",
    "        \n",
    "    def __init__(self, name , email):\n",
    "        self.name = name\n",
    "        self.email = email\n",
    "        \n",
    "    @classmethod\n",
    "    def details(cls , name ,email):\n",
    "        return cls(name , email)\n",
    "        \n",
    "    def student_details(self):\n",
    "        print(self.name , self.email)"
   ]
  },
  {
   "cell_type": "code",
   "execution_count": 2,
   "id": "ae8fc91a-8679-4b5d-8fa7-5a7ad0dd4346",
   "metadata": {},
   "outputs": [
    {
     "data": {
      "text/plain": [
       "3423423"
      ]
     },
     "execution_count": 2,
     "metadata": {},
     "output_type": "execute_result"
    }
   ],
   "source": [
    "pwskills2.mobile_num"
   ]
  },
  {
   "cell_type": "code",
   "execution_count": 14,
   "id": "fb9a5713-749e-4d64-9961-ad899c15292e",
   "metadata": {},
   "outputs": [],
   "source": [
    "pwskills2.change_mobilenum(886467365)          "
   ]
  },
  {
   "cell_type": "code",
   "execution_count": 15,
   "id": "c5add30f-ae9a-4f1c-bbb5-9283ffbbf8b1",
   "metadata": {},
   "outputs": [
    {
     "data": {
      "text/plain": [
       "886467365"
      ]
     },
     "execution_count": 15,
     "metadata": {},
     "output_type": "execute_result"
    }
   ],
   "source": [
    "pwskills2.mobile_num"
   ]
  },
  {
   "cell_type": "markdown",
   "id": "ff72dced-725d-49f2-8e68-e5d9fabfcd96",
   "metadata": {},
   "source": [
    "We can access the external function into class function"
   ]
  },
  {
   "cell_type": "code",
   "execution_count": 16,
   "id": "4b8056cf-775a-443a-a166-dd90ed36b4fa",
   "metadata": {},
   "outputs": [],
   "source": [
    "class pwskills3:\n",
    "    \n",
    "    mobile_num = 3423423\n",
    "    \n",
    "    @classmethod\n",
    "    def change_mobilenum(cls , mobile):\n",
    "        pwskills2.mobile_num = mobile\n",
    "        \n",
    "    def __init__(self, name , email):\n",
    "        self.name = name\n",
    "        self.email = email\n",
    "        \n",
    "    @classmethod\n",
    "    def details(cls , name ,email):\n",
    "        return cls(name , email)\n",
    "        \n",
    "    def student_details(self):\n",
    "        print(self.name , self.email)"
   ]
  },
  {
   "cell_type": "code",
   "execution_count": 17,
   "id": "29894f97-4604-48c2-a9fa-94191748f406",
   "metadata": {},
   "outputs": [],
   "source": [
    "def course_details(cls , course_name):\n",
    "    print(\"Course name is\" , course_name)"
   ]
  },
  {
   "cell_type": "code",
   "execution_count": 18,
   "id": "c02b1ee3-732e-4bac-9236-9d2b76c37925",
   "metadata": {},
   "outputs": [],
   "source": [
    "pwskills3.course_details = classmethod(course_details)"
   ]
  },
  {
   "cell_type": "code",
   "execution_count": 19,
   "id": "48f9b7ff-2506-4c39-80ff-3596bd220ab6",
   "metadata": {},
   "outputs": [
    {
     "name": "stdout",
     "output_type": "stream",
     "text": [
      "Course name is Data science masters\n"
     ]
    }
   ],
   "source": [
    "pwskills3.course_details(\"Data science masters\")"
   ]
  },
  {
   "cell_type": "code",
   "execution_count": 20,
   "id": "6d692ede-4630-4c49-90cb-76e712ae8a0d",
   "metadata": {},
   "outputs": [],
   "source": [
    "def mentor(cls, list_of_mentor):\n",
    "    print(list_of_mentor)"
   ]
  },
  {
   "cell_type": "code",
   "execution_count": 21,
   "id": "fc392bfc-ac1b-446c-ac41-86f1dab564f7",
   "metadata": {},
   "outputs": [],
   "source": [
    "pwskills3.mentor = classmethod(mentor)"
   ]
  },
  {
   "cell_type": "code",
   "execution_count": 22,
   "id": "4d95b5ad-bef3-46e4-ac9a-f176e3ef9af1",
   "metadata": {},
   "outputs": [
    {
     "name": "stdout",
     "output_type": "stream",
     "text": [
      "['affad', 'eewew']\n"
     ]
    }
   ],
   "source": [
    "pwskills3.mentor([\"affad\", \"eewew\"])"
   ]
  },
  {
   "cell_type": "markdown",
   "id": "e03bd244-c425-4148-9559-3ffed31e4115",
   "metadata": {},
   "source": [
    "Now we can also delete all function inside the class"
   ]
  },
  {
   "cell_type": "code",
   "execution_count": 37,
   "id": "37cf945d-2a4e-4ecf-942d-f051099b39ec",
   "metadata": {},
   "outputs": [],
   "source": [
    "class pwskills4:\n",
    "    \n",
    "    mobile_num = 3423423\n",
    "    \n",
    "    @classmethod\n",
    "    def change_mobilenum(cls , mobile):\n",
    "        pwskills2.mobile_num = mobile\n",
    "        \n",
    "    def __init__(self, name , email):\n",
    "        self.name = name\n",
    "        self.email = email\n",
    "        \n",
    "    @classmethod\n",
    "    def details(cls , name ,email):\n",
    "        return cls(name , email)\n",
    "        \n",
    "    def student_details(self):\n",
    "        print(self.name , self.email)"
   ]
  },
  {
   "cell_type": "code",
   "execution_count": 38,
   "id": "e58cb65f-ad43-45a5-8176-1dc07e860315",
   "metadata": {},
   "outputs": [],
   "source": [
    "pwskills4.change_mobilenum(34534546)      #currently this function is present in the pwskills4"
   ]
  },
  {
   "cell_type": "code",
   "execution_count": 39,
   "id": "34677252-765b-4c26-8290-2127ae58812a",
   "metadata": {},
   "outputs": [],
   "source": [
    "del pwskills4.change_mobilenum   #now we are deleting the function change_mobilenum"
   ]
  },
  {
   "cell_type": "code",
   "execution_count": 40,
   "id": "07e7759f-ce98-42b3-bac7-1fafb7d957c9",
   "metadata": {},
   "outputs": [
    {
     "ename": "AttributeError",
     "evalue": "type object 'pwskills4' has no attribute 'change_mobilenum'",
     "output_type": "error",
     "traceback": [
      "\u001b[0;31m---------------------------------------------------------------------------\u001b[0m",
      "\u001b[0;31mAttributeError\u001b[0m                            Traceback (most recent call last)",
      "Cell \u001b[0;32mIn[40], line 1\u001b[0m\n\u001b[0;32m----> 1\u001b[0m \u001b[43mpwskills4\u001b[49m\u001b[38;5;241;43m.\u001b[39;49m\u001b[43mchange_mobilenum\u001b[49m(\u001b[38;5;241m6765533\u001b[39m)     \u001b[38;5;66;03m#hence function is deleted\u001b[39;00m\n",
      "\u001b[0;31mAttributeError\u001b[0m: type object 'pwskills4' has no attribute 'change_mobilenum'"
     ]
    }
   ],
   "source": [
    "pwskills4.change_mobilenum(6765533)     #hence function is deleted"
   ]
  },
  {
   "cell_type": "markdown",
   "id": "2a359e4f-ce06-48bf-be68-3a4c85a2c81e",
   "metadata": {},
   "source": [
    "Another way of deleting the function in class"
   ]
  },
  {
   "cell_type": "code",
   "execution_count": 41,
   "id": "43842425-4fbe-476c-93c4-e9459372a50d",
   "metadata": {},
   "outputs": [],
   "source": [
    "delattr(pwskills4 , \"details\") #details function is deleted from the pwskills4"
   ]
  },
  {
   "cell_type": "markdown",
   "id": "9a9b56c2-3829-4553-a10e-c6ba14fa0977",
   "metadata": {},
   "source": [
    "Static Method = It is a method in which we don't have the create the object to call the function "
   ]
  },
  {
   "cell_type": "code",
   "execution_count": 48,
   "id": "71abfccd-ec75-4261-8d67-f945de4ebdc3",
   "metadata": {},
   "outputs": [],
   "source": [
    "class pwskills:\n",
    "    def student_details(self, name, emailid, number):\n",
    "        print(name , emailid , number)"
   ]
  },
  {
   "cell_type": "code",
   "execution_count": 49,
   "id": "58848a2e-ed00-4e83-8044-89fa7ce3321a",
   "metadata": {},
   "outputs": [],
   "source": [
    "pw = pwskills()"
   ]
  },
  {
   "cell_type": "code",
   "execution_count": 50,
   "id": "2a6b7bf8-c57a-4e9f-915e-248aeb1bcbb2",
   "metadata": {},
   "outputs": [
    {
     "name": "stdout",
     "output_type": "stream",
     "text": [
      "Taher dfgfg@gmail.com 673735673\n"
     ]
    }
   ],
   "source": [
    "pw.student_details(\"Taher\" , \"dfgfg@gmail.com\" , 673735673)"
   ]
  },
  {
   "cell_type": "code",
   "execution_count": 54,
   "id": "89027b39-12a8-4537-86a9-bd14b6417d0e",
   "metadata": {},
   "outputs": [],
   "source": [
    "class pwskills:\n",
    "    def student_details(self, name, emailid, number):\n",
    "        print(name , emailid , number)\n",
    "        \n",
    "    @staticmethod\n",
    "    def mentor_class(list_mentor):\n",
    "        print(list_mentor)"
   ]
  },
  {
   "cell_type": "code",
   "execution_count": 55,
   "id": "f1225118-2934-45d9-a12d-e5c7c1221b5f",
   "metadata": {},
   "outputs": [
    {
     "name": "stdout",
     "output_type": "stream",
     "text": [
      "['taher', 'gfdgds']\n"
     ]
    }
   ],
   "source": [
    "pwskills.mentor_class([\"taher\" , \"gfdgds\"]) #here we didn't created the object"
   ]
  },
  {
   "cell_type": "code",
   "execution_count": 60,
   "id": "80648fd9-c3fe-43cc-841c-0486d5f31d4e",
   "metadata": {},
   "outputs": [],
   "source": [
    "class pwskills2:\n",
    "    def student_details(self, name, emailid, number):\n",
    "        print(name , emailid , number)\n",
    "        \n",
    "    @staticmethod\n",
    "    def mentor_mail_id(mail_id_mentor):\n",
    "        print(mail_id_mentor)\n",
    "        \n",
    "    @staticmethod\n",
    "    def mentor_class(list_mentor):\n",
    "        pwskills2.mentor_mail_id([\"dfafa@gmail.com\" , \"dfgad@gmail.com\"])       #calling static method in the static method\n",
    "        print(list_mentor)\n",
    "        \n",
    "    @classmethod\n",
    "    def class_name(cls):\n",
    "        cls.mentor_class([\"Taher\" , \"Ahmed\"])       #calling static method in the class method\n",
    "        \n",
    "    def mentor(self , mentor_list):\n",
    "        print(mentor_list)                   #calling static method in the instance method\n",
    "        self.mentor_class([\"dgzfgz\" , \"fgfga\"])"
   ]
  },
  {
   "cell_type": "code",
   "execution_count": 58,
   "id": "5e66e94d-f700-4ae1-b979-bbdafa87198c",
   "metadata": {},
   "outputs": [
    {
     "name": "stdout",
     "output_type": "stream",
     "text": [
      "['dfafa@gmail.com', 'dfgad@gmail.com']\n",
      "['dfdsfsd', 'reqffed']\n"
     ]
    }
   ],
   "source": [
    "pwskills2.mentor_class([\"dfdsfsd\" , \"reqffed\"])"
   ]
  },
  {
   "cell_type": "code",
   "execution_count": 61,
   "id": "be433c75-fb96-4e61-bab5-650e25e61797",
   "metadata": {},
   "outputs": [],
   "source": [
    "pw2 = pwskills2()"
   ]
  },
  {
   "cell_type": "code",
   "execution_count": 62,
   "id": "7d023e01-912e-4078-b7fb-de6dbb4fd4da",
   "metadata": {},
   "outputs": [
    {
     "name": "stdout",
     "output_type": "stream",
     "text": [
      "['sdfadsf', 'sdfdsfds']\n",
      "['dfafa@gmail.com', 'dfgad@gmail.com']\n",
      "['dgzfgz', 'fgfga']\n"
     ]
    }
   ],
   "source": [
    "pw2.mentor([\"sdfadsf\" , \"sdfdsfds\"])"
   ]
  },
  {
   "cell_type": "markdown",
   "id": "fddb0596-3dbb-4e1f-bc3d-f55fb825539b",
   "metadata": {},
   "source": [
    "DUNDER OR SPECIAL MAGIC"
   ]
  },
  {
   "cell_type": "code",
   "execution_count": 1,
   "id": "9949579a-3572-4492-9680-5fa7667e2dc1",
   "metadata": {},
   "outputs": [
    {
     "data": {
      "text/plain": [
       "['__abs__',\n",
       " '__add__',\n",
       " '__and__',\n",
       " '__bool__',\n",
       " '__ceil__',\n",
       " '__class__',\n",
       " '__delattr__',\n",
       " '__dir__',\n",
       " '__divmod__',\n",
       " '__doc__',\n",
       " '__eq__',\n",
       " '__float__',\n",
       " '__floor__',\n",
       " '__floordiv__',\n",
       " '__format__',\n",
       " '__ge__',\n",
       " '__getattribute__',\n",
       " '__getnewargs__',\n",
       " '__gt__',\n",
       " '__hash__',\n",
       " '__index__',\n",
       " '__init__',\n",
       " '__init_subclass__',\n",
       " '__int__',\n",
       " '__invert__',\n",
       " '__le__',\n",
       " '__lshift__',\n",
       " '__lt__',\n",
       " '__mod__',\n",
       " '__mul__',\n",
       " '__ne__',\n",
       " '__neg__',\n",
       " '__new__',\n",
       " '__or__',\n",
       " '__pos__',\n",
       " '__pow__',\n",
       " '__radd__',\n",
       " '__rand__',\n",
       " '__rdivmod__',\n",
       " '__reduce__',\n",
       " '__reduce_ex__',\n",
       " '__repr__',\n",
       " '__rfloordiv__',\n",
       " '__rlshift__',\n",
       " '__rmod__',\n",
       " '__rmul__',\n",
       " '__ror__',\n",
       " '__round__',\n",
       " '__rpow__',\n",
       " '__rrshift__',\n",
       " '__rshift__',\n",
       " '__rsub__',\n",
       " '__rtruediv__',\n",
       " '__rxor__',\n",
       " '__setattr__',\n",
       " '__sizeof__',\n",
       " '__str__',\n",
       " '__sub__',\n",
       " '__subclasshook__',\n",
       " '__truediv__',\n",
       " '__trunc__',\n",
       " '__xor__',\n",
       " 'as_integer_ratio',\n",
       " 'bit_count',\n",
       " 'bit_length',\n",
       " 'conjugate',\n",
       " 'denominator',\n",
       " 'from_bytes',\n",
       " 'imag',\n",
       " 'numerator',\n",
       " 'real',\n",
       " 'to_bytes']"
      ]
     },
     "execution_count": 1,
     "metadata": {},
     "output_type": "execute_result"
    }
   ],
   "source": [
    "dir(int)"
   ]
  },
  {
   "cell_type": "code",
   "execution_count": 2,
   "id": "2e54923a-ea6e-4cf6-89d2-39294aaf290b",
   "metadata": {},
   "outputs": [
    {
     "data": {
      "text/plain": [
       "['__add__',\n",
       " '__class__',\n",
       " '__contains__',\n",
       " '__delattr__',\n",
       " '__dir__',\n",
       " '__doc__',\n",
       " '__eq__',\n",
       " '__format__',\n",
       " '__ge__',\n",
       " '__getattribute__',\n",
       " '__getitem__',\n",
       " '__getnewargs__',\n",
       " '__gt__',\n",
       " '__hash__',\n",
       " '__init__',\n",
       " '__init_subclass__',\n",
       " '__iter__',\n",
       " '__le__',\n",
       " '__len__',\n",
       " '__lt__',\n",
       " '__mod__',\n",
       " '__mul__',\n",
       " '__ne__',\n",
       " '__new__',\n",
       " '__reduce__',\n",
       " '__reduce_ex__',\n",
       " '__repr__',\n",
       " '__rmod__',\n",
       " '__rmul__',\n",
       " '__setattr__',\n",
       " '__sizeof__',\n",
       " '__str__',\n",
       " '__subclasshook__',\n",
       " 'capitalize',\n",
       " 'casefold',\n",
       " 'center',\n",
       " 'count',\n",
       " 'encode',\n",
       " 'endswith',\n",
       " 'expandtabs',\n",
       " 'find',\n",
       " 'format',\n",
       " 'format_map',\n",
       " 'index',\n",
       " 'isalnum',\n",
       " 'isalpha',\n",
       " 'isascii',\n",
       " 'isdecimal',\n",
       " 'isdigit',\n",
       " 'isidentifier',\n",
       " 'islower',\n",
       " 'isnumeric',\n",
       " 'isprintable',\n",
       " 'isspace',\n",
       " 'istitle',\n",
       " 'isupper',\n",
       " 'join',\n",
       " 'ljust',\n",
       " 'lower',\n",
       " 'lstrip',\n",
       " 'maketrans',\n",
       " 'partition',\n",
       " 'removeprefix',\n",
       " 'removesuffix',\n",
       " 'replace',\n",
       " 'rfind',\n",
       " 'rindex',\n",
       " 'rjust',\n",
       " 'rpartition',\n",
       " 'rsplit',\n",
       " 'rstrip',\n",
       " 'split',\n",
       " 'splitlines',\n",
       " 'startswith',\n",
       " 'strip',\n",
       " 'swapcase',\n",
       " 'title',\n",
       " 'translate',\n",
       " 'upper',\n",
       " 'zfill']"
      ]
     },
     "execution_count": 2,
     "metadata": {},
     "output_type": "execute_result"
    }
   ],
   "source": [
    "dir(str)"
   ]
  },
  {
   "cell_type": "code",
   "execution_count": 23,
   "id": "677f1fb8-f1e2-4ddd-8dea-b8ff701f1153",
   "metadata": {},
   "outputs": [],
   "source": [
    "a = 100"
   ]
  },
  {
   "cell_type": "code",
   "execution_count": 26,
   "id": "ac58a8b1-19d9-4298-b7c8-d90468fae917",
   "metadata": {},
   "outputs": [
    {
     "data": {
      "text/plain": [
       "105"
      ]
     },
     "execution_count": 26,
     "metadata": {},
     "output_type": "execute_result"
    }
   ],
   "source": [
    "a.__add__(5)   #it is caled dunder"
   ]
  },
  {
   "cell_type": "code",
   "execution_count": 6,
   "id": "63c9bffe-e941-47ef-999b-e5423ee076be",
   "metadata": {},
   "outputs": [],
   "source": [
    "class pwskills:\n",
    "    def __new__(cls):\n",
    "        print(\"This is my new\")\n",
    "        \n",
    "    def __init__(self):\n",
    "        print(\"this is my init\")\n",
    "        \n",
    "        self.mobile_number = 8743573410"
   ]
  },
  {
   "cell_type": "code",
   "execution_count": 7,
   "id": "77ec6249-b944-42b1-bf83-6b05163fc7b7",
   "metadata": {},
   "outputs": [
    {
     "name": "stdout",
     "output_type": "stream",
     "text": [
      "This is my new\n"
     ]
    }
   ],
   "source": [
    "pdfg = pwskills()    #new is called first than init\""
   ]
  },
  {
   "cell_type": "code",
   "execution_count": 1,
   "id": "dd058789-6459-4648-9771-ce6afb26a8db",
   "metadata": {},
   "outputs": [],
   "source": [
    "class pwskills1:\n",
    "    def __init__(self):\n",
    "        self.mobile_number = 7868765\n",
    "        \n",
    "    def __str__(self):\n",
    "        return \"this is my mAGIC CALL of str\"\n",
    "        "
   ]
  },
  {
   "cell_type": "code",
   "execution_count": 2,
   "id": "2b0b4dcd-5f5d-469e-a9dd-26a27bd118c5",
   "metadata": {},
   "outputs": [],
   "source": [
    "pw1 = pwskills1()"
   ]
  },
  {
   "cell_type": "code",
   "execution_count": 3,
   "id": "029e6459-e1d8-4190-bd20-7845eb77f368",
   "metadata": {},
   "outputs": [
    {
     "data": {
      "text/plain": [
       "<__main__.pwskills1 at 0x7fd874ef2560>"
      ]
     },
     "execution_count": 3,
     "metadata": {},
     "output_type": "execute_result"
    }
   ],
   "source": [
    "pw1"
   ]
  },
  {
   "cell_type": "code",
   "execution_count": 4,
   "id": "4753903a-d112-407a-9511-abdf5dd99e84",
   "metadata": {},
   "outputs": [
    {
     "name": "stdout",
     "output_type": "stream",
     "text": [
      "this is my mAGIC CALL of str\n"
     ]
    }
   ],
   "source": [
    "print(pw1)"
   ]
  },
  {
   "cell_type": "markdown",
   "id": "ef3e45d6-1046-4353-a91d-271d15e39b8b",
   "metadata": {},
   "source": [
    "Property Decorator := This is used to modify or delete or to access the priavte variable by the users"
   ]
  },
  {
   "cell_type": "code",
   "execution_count": 94,
   "id": "0f4192c9-df78-4397-842d-30e5a64ce811",
   "metadata": {},
   "outputs": [],
   "source": [
    "class pwskills:\n",
    "    def __init__(self , course_price , course_name):\n",
    "        self.__course_price = course_price        #now the variable is private by using __(2 times)\n",
    "        self.course_name = course_name\n",
    "        \n",
    "    @property\n",
    "    def course_price_access(self):\n",
    "        return self.__course_price\n",
    "    \n",
    "    @course_price_access.setter     #setter is used to set the private variables\n",
    "    def course_price_set(self , course_price):\n",
    "        if course_price <= 3500:\n",
    "            pass\n",
    "        else:\n",
    "            self.__course_price = course_price\n",
    "            \n",
    "    @course_price_access.deleter         #to delete the private variable\n",
    "    def course_price_del(self):\n",
    "        del self.__course_price"
   ]
  },
  {
   "cell_type": "code",
   "execution_count": 95,
   "id": "385f1ce1-32e6-4855-b0f0-1d83ad919cd9",
   "metadata": {},
   "outputs": [],
   "source": [
    "pw = pwskills(3500 , \"Data Science Masters\")\n"
   ]
  },
  {
   "cell_type": "code",
   "execution_count": 96,
   "id": "1acea0bb-ae35-4371-aabd-bb2b63fddc24",
   "metadata": {},
   "outputs": [
    {
     "data": {
      "text/plain": [
       "3500"
      ]
     },
     "execution_count": 96,
     "metadata": {},
     "output_type": "execute_result"
    }
   ],
   "source": [
    "pw._pwskills__course_price        #to access the private variable"
   ]
  },
  {
   "cell_type": "code",
   "execution_count": 97,
   "id": "a80a00bc-2ddc-4131-baf9-0fffaa823fe3",
   "metadata": {},
   "outputs": [
    {
     "data": {
      "text/plain": [
       "'Data Science Masters'"
      ]
     },
     "execution_count": 97,
     "metadata": {},
     "output_type": "execute_result"
    }
   ],
   "source": [
    "pw.course_name"
   ]
  },
  {
   "cell_type": "code",
   "execution_count": 98,
   "id": "003285bd-6b64-408b-9f9d-68daab220b5f",
   "metadata": {},
   "outputs": [],
   "source": [
    "pw.course_price_set = 5000"
   ]
  },
  {
   "cell_type": "code",
   "execution_count": 99,
   "id": "b0905926-81f4-46d5-bc6d-81ebe02e0fff",
   "metadata": {},
   "outputs": [
    {
     "data": {
      "text/plain": [
       "5000"
      ]
     },
     "execution_count": 99,
     "metadata": {},
     "output_type": "execute_result"
    }
   ],
   "source": [
    "pw.course_price_access"
   ]
  },
  {
   "cell_type": "code",
   "execution_count": 100,
   "id": "6664bdf2-d4b6-4a95-a1a3-a54aa8cd5864",
   "metadata": {},
   "outputs": [],
   "source": [
    "del pw.course_price_del   #deleted now"
   ]
  },
  {
   "cell_type": "code",
   "execution_count": 101,
   "id": "5e650259-3554-482f-99c6-096e06e08600",
   "metadata": {},
   "outputs": [
    {
     "ename": "AttributeError",
     "evalue": "'pwskills' object has no attribute '_pwskills__course_price'",
     "output_type": "error",
     "traceback": [
      "\u001b[0;31m---------------------------------------------------------------------------\u001b[0m",
      "\u001b[0;31mAttributeError\u001b[0m                            Traceback (most recent call last)",
      "Cell \u001b[0;32mIn[101], line 1\u001b[0m\n\u001b[0;32m----> 1\u001b[0m \u001b[43mpw\u001b[49m\u001b[38;5;241;43m.\u001b[39;49m\u001b[43mcourse_price_access\u001b[49m       \u001b[38;5;66;03m#see now self.__course_price is not availabe\u001b[39;00m\n",
      "Cell \u001b[0;32mIn[94], line 8\u001b[0m, in \u001b[0;36mpwskills.course_price_access\u001b[0;34m(self)\u001b[0m\n\u001b[1;32m      6\u001b[0m \u001b[38;5;129m@property\u001b[39m\n\u001b[1;32m      7\u001b[0m \u001b[38;5;28;01mdef\u001b[39;00m \u001b[38;5;21mcourse_price_access\u001b[39m(\u001b[38;5;28mself\u001b[39m):\n\u001b[0;32m----> 8\u001b[0m     \u001b[38;5;28;01mreturn\u001b[39;00m \u001b[38;5;28;43mself\u001b[39;49m\u001b[38;5;241;43m.\u001b[39;49m\u001b[43m__course_price\u001b[49m\n",
      "\u001b[0;31mAttributeError\u001b[0m: 'pwskills' object has no attribute '_pwskills__course_price'"
     ]
    }
   ],
   "source": [
    "pw.course_price_access       #see now self.__course_price is not availabe"
   ]
  },
  {
   "cell_type": "code",
   "execution_count": null,
   "id": "992e2cf8-2987-4fa1-a6ed-6f9e69fc3f01",
   "metadata": {},
   "outputs": [],
   "source": []
  },
  {
   "cell_type": "code",
   "execution_count": null,
   "id": "24329589-d8ef-47e4-b939-990070905c4a",
   "metadata": {},
   "outputs": [],
   "source": []
  },
  {
   "cell_type": "code",
   "execution_count": null,
   "id": "bcd93dd0-076f-43ab-b2df-31ceacd174f3",
   "metadata": {},
   "outputs": [],
   "source": []
  }
 ],
 "metadata": {
  "kernelspec": {
   "display_name": "Python 3 (ipykernel)",
   "language": "python",
   "name": "python3"
  },
  "language_info": {
   "codemirror_mode": {
    "name": "ipython",
    "version": 3
   },
   "file_extension": ".py",
   "mimetype": "text/x-python",
   "name": "python",
   "nbconvert_exporter": "python",
   "pygments_lexer": "ipython3",
   "version": "3.10.8"
  }
 },
 "nbformat": 4,
 "nbformat_minor": 5
}
